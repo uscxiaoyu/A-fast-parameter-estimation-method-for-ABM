{
 "cells": [
  {
   "cell_type": "code",
   "execution_count": 1,
   "metadata": {},
   "outputs": [
    {
     "name": "stdout",
     "output_type": "stream",
     "text": [
      "Populating the interactive namespace from numpy and matplotlib\n"
     ]
    }
   ],
   "source": [
    "%pylab inline\n",
    "from __future__ import division\n",
    "from copy import deepcopy as dc\n",
    "import statsmodels.formula.api as smf\n",
    "import numpy as np\n",
    "import random as rd\n",
    "import pylab as pl\n",
    "import pandas as pd\n",
    "import networkx as nx\n",
    "import time\n",
    "pl.rcParams.update({'font.size':15,'font.family':\"STIXGeneral\",'mathtext.fontset':'stix'})"
   ]
  },
  {
   "cell_type": "code",
   "execution_count": 2,
   "metadata": {},
   "outputs": [],
   "source": [
    "class Diffuse: #默认网络结构为节点数量为10000，边为60000的单向随机网络\n",
    "    G = nx.gnm_random_graph(10000,30000).to_directed()\n",
    "    repetes = 10 #默认多次扩散重复次数\n",
    "    v1 = 0\n",
    "    v2 = 0\n",
    "    def __init__(self,p,q,num_runs):\n",
    "        self.num_runs = num_runs\n",
    "        self.DG = dc(self.G) #取网络的深层copy，以使原网络不被“污染”\n",
    "        self.p = p\n",
    "        self.q = q\n",
    "        for i in self.DG.nodes():\n",
    "            self.DG[i]['prede'] = self.DG.predecessors(i)\n",
    "        \n",
    "    def decision(self,i): #个体状态决策规则\n",
    "        influ = len([k for k in self.DG[i].get('prede',[]) if self.DG[k]['state'] == 1])           \n",
    "        prob = self.DG[i]['p'] + self.DG[i]['q']*influ\n",
    "        if rd.random() <= prob:\n",
    "            return True\n",
    "        else:\n",
    "            return False\n",
    "        \n",
    "    def single_diffuse(self): #单次扩散\n",
    "        for i in self.DG.nodes():\n",
    "            self.DG[i]['state'] = 0\n",
    "            self.DG[i]['p'] = self.p*(1+self.v1*np.random.randn())\n",
    "            self.DG[i]['q'] = self.q*(1+self.v2*np.random.randn())\n",
    "            \n",
    "        non_adopt_set = [i for i in self.DG.nodes() if self.DG[i]['state'] == 0]\n",
    "        num_of_adopt = []\n",
    "        j = 1 \n",
    "        while j <= self.num_runs:                                 \n",
    "            x = 0\n",
    "            rd.shuffle(non_adopt_set)\n",
    "            for i in non_adopt_set:                   \n",
    "                if self.decision(i):\n",
    "                    self.DG[i]['state'] = 1\n",
    "                    non_adopt_set.remove(i)\n",
    "                    x = x+1\n",
    "            num_of_adopt.append(x)\n",
    "            j = j+1\n",
    "\n",
    "        return num_of_adopt\n",
    "    \n",
    "    def repete_diffuse(self): #多次扩散\n",
    "        adopt_cont = []\n",
    "        for i in range(self.repetes):\n",
    "            num_of_adopt = self.single_diffuse()\n",
    "            adopt_cont.append(num_of_adopt)\n",
    "        return adopt_cont"
   ]
  },
  {
   "cell_type": "markdown",
   "metadata": {},
   "source": [
    "### 生成扩散数据集，用于拟合数据"
   ]
  },
  {
   "cell_type": "code",
   "execution_count": 3,
   "metadata": {
    "collapsed": true
   },
   "outputs": [],
   "source": [
    "pq_range = [(i,j) for i in np.arange(0.0005,0.0255,0.001) for j in np.arange(0.02,0.2,0.003)] #25*60=1500"
   ]
  },
  {
   "cell_type": "code",
   "execution_count": null,
   "metadata": {},
   "outputs": [],
   "source": [
    "sigma_cont = [0.1,0.2,0.4,0.6,0.8,1,1.2]\n",
    "for sigma in sigma_cont:\n",
    "    time1 = time.clock()\n",
    "    print '-------------------%s---------------------'%sigma\n",
    "    diff_cont =[]\n",
    "    k = 1\n",
    "    for p,q in pq_range:\n",
    "        diff = Diffuse(p,q,25)\n",
    "        diff.v1,diff.v2 = sigma,sigma\n",
    "        temp = diff.repete_diffuse()\n",
    "        x = np.mean(temp,axis=0)\n",
    "        x = np.insert(x,0,[p,q])\n",
    "        diff_cont.append(x)\n",
    "        k = k+1\n",
    "        if k in [100,400,800,1200,1400]:\n",
    "            print '        sigma=%s'%sigma,k,'runs:',time.clock()-time1,'s'\n",
    "            time1 = time.clock()\n",
    "        \n",
    "    to_write = np.array(diff_cont)\n",
    "    np.save(\"diffusion data set for sigma-%s\"%sigma,to_write)"
   ]
  },
  {
   "cell_type": "code",
   "execution_count": 133,
   "metadata": {},
   "outputs": [
    {
     "name": "stdout",
     "output_type": "stream",
     "text": [
      "20\n"
     ]
    },
    {
     "data": {
      "text/plain": [
       "<matplotlib.text.Text at 0x28c32898>"
      ]
     },
     "execution_count": 133,
     "metadata": {},
     "output_type": "execute_result"
    },
    {
     "data": {
      "image/png": "[encoded data removed]",
      "text/plain": [
       "<matplotlib.figure.Figure at 0x18d7a5c0>"
      ]
     },
     "metadata": {},
     "output_type": "display_data"
    }
   ],
   "source": [
    "mean_a = np.mean(a,axis=0)\n",
    "print np.argmax(mean_a)+1\n",
    "for x in a:\n",
    "    pl.scatter(np.arange(1,31),x,s=10,marker='o',c='b',alpha=0.5)\n",
    "pl.plot(np.arange(1,31),mean_a,'r',lw=2,alpha=0.6)\n",
    "pl.xlim(1,31)\n",
    "pl.ylim(0,np.max(a))\n",
    "pl.xlabel('STEP')\n",
    "pl.ylabel('NUMBER OF ADOPTION')"
   ]
  }
 ],
 "metadata": {
  "kernelspec": {
   "display_name": "python37",
   "language": "python",
   "name": "python37"
  },
  "language_info": {
   "codemirror_mode": {
    "name": "ipython",
    "version": 3
   },
   "file_extension": ".py",
   "mimetype": "text/x-python",
   "name": "python",
   "nbconvert_exporter": "python",
   "pygments_lexer": "ipython3",
   "version": "3.7.0"
  }
 },
 "nbformat": 4,
 "nbformat_minor": 1
}
