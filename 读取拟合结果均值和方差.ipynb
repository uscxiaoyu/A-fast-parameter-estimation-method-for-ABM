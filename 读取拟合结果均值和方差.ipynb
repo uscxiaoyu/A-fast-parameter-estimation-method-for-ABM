{
 "cells": [
  {
   "cell_type": "code",
   "execution_count": 1,
   "metadata": {
    "collapsed": true
   },
   "outputs": [],
   "source": [
    "import numpy as np\n",
    "import pickle"
   ]
  },
  {
   "cell_type": "code",
   "execution_count": 18,
   "metadata": {
    "collapsed": true
   },
   "outputs": [],
   "source": [
    "ABM_cont = ['log','ba','er','ws0','ws0.1','ws0.3','ws0.5','ws0.7','ws0.9']"
   ]
  },
  {
   "cell_type": "code",
   "execution_count": 33,
   "metadata": {
    "collapsed": true
   },
   "outputs": [],
   "source": [
    "def calcu_mean_std(k):\n",
    "    t_cont = ['p,q,m','steps','R2','p0,q0']\n",
    "    print 'model\\t p\\t q\\t m\\t opints\\t r2\\t p0\\t q0\\t'\n",
    "    for abm in ABM_cont:\n",
    "        f = open('10 estimation for %s(%s).txt'%(k,abm),'r')\n",
    "        d = f.read()\n",
    "        e_dict = pickle.loads(d)\n",
    "        f.close()\n",
    "        \n",
    "        params = []\n",
    "        steps = []\n",
    "        r2 = []\n",
    "        pq0_cont = []\n",
    "        for i in range(10):\n",
    "            params.append(e_dict[i]['params'])\n",
    "            r2.append(e_dict[i]['fitness'])\n",
    "            steps.append(e_dict[i]['steps'])\n",
    "            pq0_cont.append(e_dict[i]['pq0'])\n",
    "        \n",
    "        mean_params = np.mean(params,axis=0)\n",
    "        std_params = np.std(params,axis=0)\n",
    "        \n",
    "        mean_steps = np.mean(steps)\n",
    "        std_steps = np.std(steps)\n",
    "        \n",
    "        mean_r2= np.mean(r2)\n",
    "        std_r2 = np.std(r2)\n",
    "        \n",
    "        mean_pq0 =  np.mean(pq0_cont,axis=0)\n",
    "        std_pq0 = np.std(pq0_cont,axis=0)\n",
    "        \n",
    "        print  '--------------------------------------------------------------------------------------------------------'\n",
    "        print '%s(mean)|\\t %.5f\\t  %.5f\\t %d\\t %.2f\\t %.4f\\t %.4f\\t  %.4f\\t'%(abm,mean_params[0],mean_params[1],mean_params[2],mean_steps,mean_r2,mean_pq0[0],mean_pq0[1])\n",
    "        print '%s(std)     |\\t %.5f\\t  %.5f\\t %d\\t %.2f\\t %.4f\\t %.4f\\t  %.4f\\t'%(abm,std_params[0],std_params[1],std_params[2],std_steps,std_r2,std_pq0[0],std_pq0[1])"
   ]
  },
  {
   "cell_type": "code",
   "execution_count": 34,
   "metadata": {},
   "outputs": [
    {
     "name": "stdout",
     "output_type": "stream",
     "text": [
      "model\t p\t q\t m\t opints\t r2\t p0\t q0\t\n",
      "--------------------------------------------------------------------------------------------------------\n",
      "ba(mean)|\t 0.00712\t  0.09262\t 51299\t 38.50\t 0.9835\t 0.0092\t  0.0721\t\n",
      "ba(std)     |\t 0.00113\t  0.00322\t 1014\t 6.10\t 0.0011\t 0.0005\t  0.0010\t\n",
      "--------------------------------------------------------------------------------------------------------\n",
      "er(mean)|\t 0.01416\t  0.12662\t 44108\t 34.00\t 0.9789\t 0.0162\t  0.1121\t\n",
      "er(std)     |\t 0.00119\t  0.00559\t 927\t 7.84\t 0.0018\t 0.0007\t  0.0021\t\n",
      "--------------------------------------------------------------------------------------------------------\n",
      "ws0(mean)|\t 0.01175\t  0.15577\t 60874\t 42.00\t 0.9216\t 0.0081\t  0.1338\t\n",
      "ws0(std)     |\t 0.00096\t  0.01254\t 2131\t 10.12\t 0.0044\t 0.0018\t  0.0017\t\n",
      "--------------------------------------------------------------------------------------------------------\n",
      "ws0.1(mean)|\t 0.01082\t  0.18879\t 44610\t 72.20\t 0.9695\t 0.0119\t  0.1313\t\n",
      "ws0.1(std)     |\t 0.00251\t  0.02636\t 2141\t 25.96\t 0.0120\t 0.0017\t  0.0037\t\n",
      "--------------------------------------------------------------------------------------------------------\n",
      "ws0.3(mean)|\t 0.01216\t  0.15877\t 41946\t 52.10\t 0.9804\t 0.0141\t  0.1243\t\n",
      "ws0.3(std)     |\t 0.00103\t  0.00673\t 798\t 9.13\t 0.0030\t 0.0010\t  0.0031\t\n",
      "--------------------------------------------------------------------------------------------------------\n",
      "ws0.5(mean)|\t 0.01326\t  0.14619\t 41793\t 40.30\t 0.9796\t 0.0158\t  0.1217\t\n",
      "ws0.5(std)     |\t 0.00110\t  0.00577\t 766\t 6.21\t 0.0020\t 0.0008\t  0.0019\t\n",
      "--------------------------------------------------------------------------------------------------------\n",
      "ws0.7(mean)|\t 0.01236\t  0.14595\t 41489\t 44.50\t 0.9798\t 0.0164\t  0.1200\t\n",
      "ws0.7(std)     |\t 0.00055\t  0.00440\t 571\t 5.95\t 0.0011\t 0.0006\t  0.0018\t\n",
      "--------------------------------------------------------------------------------------------------------\n",
      "ws0.9(mean)|\t 0.01347\t  0.13961\t 42075\t 39.50\t 0.9806\t 0.0162\t  0.1186\t\n",
      "ws0.9(std)     |\t 0.00059\t  0.00353\t 521\t 6.47\t 0.0012\t 0.0009\t  0.0017\t\n"
     ]
    }
   ],
   "source": [
    "k = 'color televisions'\n",
    "calcu_mean_std(k)"
   ]
  },
  {
   "cell_type": "code",
   "execution_count": null,
   "metadata": {},
   "outputs": [],
   "source": [
    "t_cont = ['p,q,m','steps','R2','p0,q0']\n",
    "for k in  ['color televisions','room air conditioners','clothers dryers']:\n",
    "    calcu_mean_std(k)"
   ]
  },
  {
   "cell_type": "code",
   "execution_count": null,
   "metadata": {},
   "outputs": [],
   "source": [
    "import networkx as nx"
   ]
  },
  {
   "cell_type": "code",
   "execution_count": null,
   "metadata": {
    "collapsed": true
   },
   "outputs": [],
   "source": [
    "G= nx.Graph()"
   ]
  },
  {
   "cell_type": "code",
   "execution_count": 24,
   "metadata": {},
   "outputs": [
    {
     "name": "stdout",
     "output_type": "stream",
     "text": [
      "+-----------+------+------------+-----------------+\n",
      "| City name | Area | Population | Annual Rainfall |\n",
      "+-----------+------+------------+-----------------+\n",
      "| Adelaide  | 1295 |  1158259   |      600.5      |\n",
      "| Brisbane  | 5905 |  1857594   |      1146.4     |\n",
      "| Darwin    | 112  |   120900   |      1714.7     |\n",
      "| Hobart    | 1357 |   205556   |      619.5      |\n",
      "| Sydney    | 2058 |  4336374   |      1214.8     |\n",
      "| Melbourne | 1566 |  3806092   |      646.9      |\n",
      "| Perth     | 5386 |  1554769   |      869.4      |\n",
      "+-----------+------+------------+-----------------+\n"
     ]
    }
   ],
   "source": [
    "from prettytable import PrettyTable \n",
    "x = PrettyTable([\"City name\", \"Area\", \"Population\", \"Annual Rainfall\"])  \n",
    "x.align[\"City name\"] = \"l\"# Left align city names\n",
    "#x.padding_width = 1# One space between column edges and contents (default)\n",
    "x.add_row([\"Adelaide\",1295, 1158259, 600.5])  \n",
    "x.add_row([\"Brisbane\",5905, 1857594, 1146.4])  \n",
    "x.add_row([\"Darwin\", 112, 120900, 1714.7])  \n",
    "x.add_row([\"Hobart\", 1357, 205556, 619.5])  \n",
    "x.add_row([\"Sydney\", 2058, 4336374, 1214.8])  \n",
    "x.add_row([\"Melbourne\", 1566, 3806092, 646.9])  \n",
    "x.add_row([\"Perth\", 5386, 1554769, 869.4])  \n",
    "print x  "
   ]
  },
  {
   "cell_type": "code",
   "execution_count": null,
   "metadata": {
    "collapsed": true
   },
   "outputs": [],
   "source": []
  }
 ],
 "metadata": {
  "anaconda-cloud": {},
  "kernelspec": {
   "display_name": "Python [default]",
   "language": "python",
   "name": "python2"
  },
  "language_info": {
   "codemirror_mode": {
    "name": "ipython",
    "version": 2
   },
   "file_extension": ".py",
   "mimetype": "text/x-python",
   "name": "python",
   "nbconvert_exporter": "python",
   "pygments_lexer": "ipython2",
   "version": "2.7.11"
  }
 },
 "nbformat": 4,
 "nbformat_minor": 1
}
