{
 "cells": [
  {
   "cell_type": "code",
   "execution_count": 1,
   "metadata": {
    "collapsed": true
   },
   "outputs": [],
   "source": [
    "from Estimate_ABM import *"
   ]
  },
  {
   "cell_type": "code",
   "execution_count": 2,
   "metadata": {
    "collapsed": true
   },
   "outputs": [],
   "source": [
    "data_set = {'room air conditioners':(np.arange(1949,1962),[96,195,238,380,1045,1230,1267,1828,1586,1673,1800,1580,1500]),\n",
    "            'color televisions':(np.arange(1963,1971),[747,1480,2646,5118,5777,5982,5962,4631]),\n",
    "            'clothers dryers':(np.arange(1949,1962),[106,319,492,635,737,890,1397,1523,1294,1240,1425,1260,1236]),\n",
    "            'ultrasound':(np.arange(1965,1979),[5,3,2,5,7,12,6,16,16,28,28,21,13,6]),\n",
    "            'mammography':(np.arange(1965,1979),[2,2,2,3,4,9,7,16,23,24,15,6,5,1]),\n",
    "            'foreign language':(np.arange(1952,1964),[1.25,0.77,0.86,0.48,1.34,3.56,3.36,6.24,5.95,6.24,4.89,0.25]),\n",
    "            'accelerated program':(np.arange(1952,1964),[0.67,0.48,2.11,0.29,2.59,2.21,16.80,11.04,14.40,6.43,6.15,1.15])}\n",
    "\n",
    "china_set = {'color televisions':(np.arange(1997,2013),[2.6,1.2,2.11,3.79,3.6,7.33,7.18,5.29,8.42,5.68,6.57,5.49,6.48,5.42,10.72,5.15]),\n",
    "             'mobile phones':(np.arange(1997,2013),[1.7,1.6,3.84,12.36,14.5,28.89,27.18,21.33,25.6,15.88,12.3,6.84,9.02,7.82,16.39,7.39]),\n",
    "             'computers':(np.arange(1997,2013),[2.6,1.2,2.11,3.79,3.6,7.33,7.18,5.29,8.42,5.68,6.57,5.49,6.48,5.42,10.72,5.15]),\n",
    "             'conditioners':(np.arange(1992,2013),[1.19,1.14,2.67,3.09,3.52,4.68,3.71,4.48,6.32,5.0,15.3,10.69,8.01,10.87,7.12,7.29,5.2,6.56,5.23,9.93,4.81]),\n",
    "             'water heaters':(np.arange(1988,2013),[28.07,8.4,5.86,6.37,3.9,4.08,5.42,4.12,3.45,3.31,3.12,1.64,2.36,1.8,5.48,1.35,1.47,0.52,1.03,3.28,-1.4,1.72,1.26,0.62,1.25])\n",
    "             }"
   ]
  },
  {
   "cell_type": "code",
<<<<<<< Updated upstream
<<<<<<< HEAD
   "execution_count": 5,
   "metadata": {
    "collapsed": true
   },
=======
   "execution_count": 14,
=======
   "execution_count": 3,
>>>>>>> Stashed changes
   "metadata": {},
   "outputs": [],
   "source": [
    "diff = Diffuse(0.001, 0.05, num_runs=13)"
   ]
  },
  {
   "cell_type": "code",
   "execution_count": 4,
   "metadata": {},
   "outputs": [
    {
     "name": "stdout",
     "output_type": "stream",
     "text": [
      "Time: 18.74 s\n"
     ]
    }
   ],
   "source": [
    "t1 = time.clock()\n",
    "x = diff.repete_diffuse()\n",
    "print('Time: %.2f s' % (time.clock() - t1))"
   ]
  },
  {
   "cell_type": "code",
   "execution_count": 5,
   "metadata": {},
   "outputs": [],
   "source": [
    "mean_x = np.mean(x, axis=0)"
   ]
  },
  {
   "cell_type": "code",
   "execution_count": 6,
   "metadata": {},
   "outputs": [
    {
     "name": "stdout",
     "output_type": "stream",
     "text": [
      "Time: 2.37 s\n"
     ]
    }
   ],
   "source": [
    "t1 = time.clock()\n",
    "rgs = Random_Grid_Search(mean_x)\n",
    "sol = rgs.optima_search()\n",
    "print('Time: %.2f s' % (time.clock() - t1))"
   ]
  },
  {
   "cell_type": "code",
   "execution_count": 7,
   "metadata": {},
>>>>>>> 99793662d4db6a670763b3017db391d6640164d2
   "outputs": [],
   "source": [
    "class Est_ABM(Estimate_ABM):\n",
    "    def solution_search(self, p0, q0):\n",
    "        t1 = time.clock()\n",
    "        solution_cont = []\n",
    "        diff_cont = []\n",
    "        pq_cont = []\n",
    "        evol_params = []\n",
    "        best_cont = []\n",
    "\n",
    "        for p in (p0 - self.intv_p, p0, p0 + self.intv_p):\n",
    "            for q in (q0 - self.intv_q, q0, q0 + self.intv_q):\n",
    "                pq_cont.append((p, q))\n",
    "                solution = self.get_M(p, q)\n",
    "                solution_cont.append(solution[:4]) # M_sse,p,q,s_M\n",
    "                diff_cont.append(solution[4]) # x\n",
    "        \n",
    "        best_solution = sorted(solution_cont)[:self.num_conds]\n",
    "        evol_params.append(pq_cont)\n",
    "        best_cont.append([x[1:3] for x in best_solution])\n",
    "        \n",
    "        while True:\n",
    "            solution_cont2 = []\n",
    "            diff_cont2 = []\n",
    "            pq_cont2 = []\n",
    "\n",
    "            for z in best_solution:\n",
    "                temp = [(z[1]-self.intv_p,z[2]-self.intv_q),(z[1],z[2]-self.intv_q),(z[1]+self.intv_p,z[2]-self.intv_q),\n",
    "                        (z[1]-self.intv_p,z[2]),       (z[1],z[2]),       (z[1]+self.intv_p,z[2]),\n",
    "                        (z[1]-self.intv_p,z[2]+self.intv_q),(z[1],z[2]+self.intv_q),(z[1]+self.intv_p,z[2]+self.intv_q)]\n",
    "                pq_cont2.extend(temp)\n",
    "            pq_cont2 = list(set(pq_cont2 + pq_cont))\n",
    "\n",
    "            for y in pq_cont2:\n",
    "                if y in pq_cont:\n",
    "                    solution_cont2.append(solution_cont[pq_cont.index(y)])\n",
    "                    diff_cont2.append(diff_cont[pq_cont.index(y)])\n",
    "                else:\n",
    "                    solution = self.get_M(y[0], y[1])\n",
    "                    solution_cont2.append(solution[:4])\n",
    "                    diff_cont2.append(solution[4])\n",
    "\n",
    "            best_solution = sorted(solution_cont2)[:self.num_conds]\n",
    "            opt_solution = best_solution[0]\n",
    "            opt_curve = diff_cont2[solution_cont2.index(opt_solution)]\n",
    "            \n",
    "            evol_params.append(pq_cont2)\n",
    "            best_cont.append([x[1:3] for x in best_solution])\n",
    "\n",
    "            if len(pq_cont2) == len(pq_cont):\n",
    "                break\n",
    "            else:\n",
    "                solution_cont = solution_cont2\n",
    "                diff_cont = diff_cont2\n",
    "                pq_cont = pq_cont2\n",
    "\n",
    "        f_act = opt_curve\n",
    "        R2 = self.r2(f_act)\n",
    "        search_steps = len(pq_cont)\n",
    "        result = {'params':opt_solution[1:], 'fitness':R2, 'best_curve':f_act, 'steps':search_steps,\n",
    "                  'path':pq_cont, 'his_path':evol_params,  'his_best':best_cont}  # [p,q,m],拟合曲线,搜索步数,搜索范围\n",
    "        \n",
    "        print('第2阶段的时间: %.2f s' % (time.clock() - t1))\n",
    "        return result"
   ]
  },
  {
   "cell_type": "code",
<<<<<<< Updated upstream
<<<<<<< HEAD
   "execution_count": 3,
   "metadata": {
    "collapsed": true
   },
=======
   "execution_count": 4,
=======
   "execution_count": 8,
>>>>>>> Stashed changes
   "metadata": {},
>>>>>>> 99793662d4db6a670763b3017db391d6640164d2
   "outputs": [],
   "source": [
    "s = data_set['clothers dryers'][1]"
   ]
  },
  {
   "cell_type": "code",
   "execution_count": 9,
   "metadata": {},
   "outputs": [
    {
     "name": "stdout",
     "output_type": "stream",
     "text": [
      "Searching ends in 100 runs\n",
      "第1阶段的时间: 211.72 s\n",
      "第2阶段的时间: 442.40 s\n",
      "总时间: 654.12 s\n"
     ]
    }
   ],
   "source": [
    "t = time.clock()\n",
    "est_abm = Est_ABM(s)\n",
    "p0, q0 = est_abm.gener_p0_q0()\n",
    "result = est_abm.solution_search(p0, q0)\n",
    "print('总时间: %.2f s' % (time.clock() - t))"
   ]
  },
  {
   "cell_type": "code",
   "execution_count": 17,
   "metadata": {},
   "outputs": [
    {
     "data": {
      "text/plain": [
       "0.9310344827586207"
      ]
     },
     "execution_count": 17,
     "metadata": {},
     "output_type": "execute_result"
    }
   ],
   "source": [
    "621.0/667"
   ]
  },
  {
   "cell_type": "code",
   "execution_count": 10,
   "metadata": {},
   "outputs": [
    {
     "data": {
      "text/plain": [
       "4"
      ]
     },
     "execution_count": 10,
     "metadata": {},
     "output_type": "execute_result"
    }
   ],
   "source": [
    "len(result['his_path'])"
   ]
  },
  {
   "cell_type": "code",
   "execution_count": 11,
   "metadata": {},
   "outputs": [
    {
     "data": {
      "text/plain": [
       "(0.011593078696974214, 0.05941518076568119, 19042.665174981084)"
      ]
     },
     "execution_count": 11,
     "metadata": {},
     "output_type": "execute_result"
    }
   ],
   "source": [
    "result['params']"
   ]
  },
  {
   "cell_type": "code",
   "execution_count": 12,
   "metadata": {},
   "outputs": [
    {
     "data": {
      "text/plain": [
       "21"
      ]
     },
     "execution_count": 12,
     "metadata": {},
     "output_type": "execute_result"
    }
   ],
   "source": [
    "result['steps']"
   ]
  },
  {
   "cell_type": "code",
   "execution_count": 13,
   "metadata": {},
   "outputs": [
    {
     "data": {
      "text/plain": [
       "0.92684142081658105"
      ]
     },
     "execution_count": 13,
     "metadata": {},
     "output_type": "execute_result"
    }
   ],
   "source": [
    "result['fitness']"
   ]
  },
  {
   "cell_type": "code",
   "execution_count": 14,
   "metadata": {},
   "outputs": [
    {
     "data": {
      "text/plain": [
       "21"
      ]
     },
     "execution_count": 14,
     "metadata": {},
     "output_type": "execute_result"
    }
   ],
   "source": [
    "len(result['his_path'][-1])"
   ]
  },
  {
   "cell_type": "code",
   "execution_count": 15,
   "metadata": {},
   "outputs": [
    {
     "data": {
      "image/png": "iVBORw0KGgoAAAANSUhEUgAAAfoAAAHmCAYAAACbAUypAAAABHNCSVQICAgIfAhkiAAAAAlwSFlz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\n",
      "text/plain": [
       "<matplotlib.figure.Figure at 0x1a12bc85d0>"
      ]
     },
     "metadata": {},
     "output_type": "display_data"
    }
   ],
   "source": [
    "% matplotlib inline\n",
    "p_range = [round(p0 + i * 0.001, 4) for i in range(-6, 18)]\n",
    "q_range = [round(q0 + i * 0.005, 4) for i in range(-12, 12)]\n",
    "x, y = np.meshgrid(p_range, q_range)\n",
    "\n",
    "best_solution = result['params'][:2]\n",
    "p_q_cont = result['path']\n",
    "\n",
    "fig = pl.figure(figsize=(8, 8))\n",
    "ax = fig.add_subplot(1, 1, 1)\n",
    "ax.set_xlabel('p',fontsize=15)\n",
    "ax.set_ylabel('q',fontsize=15)\n",
    "ax.set_xlim([min(p_range) - 0.001, max(p_range) + 0.001])\n",
    "ax.set_ylim([min(q_range) - 0.005, max(q_range) + 0.005])\n",
    "\n",
    "for p in p_range:\n",
    "    for q in q_range:\n",
    "        ax.scatter(p, q, s=15, c='k', marker='o', alpha = 0.1)\n",
    "\n",
    "for (p, q) in p_q_cont:\n",
    "    if (p, q) == best_solution:\n",
    "        ax.scatter(p, q, s=160, c='r', marker='*')\n",
    "    elif (p, q) == (p0, q0):\n",
    "        ax.scatter(p0, q0, s=100, c='b', marker='o')\n",
    "    else:\n",
    "        ax.scatter(p, q, s=40, c='k', marker='^', alpha=0.5)\n",
    "\n",
    "inset_ax1 = fig.add_axes([0.55, 0.73, 0.15, 0.15], facecolor='#FCFAF2')\n",
    "inset_ax2 = fig.add_axes([0.73, 0.73, 0.15, 0.15], facecolor='#FCFAF2')\n",
    "inset_ax3 = fig.add_axes([0.55, 0.55, 0.15, 0.15], facecolor='#FCFAF2')\n",
    "inset_ax4 = fig.add_axes([0.73, 0.55, 0.15, 0.15], facecolor='#FCFAF2')\n",
    "\n",
    "pq = np.array(result['his_path'][0])\n",
    "inset_ax1.scatter(pq[:, 0],pq[:, 1], s=15, c='k', marker='o', alpha=0.2)\n",
    "    \n",
    "inset_ax1.set_xlim([0.005,0.015])\n",
    "inset_ax1.set_ylim([0.05,0.088])\n",
    "inset_ax1.set_xlabel('Iteration 1',fontsize=10)\n",
    "inset_ax1.set_xticks([])\n",
    "inset_ax1.set_yticks([])\n",
    "\n",
    "i = 1\n",
    "for ax in [inset_ax2,inset_ax3,inset_ax4]:\n",
    "    pq0 = result['his_path'][i-1]\n",
    "    pq1 = result['his_path'][i]\n",
    "    temp = []\n",
    "    for z in pq1:\n",
    "        if z in pq0:\n",
    "            ax.scatter(z[0], z[1], s=15, c='k', marker='o',alpha = 0.2)\n",
    "        else:\n",
    "            ax.scatter(z[0], z[1], s=15, c='k',marker='o',alpha = 1)\n",
    "    solution = result['his_best'][i-1]\n",
    "    for z in solution:\n",
    "        ax.scatter(z[0],z[1],s=15,c='r',marker='s',alpha = 1)\n",
    "            \n",
    "    ax.set_xlim([0.005, 0.015])\n",
    "    ax.set_ylim([0.05, 0.088])\n",
    "    ax.set_xlabel('Iteration %s' % (i+1),fontsize=10)\n",
    "    ax.set_xticks([])\n",
    "    ax.set_yticks([])\n",
    "    i = i + 1"
   ]
  },
  {
   "cell_type": "code",
   "execution_count": null,
   "metadata": {
    "collapsed": true
   },
   "outputs": [],
   "source": [
    "diff =Diffuse(result['params'][0],result['params'][1],len(s))"
   ]
  },
  {
   "cell_type": "code",
   "execution_count": null,
   "metadata": {},
   "outputs": [],
   "source": [
    "r_diff = diff.repete_diffuse()"
   ]
  },
  {
   "cell_type": "code",
   "execution_count": null,
   "metadata": {
    "collapsed": true
   },
   "outputs": [],
   "source": [
    "result['path']"
   ]
  },
  {
   "cell_type": "code",
   "execution_count": null,
   "metadata": {
    "collapsed": true
   },
   "outputs": [],
   "source": [
    "pl.plot(result['best_curve']*result['params'][-1]/10000)\n",
    "pl.plot(s,'ro')"
   ]
  },
  {
   "cell_type": "code",
   "execution_count": null,
   "metadata": {},
   "outputs": [],
   "source": [
    "for x in result['his_path'][1]:\n",
    "    if x not in result['his_path'][0]:\n",
    "        print x"
   ]
  },
  {
   "cell_type": "code",
   "execution_count": null,
   "metadata": {},
   "outputs": [],
   "source": [
    "round(0.00001,1)"
   ]
  },
  {
   "cell_type": "code",
<<<<<<< HEAD
   "execution_count": 53,
   "metadata": {
    "collapsed": true
   },
=======
   "execution_count": null,
   "metadata": {},
>>>>>>> 99793662d4db6a670763b3017db391d6640164d2
   "outputs": [],
   "source": [
    "temp = []\n",
    "for t in result['path']:\n",
    "    temp.append(tuple(map(round,t,[4,4])))\n",
    "new_path.append(list(set(temp)))"
   ]
  },
  {
   "cell_type": "code",
<<<<<<< HEAD
   "execution_count": 50,
   "metadata": {
    "collapsed": true
   },
=======
   "execution_count": null,
   "metadata": {},
>>>>>>> 99793662d4db6a670763b3017db391d6640164d2
   "outputs": [],
   "source": [
    "result['his_path'] = new_path"
   ]
  },
  {
   "cell_type": "code",
<<<<<<< HEAD
   "execution_count": 54,
   "metadata": {
    "collapsed": true
   },
=======
   "execution_count": null,
   "metadata": {},
>>>>>>> 99793662d4db6a670763b3017db391d6640164d2
   "outputs": [],
   "source": [
    "result['path'] = temp"
   ]
  },
  {
   "cell_type": "code",
   "execution_count": null,
   "metadata": {},
   "outputs": [],
   "source": [
    "p0,q0"
   ]
  },
  {
   "cell_type": "code",
   "execution_count": null,
   "metadata": {},
   "outputs": [],
   "source": [
    "result['orgi_points'] = []"
   ]
  },
  {
   "cell_type": "code",
   "execution_count": null,
   "metadata": {},
   "outputs": [],
   "source": [
    "import pickle\n",
    "illust = pickle.dumps(result)\n",
    "f = open('example of the estimation procedure.txt','w')\n",
    "f.write(illust)\n",
    "f.close()"
   ]
  },
  {
   "cell_type": "code",
   "execution_count": null,
   "metadata": {},
   "outputs": [],
   "source": []
  }
 ],
 "metadata": {
  "anaconda-cloud": {},
  "kernelspec": {
   "display_name": "Python [default]",
   "language": "python",
   "name": "python2"
  },
  "language_info": {
   "codemirror_mode": {
    "name": "ipython",
    "version": 2
   },
   "file_extension": ".py",
   "mimetype": "text/x-python",
   "name": "python",
   "nbconvert_exporter": "python",
   "pygments_lexer": "ipython2",
<<<<<<< Updated upstream
   "version": "2.7.14"
=======
   "version": "2.7.11"
>>>>>>> Stashed changes
  }
 },
 "nbformat": 4,
 "nbformat_minor": 1
}
