{
 "cells": [
  {
   "cell_type": "code",
   "execution_count": 1,
   "metadata": {},
   "outputs": [],
   "source": [
    "from Estimate_ABM import *"
   ]
  },
  {
   "cell_type": "code",
   "execution_count": 2,
   "metadata": {},
   "outputs": [],
   "source": [
    "data_set = {'room air conditioners':(np.arange(1949,1962),[96,195,238,380,1045,1230,1267,1828,1586,1673,1800,1580,1500]),\n",
    "            'color televisions':(np.arange(1963,1971),[747,1480,2646,5118,5777,5982,5962,4631]),\n",
    "            'clothers dryers':(np.arange(1949,1962),[106,319,492,635,737,890,1397,1523,1294,1240,1425,1260,1236]),\n",
    "            'ultrasound':(np.arange(1965,1979),[5,3,2,5,7,12,6,16,16,28,28,21,13,6]),\n",
    "            'mammography':(np.arange(1965,1979),[2,2,2,3,4,9,7,16,23,24,15,6,5,1]),\n",
    "            'foreign language':(np.arange(1952,1964),[1.25,0.77,0.86,0.48,1.34,3.56,3.36,6.24,5.95,6.24,4.89,0.25]),\n",
    "            'accelerated program':(np.arange(1952,1964),[0.67,0.48,2.11,0.29,2.59,2.21,16.80,11.04,14.40,6.43,6.15,1.15])}\n",
    "\n",
    "china_set = {'color televisions':(np.arange(1997,2013),[2.6,1.2,2.11,3.79,3.6,7.33,7.18,5.29,8.42,5.68,6.57,5.49,6.48,5.42,10.72,5.15]),\n",
    "             'mobile phones':(np.arange(1997,2013),[1.7,1.6,3.84,12.36,14.5,28.89,27.18,21.33,25.6,15.88,12.3,6.84,9.02,7.82,16.39,7.39]),\n",
    "             'computers':(np.arange(1997,2013),[2.6,1.2,2.11,3.79,3.6,7.33,7.18,5.29,8.42,5.68,6.57,5.49,6.48,5.42,10.72,5.15]),\n",
    "             'conditioners':(np.arange(1992,2013),[1.19,1.14,2.67,3.09,3.52,4.68,3.71,4.48,6.32,5.0,15.3,10.69,8.01,10.87,7.12,7.29,5.2,6.56,5.23,9.93,4.81]),\n",
    "             'water heaters':(np.arange(1988,2013),[28.07,8.4,5.86,6.37,3.9,4.08,5.42,4.12,3.45,3.31,3.12,1.64,2.36,1.8,5.48,1.35,1.47,0.52,1.03,3.28,-1.4,1.72,1.26,0.62,1.25])\n",
    "             }"
   ]
  },
  {
   "cell_type": "code",
   "execution_count": 5,
   "metadata": {},
   "outputs": [],
   "source": [
    "class Est_ABM(Estimate_ABM):\n",
    "    def solution_search(self, p0, q0):\n",
    "        solution_cont = []\n",
    "        diff_cont = []\n",
    "        pq_cont = []\n",
    "        evol_params = []\n",
    "        best_cont = []\n",
    "\n",
    "        for p in (p0 - self.intv_p, p0, p0 + self.intv_p):\n",
    "            for q in (q0 - self.intv_q, q0, q0 + self.intv_q):\n",
    "                pq_cont.append((p, q))\n",
    "                solution = self.get_M(p, q)\n",
    "                solution_cont.append(solution[:4]) #M_sse,p,q,s_M\n",
    "                diff_cont.append(solution[4]) #x\n",
    "        \n",
    "        best_solution = sorted(solution_cont)[:self.num_conds]\n",
    "        \n",
    "        evol_params.append(pq_cont)\n",
    "        best_cont.append([x[1:3] for x in best_solution])\n",
    "        \n",
    "        while True:\n",
    "            solution_cont2 = []\n",
    "            diff_cont2 = []\n",
    "            pq_cont2 = []\n",
    "\n",
    "            for z in best_solution:\n",
    "                temp = [(z[1]-self.intv_p,z[2]-self.intv_q),(z[1],z[2]-self.intv_q),(z[1]+self.intv_p,z[2]-self.intv_q),\n",
    "                        (z[1]-self.intv_p,z[2]),       (z[1],z[2]),       (z[1]+self.intv_p,z[2]),\n",
    "                        (z[1]-self.intv_p,z[2]+self.intv_q),(z[1],z[2]+self.intv_q),(z[1]+self.intv_p,z[2]+self.intv_q)]\n",
    "                pq_cont2.extend(temp)\n",
    "            pq_cont2 = list(set(pq_cont2+pq_cont))\n",
    "\n",
    "            for y in pq_cont2:\n",
    "                if y in pq_cont:\n",
    "                    solution_cont2.append(solution_cont[pq_cont.index(y)])\n",
    "                    diff_cont2.append(diff_cont[pq_cont.index(y)])\n",
    "                else:\n",
    "                    solution = self.get_M(y[0],y[1])\n",
    "                    solution_cont2.append(solution[:4])\n",
    "                    diff_cont2.append(solution[4])\n",
    "\n",
    "            best_solution = sorted(solution_cont2)[:self.num_conds]\n",
    "            opt_solution = best_solution[0]\n",
    "            opt_curve = diff_cont2[solution_cont2.index(opt_solution)]\n",
    "            \n",
    "            evol_params.append(pq_cont2)\n",
    "            best_cont.append([x[1:3] for x in best_solution])\n",
    "\n",
    "            if len(pq_cont2) == len(pq_cont):\n",
    "                break\n",
    "            else:\n",
    "                solution_cont = solution_cont2\n",
    "                diff_cont = diff_cont2\n",
    "                pq_cont = pq_cont2\n",
    "\n",
    "        f_act = opt_curve\n",
    "        R2 =self.r2(f_act)\n",
    "        search_steps = len(pq_cont)\n",
    "        result = {'params':opt_solution[1:],'fitness':R2,'best_curve':f_act,'steps':search_steps,\n",
    "                          'path':pq_cont,'his_path':evol_params,'his_best':best_cont}    #[p,q,m],拟合曲线,搜索步数,搜索范围\n",
    "        return result"
   ]
  },
  {
   "cell_type": "code",
   "execution_count": 3,
   "metadata": {},
   "outputs": [],
   "source": [
    "s = data_set['clothers dryers'][1]"
   ]
  },
  {
   "cell_type": "code",
   "execution_count": 34,
   "metadata": {},
   "outputs": [
    {
     "name": "stdout",
     "output_type": "stream",
     "text": [
      "Searching ends in 100 runs\n",
      "Time elapsed: 345.43 s\n"
     ]
    }
   ],
   "source": [
    "t1 = time.clock()\n",
    "est_abm = Est_ABM(s)\n",
    "p0, q0 = est_abm.gener_p0_q0()\n",
    "result = est_abm.solution_search(p0,q0)\n",
    "print('Time elapsed: %.2f s' % (time.clock() - t1))"
   ]
  },
  {
   "cell_type": "code",
   "execution_count": 35,
   "metadata": {},
   "outputs": [
    {
     "data": {
      "text/plain": [
       "4"
      ]
     },
     "execution_count": 35,
     "metadata": {},
     "output_type": "execute_result"
    }
   ],
   "source": [
    "len(result['his_path'])"
   ]
  },
  {
   "cell_type": "code",
   "execution_count": 36,
   "metadata": {},
   "outputs": [
    {
     "data": {
      "text/plain": [
       "(0.0121172610095325, 0.063737115986826395, 18106.554801130387)"
      ]
     },
     "execution_count": 36,
     "metadata": {},
     "output_type": "execute_result"
    }
   ],
   "source": [
    "result['params']"
   ]
  },
  {
   "cell_type": "code",
   "execution_count": 37,
   "metadata": {},
   "outputs": [
    {
     "data": {
      "text/plain": [
       "24"
      ]
     },
     "execution_count": 37,
     "metadata": {},
     "output_type": "execute_result"
    }
   ],
   "source": [
    "result['steps']"
   ]
  },
  {
   "cell_type": "code",
   "execution_count": 38,
   "metadata": {},
   "outputs": [
    {
     "data": {
      "text/plain": [
       "0.93186110087613305"
      ]
     },
     "execution_count": 38,
     "metadata": {},
     "output_type": "execute_result"
    }
   ],
   "source": [
    "result['fitness']"
   ]
  },
  {
   "cell_type": "code",
   "execution_count": 41,
   "metadata": {},
   "outputs": [
    {
     "data": {
      "image/png": "[encoded data removed]",
      "text/plain": [
       "<matplotlib.figure.Figure at 0x7f43c543aeb8>"
      ]
     },
     "metadata": {},
     "output_type": "display_data"
    }
   ],
   "source": [
    "%matplotlib inline\n",
    "p_range = [round(p0 + i * 0.001, 4) for i in range(-6, 18)]\n",
    "q_range = [round(q0 + i * 0.005, 4) for i in range(-12, 12)]\n",
    "x, y = np.meshgrid(p_range, q_range)\n",
    "\n",
    "best_solution = result['params'][:2]\n",
    "p_q_cont = result['path']\n",
    "\n",
    "fig = pl.figure(figsize=(8, 8))\n",
    "ax = fig.add_subplot(1, 1, 1)\n",
    "ax.set_xlabel('p',fontsize=15)\n",
    "ax.set_ylabel('q',fontsize=15)\n",
    "ax.set_xlim([min(p_range) - 0.001, max(p_range) + 0.001])\n",
    "ax.set_ylim([min(q_range) - 0.005, max(q_range) + 0.005])\n",
    "\n",
    "for p in p_range:\n",
    "    for q in q_range:\n",
    "        ax.scatter(p, q, s=15, c='k', marker='o', alpha = 0.1)\n",
    "\n",
    "for (p, q) in p_q_cont:\n",
    "    if (p, q) == best_solution:\n",
    "        ax.scatter(p, q, s=160, c='r', marker='*')\n",
    "    elif (p, q) == (p0, q0):\n",
    "        ax.scatter(p0, q0, s=100, c='b', marker='o')\n",
    "    else:\n",
    "        ax.scatter(p, q, s=40, c='k', marker='^', alpha=0.5)\n",
    "\n",
    "inset_ax1 = fig.add_axes([0.55, 0.73, 0.15, 0.15], facecolor='#FCFAF2')\n",
    "inset_ax2 = fig.add_axes([0.73, 0.73, 0.15, 0.15], facecolor='#FCFAF2')\n",
    "inset_ax3 = fig.add_axes([0.55, 0.55, 0.15, 0.15], facecolor='#FCFAF2')\n",
    "inset_ax4 = fig.add_axes([0.73, 0.55, 0.15, 0.15], facecolor='#FCFAF2')\n",
    "\n",
    "pq = np.array(result['his_path'][0])\n",
    "inset_ax1.scatter(pq[:, 0],pq[:, 1], s=15, c='k', marker='o', alpha=0.2)\n",
    "    \n",
    "inset_ax1.set_xlim([0.005,0.015])\n",
    "inset_ax1.set_ylim([0.05,0.088])\n",
    "inset_ax1.set_xlabel('Iteration 1',fontsize=10)\n",
    "inset_ax1.set_xticks([])\n",
    "inset_ax1.set_yticks([])\n",
    "\n",
    "i = 1\n",
    "for ax in [inset_ax2,inset_ax3,inset_ax4]:\n",
    "    pq0 = result['his_path'][i-1]\n",
    "    pq1 = result['his_path'][i]\n",
    "    temp = []\n",
    "    for z in pq1:\n",
    "        if z in pq0:\n",
    "            ax.scatter(z[0], z[1], s=15, c='k', marker='o',alpha = 0.2)\n",
    "        else:\n",
    "            ax.scatter(z[0], z[1], s=15, c='k',marker='o',alpha = 1)\n",
    "    solution = result['his_best'][i-1]\n",
    "    for z in solution:\n",
    "        ax.scatter(z[0],z[1],s=15,c='r',marker='s',alpha = 1)\n",
    "            \n",
    "    ax.set_xlim([0.005, 0.015])\n",
    "    ax.set_ylim([0.05, 0.088])\n",
    "    ax.set_xlabel('Iteration %s' % (i+1),fontsize=10)\n",
    "    ax.set_xticks([])\n",
    "    ax.set_yticks([])\n",
    "    i = i +1"
   ]
  },
  {
   "cell_type": "code",
   "execution_count": null,
   "metadata": {},
   "outputs": [],
   "source": [
    "diff =Diffuse(result['params'][0],result['params'][1],len(s))"
   ]
  },
  {
   "cell_type": "code",
   "execution_count": null,
   "metadata": {
    "collapsed": true
   },
   "outputs": [],
   "source": [
    "r_diff = diff.repete_diffuse()"
   ]
  },
  {
   "cell_type": "code",
   "execution_count": null,
   "metadata": {},
   "outputs": [],
   "source": [
    "result['path']"
   ]
  },
  {
   "cell_type": "code",
   "execution_count": null,
   "metadata": {},
   "outputs": [],
   "source": [
    "pl.plot(result['best_curve']*result['params'][-1]/10000)\n",
    "pl.plot(s,'ro')"
   ]
  },
  {
   "cell_type": "code",
   "execution_count": 29,
   "metadata": {},
   "outputs": [
    {
     "name": "stdout",
     "output_type": "stream",
     "text": [
      "(0.014061325944774994, 0.0678023367164962)\n",
      "(0.012061325944774996, 0.057802336716496198)\n",
      "(0.012061325944774992, 0.057802336716496198)\n",
      "(0.011061325944774995, 0.0678023367164962)\n",
      "(0.012061325944774996, 0.0678023367164962)\n",
      "(0.010061325944774994, 0.057802336716496198)\n",
      "(0.014061325944774994, 0.062802336716496196)\n",
      "(0.010061325944774994, 0.0678023367164962)\n",
      "(0.012061325944774996, 0.062802336716496196)\n",
      "(0.012061325944774992, 0.062802336716496196)\n",
      "(0.012061325944774992, 0.0678023367164962)\n",
      "(0.013061325944774993, 0.0678023367164962)\n",
      "(0.014061325944774994, 0.057802336716496198)\n",
      "(0.010061325944774994, 0.062802336716496196)\n"
     ]
    }
   ],
   "source": [
    "for x in result['his_path'][1]:\n",
    "    if x not in result['his_path'][0]:\n",
    "        print x"
   ]
  },
  {
   "cell_type": "code",
   "execution_count": 32,
   "metadata": {},
   "outputs": [
    {
     "data": {
      "text/plain": [
       "0.0"
      ]
     },
     "execution_count": 32,
     "metadata": {},
     "output_type": "execute_result"
    }
   ],
   "source": [
    "round(0.00001,1)"
   ]
  },
  {
   "cell_type": "code",
   "execution_count": 53,
   "metadata": {},
   "outputs": [],
   "source": [
    "temp = []\n",
    "for t in result['path']:\n",
    "    temp.append(tuple(map(round,t,[4,4])))\n",
    "new_path.append(list(set(temp)))"
   ]
  },
  {
   "cell_type": "code",
   "execution_count": 50,
   "metadata": {},
   "outputs": [],
   "source": [
    "result['his_path'] = new_path"
   ]
  },
  {
   "cell_type": "code",
   "execution_count": 54,
   "metadata": {},
   "outputs": [],
   "source": [
    "result['path'] = temp"
   ]
  },
  {
   "cell_type": "code",
   "execution_count": 61,
   "metadata": {},
   "outputs": [
    {
     "data": {
      "text/plain": [
       "(0.012061325944774994, 0.057802336716496198)"
      ]
     },
     "execution_count": 61,
     "metadata": {},
     "output_type": "execute_result"
    }
   ],
   "source": [
    "p0,q0"
   ]
  },
  {
   "cell_type": "code",
   "execution_count": 62,
   "metadata": {},
   "outputs": [
    {
     "data": {
      "text/plain": [
       "(0.010061325944774994, 0.0678023367164962, 17777.085210577621)"
      ]
     },
     "execution_count": 62,
     "metadata": {},
     "output_type": "execute_result"
    }
   ],
   "source": [
    "result['orgi_points'] = []"
   ]
  },
  {
   "cell_type": "code",
   "execution_count": 63,
   "metadata": {
    "collapsed": true
   },
   "outputs": [],
   "source": [
    "import pickle\n",
    "illust = pickle.dumps(result)\n",
    "f = open('example of the estimation procedure.txt','w')\n",
    "f.write(illust)\n",
    "f.close()"
   ]
  },
  {
   "cell_type": "code",
   "execution_count": null,
   "metadata": {
    "collapsed": true
   },
   "outputs": [],
   "source": []
  }
 ],
 "metadata": {
  "kernelspec": {
   "display_name": "Python 2",
   "language": "python",
   "name": "python2"
  },
  "language_info": {
   "codemirror_mode": {
    "name": "ipython",
    "version": 3
   },
   "file_extension": ".py",
   "mimetype": "text/x-python",
   "name": "python",
   "nbconvert_exporter": "python",
   "pygments_lexer": "ipython3",
   "version": "3.5.2"
  }
 },
 "nbformat": 4,
 "nbformat_minor": 1
}
