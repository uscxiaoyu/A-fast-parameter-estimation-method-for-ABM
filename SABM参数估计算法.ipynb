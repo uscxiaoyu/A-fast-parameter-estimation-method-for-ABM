{
 "cells": [
  {
   "cell_type": "code",
   "execution_count": 1,
   "metadata": {
    "collapsed": false
   },
   "outputs": [
    {
     "name": "stdout",
     "output_type": "stream",
     "text": [
      "Populating the interactive namespace from numpy and matplotlib\n"
     ]
    }
   ],
   "source": [
    "%pylab inline\n",
    "from __future__ import division\n",
    "from scipy import stats\n",
    "from numpy import exp\n",
    "import numpy as np\n",
    "import pylab as pl\n",
    "import pandas as pd\n",
    "import math\n",
    "import time\n",
    "from copy import deepcopy as dc\n",
    "pl.rcParams.update({'font.size': 15, 'font.family': 'STIXGeneral', 'mathtext.fontset': 'stix'})"
   ]
  },
  {
   "cell_type": "code",
   "execution_count": 2,
   "metadata": {
    "collapsed": false
   },
   "outputs": [],
   "source": [
    "class Random_Grid_Search:\n",
    "    t_n = 500 #抽样量\n",
    "    c_n = 50 #保留参数量\n",
    "    threshold = 1e-6 #循环停止阈值\n",
    "    repetes = 1 #重复次数\n",
    "    orig_points = [] #初始化边界点\n",
    "    def __init__(self,s): #初始化实例参数\n",
    "        self.s = np.array(s)  #待拟合曲线\n",
    "        self.s_len = len(s)\n",
    "        self.para_range = [[1e-6,0.1],[1e-3,1],[sum(s),5*sum(s)]]  #参数范围\n",
    "        self.p_range = [[1e-6,0.1],[1e-3,1],[sum(s),5*sum(s)]]  #用于产生边界节点的参数范围 \n",
    "    \n",
    "    def genera_orig(self): #递归产生边界点\n",
    "        if len(self.p_range) == 0:\n",
    "            return\n",
    "        else:  \n",
    "            pa = self.p_range[-1]\n",
    "            if self.orig_points == []:\n",
    "                self.orig_points = [[pa[0]],[pa[1]]]  #初始化,排除orig_points为空的情形\n",
    "            else:\n",
    "                self.orig_points = [[pa[0]]+x for x in self.orig_points]+[[pa[1]]+x for x in self.orig_points]  #二分裂\n",
    "            self.p_range.pop()\n",
    "            return self.genera_orig()\n",
    "    \n",
    "    def sample(self,c_range): #抽样参数点\n",
    "        p_list = []\n",
    "        for pa in c_range:\n",
    "            if isinstance(pa[0],float):\n",
    "                x = (pa[1]-pa[0])*np.random.random(self.t_n) + pa[0]\n",
    "            else:\n",
    "                x = np.random.randint(low=pa[0],high=pa[1]+1,size=self.t_n)\n",
    "            p_list.append(x)\n",
    "\n",
    "        p_list = np.array(p_list).T\n",
    "        return p_list.tolist()\n",
    "    \n",
    "    def f(self,params): #扩散函数\n",
    "        diffu_cont = np.zeros(self.s_len)\n",
    "        t_list = np.arange(1,self.s_len+1)\n",
    "        a = np.array([1 - np.exp(-(params[0]+params[1])*t) for t in t_list])\n",
    "        b = np.array([1 + params[1]/params[0]*np.exp(-(params[0]+params[1])*t) for t in t_list])\n",
    "        diffu_cont = params[2]*a/b\n",
    "\n",
    "        adopt_cont = np.zeros_like(diffu_cont)\n",
    "        adopt_cont[0] = diffu_cont[0]\n",
    "        for t in xrange(1,self.s_len):\n",
    "            adopt_cont[t] = diffu_cont[t] - diffu_cont[t-1]\n",
    "\n",
    "        return adopt_cont\n",
    "\n",
    "    def mse(self,params):  #定义适应度函数（mse）\n",
    "        a = self.f(params)\n",
    "        tse = np.square(self.s-a)\n",
    "        return np.mean(tse) #均方误\n",
    "    \n",
    "    def r2(self,params):\n",
    "        a = np.array(self.f(params))\n",
    "        tse = np.sum(np.square(self.s-a))\n",
    "        mean_y = np.mean(self.s)\n",
    "        ssl = np.sum(np.square(self.s-mean_y))\n",
    "        return (ssl-tse)/ssl\n",
    "    \n",
    "    def optima_search(self):\n",
    "        solution_cont = []\n",
    "        self.genera_orig()\n",
    "        \n",
    "        for i in xrange(self.repetes):\n",
    "            c_range = dc(self.para_range)\n",
    "            samp = self.sample(c_range)\n",
    "            solution = sorted([self.mse(x)]+x for x in samp+self.orig_points)[:self.c_n]\n",
    "            u = 1\n",
    "            while 1:\n",
    "                params_min = np.min(np.array(solution),0) #最小值\n",
    "                params_max = np.max(np.array(solution),0) #最大值\n",
    "                c_range = [[params_min[j+1],params_max[j+1]] for j in range(len(c_range))] #重新定界\n",
    "                samp = self.sample(c_range)\n",
    "                solution = sorted([[self.mse(x)]+x for x in samp]+solution)[:self.c_n]\n",
    "                r = sorted([x[0] for x in solution])\n",
    "                v = (r[-1]-r[0])/r[0]\n",
    "                if v < self.threshold:\n",
    "                    print 'Searching ends in %s runs'%u\n",
    "                    break\n",
    "                \n",
    "                if u > 100:\n",
    "                    print 'Searching ends in 100 runs'\n",
    "                    break\n",
    "                \n",
    "                u += 1\n",
    "\n",
    "            solution_cont.append(solution[0])\n",
    "\n",
    "        solution = np.array(solution_cont)\n",
    "        estimates = np.median(solution,axis=0)[1:]\n",
    "        R2 = self.r2(estimates)\n",
    "        return estimates,R2,solution\n",
    "    \n",
    "    def draw_curve(self,estms):\n",
    "        f1 = self.f(estms)\n",
    "        fig = pl.figure(figsize=(12,6))\n",
    "        ax = fig.add_subplot(1,1,1)\n",
    "        ax.plot(np.arange(1,self.s_len+1),self.s,'bo',label=r'$actual$')\n",
    "        ax.plot(np.arange(1,self.s_len+1),f1,'r-',linewidth = 1.2,label=r'$fitted$')\n",
    "        ax.set_title(r'Fitted and actual curve',fontsize=12)\n",
    "        ax.set_xlabel(r'Time',fontsize=15)\n",
    "        ax.set_ylabel(r'Sales',fontsize=15)\n",
    "        ax.set_xlim([1,self.s_len])\n",
    "        ax.legend(loc = 'best',fontsize=15)\n",
    "        ax.grid(True)      "
   ]
  },
  {
   "cell_type": "code",
   "execution_count": 3,
   "metadata": {
    "collapsed": false
   },
   "outputs": [],
   "source": [
    "data_set = {'room air conditioners':(np.arange(1949,1962),[96,195,238,380,1045,1230,1267,1828,1586,1673,1800,1580,1500]),\n",
    "            'color televisions':(np.arange(1963,1971),[747,1480,2646,5118,5777,5982,5962,4631]),\n",
    "            'clothers dryers':(np.arange(1949,1962),[106,319,492,635,737,890,1397,1523,1294,1240,1425,1260,1236]),\n",
    "            'ultrasound':(np.arange(1965,1979),[5,3,2,5,7,12,6,16,16,28,28,21,13,6]),\n",
    "            'mammography':(np.arange(1965,1979),[2,2,2,3,4,9,7,16,23,24,15,6,5,1]),\n",
    "            'foreign language':(np.arange(1952,1964),[1.25,0.77,0.86,0.48,1.34,3.56,3.36,6.24,5.95,6.24,4.89,0.25]),\n",
    "            'accelerated program':(np.arange(1952,1964),[0.67,0.48,2.11,0.29,2.59,2.21,16.80,11.04,14.40,6.43,6.15,1.15])}\n",
    "china_set = {'color tv':(np.arange(1997,2013),[2.6,1.2,2.11,3.79,3.6,7.33,7.18,5.29,8.42,5.68,6.57,5.49,6.48,5.42,10.72,5.15]),\n",
    "             'mobile phone':(np.arange(1997,2013),[1.7,1.6,3.84,12.36,14.5,28.89,27.18,21.33,25.6,15.88,12.3,6.84,9.02,7.82,16.39,7.39]),\n",
    "             }"
   ]
  },
  {
   "cell_type": "code",
   "execution_count": 4,
   "metadata": {
    "collapsed": false
   },
   "outputs": [
    {
     "name": "stdout",
     "output_type": "stream",
     "text": [
      "----------------------------------color televisions-----------------------------------\n",
      "Searching ends in 21 runs\n",
      "    p:0.01847, q:0.61586, m:39658, R2:0.9695\n",
      "    Time elasped:0.478 s\n",
      "----------------------------------clothers dryers-----------------------------------\n",
      "Searching ends in 19 runs\n",
      "    p:0.01360, q:0.32669, m:16497, R2:0.9181\n",
      "    Time elasped:0.686 s\n",
      "----------------------------------accelerated program-----------------------------------\n",
      "Searching ends in 23 runs\n",
      "    p:0.00089, q:0.89853, m:66, R2:0.7938\n",
      "    Time elasped:0.665 s\n",
      "----------------------------------ultrasound-----------------------------------\n",
      "Searching ends in 27 runs\n",
      "    p:0.00177, q:0.58464, m:176, R2:0.8342\n",
      "    Time elasped:0.943 s\n",
      "----------------------------------foreign language-----------------------------------\n",
      "Searching ends in 25 runs\n",
      "    p:0.00189, q:0.70569, m:37, R2:0.8410\n",
      "    Time elasped:0.777 s\n",
      "----------------------------------room air conditioners-----------------------------------\n",
      "Searching ends in 22 runs\n",
      "    p:0.00944, q:0.37477, m:18712, R2:0.9332\n",
      "    Time elasped:0.747 s\n",
      "----------------------------------mammography-----------------------------------\n",
      "Searching ends in 22 runs\n",
      "    p:0.00271, q:0.61909, m:128, R2:0.8672\n",
      "    Time elasped:0.746 s\n"
     ]
    }
   ],
   "source": [
    "for x in data_set.keys():\n",
    "    time1 = time.clock()\n",
    "    y = data_set[x][0]\n",
    "    s = data_set[x][1]\n",
    "    rgs = Random_Grid_Search(s)\n",
    "    print '----------------------------------%s-----------------------------------'%x\n",
    "    rgs.repetes = 1\n",
    "    fit = rgs.optima_search()[:2] \n",
    "    p,q,m = fit[0]\n",
    "    r2 = fit[1]\n",
    "    print '    p:%.5f, q:%.5f, m:%d, R2:%.4f'%(p,q,m,r2)\n",
    "    print '    Time elasped:%.3f s'%(time.clock()-time1)"
   ]
  },
  {
   "cell_type": "code",
   "execution_count": 90,
   "metadata": {
    "collapsed": true
   },
   "outputs": [],
   "source": [
    "class RGS_Discrete(Random_Grid_Search):\n",
    "    def f(self,params):\n",
    "        adopt_cont = [params[0]*params[2]]\n",
    "        i = 2\n",
    "        while i <= self.s_len:\n",
    "            x = (params[2]-sum(adopt_cont))*(params[0]+params[1]*sum(adopt_cont)/params[2])\n",
    "            adopt_cont.append(int(x))\n",
    "            i += 1\n",
    "        return np.array(adopt_cont)"
   ]
  },
  {
   "cell_type": "code",
   "execution_count": 81,
   "metadata": {
    "collapsed": false
   },
   "outputs": [],
   "source": [
    "s = data_set['room air conditioners'][1]\n",
    "rgs = RGS_Discrete(s)"
   ]
  },
  {
   "cell_type": "code",
   "execution_count": 84,
   "metadata": {
    "collapsed": false
   },
   "outputs": [
    {
     "name": "stdout",
     "output_type": "stream",
     "text": [
      "2.311082 s\n"
     ]
    }
   ],
   "source": [
    "time1 = time.clock()\n",
    "rgs.threshold = 1e-3\n",
    "estimate,r2 = rgs.optima_search()[:2]\n",
    "print time.clock()-time1,'s'"
   ]
  },
  {
   "cell_type": "code",
   "execution_count": 94,
   "metadata": {
    "collapsed": false
   },
   "outputs": [
    {
     "name": "stdout",
     "output_type": "stream",
     "text": [
      "----------------------------------color televisions-----------------------------------\n",
      "Searching ends in 100 runs\n",
      "    p:0.03291, q:0.63690, m:36781, R2:0.9499\n",
      "    Time elasped:13.376 s\n",
      "----------------------------------clothers dryers-----------------------------------\n",
      "Searching ends in 100 runs\n",
      "    p:0.01855, q:0.33177, m:15820, R2:0.9062\n",
      "    Time elasped:20.725 s\n",
      "----------------------------------accelerated program-----------------------------------\n",
      "Searching ends in 19 runs\n",
      "    p:0.01034, q:0.80661, m:73, R2:0.7636\n",
      "    Time elasped:3.879 s\n",
      "----------------------------------ultrasound-----------------------------------\n",
      "Searching ends in 27 runs\n",
      "    p:0.00685, q:0.61250, m:174, R2:0.8937\n",
      "    Time elasped:6.923 s\n",
      "----------------------------------foreign language-----------------------------------\n",
      "Searching ends in 23 runs\n",
      "    p:0.01782, q:0.57274, m:39, R2:0.8289\n",
      "    Time elasped:4.855 s\n",
      "----------------------------------room air conditioners-----------------------------------\n",
      "Searching ends in 100 runs\n",
      "    p:0.01395, q:0.38619, m:17819, R2:0.9212\n",
      "    Time elasped:21.554 s\n",
      "----------------------------------mammography-----------------------------------\n",
      "Searching ends in 38 runs\n",
      "    p:0.00793, q:0.72777, m:122, R2:0.9489\n",
      "    Time elasped:9.174 s\n"
     ]
    }
   ],
   "source": [
    "for x in data_set.keys():\n",
    "    time1 = time.clock()\n",
    "    y = data_set[x][0]\n",
    "    s = data_set[x][1]\n",
    "    rgs = RGS_Discrete(s)\n",
    "    rgs.t_n = 500\n",
    "    rgs.threshold = 1e-4\n",
    "    print '----------------------------------%s-----------------------------------'%x\n",
    "    rgs.repetes = 1\n",
    "    fit = rgs.optima_search()[:2] \n",
    "    p,q,m = fit[0]\n",
    "    r2 = fit[1]\n",
    "    print '    p:%.5f, q:%.5f, m:%d, R2:%.4f'%(p,q,m,r2)\n",
    "    print '    Time elasped:%.3f s'%(time.clock()-time1)"
   ]
  },
  {
   "cell_type": "code",
   "execution_count": 97,
   "metadata": {
    "collapsed": false
   },
   "outputs": [
    {
     "name": "stdout",
     "output_type": "stream",
     "text": [
      "Searching ends in 19 runs\n",
      "R2:0.886096069845\n"
     ]
    },
    {
     "data": {
      "image/png": "[encoded data removed]",
      "text/plain": [
       "<matplotlib.figure.Figure at 0x1148a1110>"
      ]
     },
     "metadata": {},
     "output_type": "display_data"
    }
   ],
   "source": [
    "s = data_set['ultrasound'][1]\n",
    "rgs = RGS_Discrete(s)\n",
    "rgs.threshold = 1e-4\n",
    "fit = rgs.optima_search()[:2]\n",
    "print 'R2:%s'%fit[1]\n",
    "rgs.draw_curve(fit[0])"
   ]
  },
  {
   "cell_type": "code",
   "execution_count": 98,
   "metadata": {
    "collapsed": false
   },
   "outputs": [
    {
     "name": "stdout",
     "output_type": "stream",
     "text": [
      "Searching ends in 17 runs\n",
      "R2:0.796905896712\n"
     ]
    },
    {
     "data": {
      "image/png": "[encoded data removed]",
      "text/plain": [
       "<matplotlib.figure.Figure at 0x114e83a90>"
      ]
     },
     "metadata": {},
     "output_type": "display_data"
    }
   ],
   "source": [
    "rgs_1 = Random_Grid_Search(s)\n",
    "fit_1 = rgs_1.optima_search()[:2]\n",
    "print 'R2:%s'%fit_1[1]\n",
    "rgs_1.draw_curve(fit[0])"
   ]
  }
 ],
 "metadata": {
  "anaconda-cloud": {},
  "kernelspec": {
   "display_name": "Python 2",
   "language": "python",
   "name": "python2"
  },
  "language_info": {
   "codemirror_mode": {
    "name": "ipython",
    "version": 2
   },
   "file_extension": ".py",
   "mimetype": "text/x-python",
   "name": "python",
   "nbconvert_exporter": "python",
   "pygments_lexer": "ipython2",
   "version": "2.7.10"
  }
 },
 "nbformat": 4,
 "nbformat_minor": 0
}
