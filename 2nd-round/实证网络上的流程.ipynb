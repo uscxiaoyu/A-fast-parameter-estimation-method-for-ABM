{
 "cells": [
  {
   "cell_type": "code",
   "execution_count": 1,
   "metadata": {},
   "outputs": [],
   "source": [
    "%matplotlib inline\n",
    "import pylab as pl\n",
    "import sys\n",
    "sys.path.append('/Users/xiaoyu/PycharmProjects/A-fast-method/')\n",
    "from generate_abm_data_2_empi_nwork import *"
   ]
  },
  {
   "cell_type": "code",
   "execution_count": 2,
   "metadata": {},
   "outputs": [],
   "source": [
    "bound_dict = {}\n",
    "g_1 = nx.read_gpickle('/Users/xiaoyu/IPython notebook/facebook.gpickle')\n",
    "g_2 = nx.read_gpickle('/Users/xiaoyu/IPython notebook/epinions.gpickle')"
   ]
  },
  {
   "cell_type": "markdown",
   "metadata": {},
   "source": [
    "### 确定参数facebook网络的初始参数范围\n",
    "\n",
    "p_cont = (0.001, 0.01), q_cont = (0.008, 0.015)"
   ]
  },
  {
   "cell_type": "code",
   "execution_count": null,
   "metadata": {},
   "outputs": [],
   "source": [
    "avg_degr1 = g_1.number_of_edges() / g_1.number_of_nodes()"
   ]
  },
  {
   "cell_type": "code",
   "execution_count": null,
   "metadata": {},
   "outputs": [],
   "source": [
    "0.38/avg_degr1, 0.54/avg_degr1"
   ]
  },
  {
   "cell_type": "code",
   "execution_count": null,
   "metadata": {},
   "outputs": [],
   "source": [
    "p = 0.001\n",
    "q = 0.008\n",
    "num_runs = 25\n",
    "t1 = time.process_time()\n",
    "diff_1 = Diffuse(p, q, g=g_1, num_runs=num_runs)\n",
    "d = diff_1.repete_diffuse(repetes=5)\n",
    "print(f'耗时{time.process_time()-t1:.2f}秒')"
   ]
  },
  {
   "cell_type": "code",
   "execution_count": null,
   "metadata": {},
   "outputs": [],
   "source": [
    "mean_d = np.mean(d, axis=0)\n",
    "fig = pl.figure(figsize=(8, 4))\n",
    "ax = fig.add_subplot(1, 1, 1)\n",
    "x = np.arange(1, num_runs+1)\n",
    "for u in d:\n",
    "    ax.plot(x, u, 'k-', lw=0.5)\n",
    "\n",
    "ax.plot(x, mean_d, 'r-', lw=2)\n",
    "print(f'巅峰扩散时间步:{np.argmax(mean_d)}, 巅峰扩散:{np.max(mean_d)}', )"
   ]
  },
  {
   "cell_type": "markdown",
   "metadata": {},
   "source": [
    "- 确定范围"
   ]
  },
  {
   "cell_type": "code",
   "execution_count": 3,
   "metadata": {},
   "outputs": [],
   "source": [
    "p_cont = (0.001, 0.01)\n",
    "q_cont = (0.008, 0.015)\n",
    "delta = (0.0005, 0.0005)"
   ]
  },
  {
   "cell_type": "code",
   "execution_count": 4,
   "metadata": {},
   "outputs": [
    {
     "name": "stdout",
     "output_type": "stream",
     "text": [
      "1  P:0.0065~0.0392  Q:0.4714~0.7748\n",
      "2  P:0.0043~0.0392  Q:0.4082~0.7748\n",
      "3  P:0.0045~0.0392  Q:0.2214~0.7748\n",
      "4  P:0.0030~0.0392  Q:0.2347~0.7748\n",
      "5  P:0.0042~0.0392  Q:0.1898~0.7748\n",
      "Exceed the maximal iteration: 100\n",
      "6  P:0.0030~0.0392  Q:0.2142~0.7748\n",
      "Exceed the maximal iteration: 100\n",
      "7  P:0.0015~0.0392  Q:0.2600~0.7748\n",
      "8  P:0.0025~0.0392  Q:0.2070~0.7748\n",
      "9  P:0.0034~0.0392  Q:0.2102~0.7748\n",
      "Exceed the maximal iteration: 100\n",
      "10  P:0.0021~0.0392  Q:0.1274~0.7748\n",
      "Exceed the maximal iteration: 100\n",
      "11  P:0.0007~0.0392  Q:0.1791~0.7748\n",
      "Exceed the maximal iteration: 100\n",
      "12  P:0.0015~0.0392  Q:0.1505~0.7748\n",
      "Exceed the maximal iteration: 100\n",
      "13  P:0.0007~0.0392  Q:0.1781~0.7748\n",
      "耗时 2261.34秒\n"
     ]
    }
   ],
   "source": [
    "t2 = time.process_time()\n",
    "ger_samp = Gen_para(g=g_1, p_cont=p_cont, q_cont=q_cont, delta=delta)\n",
    "bound = ger_samp.identify_range()\n",
    "print(f'耗时{time.process_time() - t2: .2f}秒' )"
   ]
  },
  {
   "cell_type": "code",
   "execution_count": 5,
   "metadata": {},
   "outputs": [
    {
     "data": {
      "text/plain": [
       "([(4.2949672960000034e-05, 0.01), (0.006999999999999999, 0.015)],\n",
       " [(0.0006875507721288364, 0.0391874520396968),\n",
       "  (0.17811530307808734, 0.7748140999691145)])"
      ]
     },
     "execution_count": 5,
     "metadata": {},
     "output_type": "execute_result"
    }
   ],
   "source": [
    "bound"
   ]
  },
  {
   "cell_type": "markdown",
   "metadata": {},
   "source": [
    "### 确定epinions网络的初始参数范围\n",
    "\n",
    "p_cont = (0.001, 0.005), q_cont = (0.015, 0.02)"
   ]
  },
  {
   "cell_type": "code",
   "execution_count": null,
   "metadata": {},
   "outputs": [],
   "source": [
    "g_2.number_of_edges() / g_2.number_of_nodes()"
   ]
  },
  {
   "cell_type": "code",
   "execution_count": null,
   "metadata": {},
   "outputs": [],
   "source": [
    "avg_degr2 = g_2.number_of_nodes()"
   ]
  },
  {
   "cell_type": "code",
   "execution_count": null,
   "metadata": {},
   "outputs": [],
   "source": [
    "0.38 / 22, 0.54 / 22"
   ]
  },
  {
   "cell_type": "code",
   "execution_count": null,
   "metadata": {},
   "outputs": [],
   "source": [
    "p = 0.001\n",
    "q = 0.008\n",
    "num_runs = 25\n",
    "t1 = time.process_time()\n",
    "diff_2 = Diffuse(p, q, g=g_2, num_runs=num_runs)\n",
    "d = diff_2.repete_diffuse(repetes=5)\n",
    "print(f'耗时{time.process_time()-t1:.2f}秒')"
   ]
  },
  {
   "cell_type": "code",
   "execution_count": null,
   "metadata": {},
   "outputs": [],
   "source": [
    "mean_d = np.mean(d, axis=0)\n",
    "fig = pl.figure(figsize=(8, 4))\n",
    "ax = fig.add_subplot(1, 1, 1)\n",
    "x = np.arange(1, num_runs+1)\n",
    "for u in d:\n",
    "    ax.plot(x, u, 'k-', lw=0.5)\n",
    "\n",
    "ax.plot(x, mean_d, 'r-', lw=2)\n",
    "print(f'巅峰扩散时间步:{np.argmax(mean_d)}, 巅峰扩散:{np.max(mean_d)}', )"
   ]
  },
  {
   "cell_type": "code",
   "execution_count": 10,
   "metadata": {},
   "outputs": [],
   "source": [
    "p_cont = (0.001, 0.01)\n",
    "q_cont = (0.015, 0.04)\n",
    "delta = (0.0005, 0.003)"
   ]
  },
  {
   "cell_type": "code",
   "execution_count": 11,
   "metadata": {},
   "outputs": [
    {
     "name": "stdout",
     "output_type": "stream",
     "text": [
      "Exceed the maximal iteration: 100\n",
      "1  P:0.0106~0.0780  Q:0.2790~0.6719\n",
      "Exceed the maximal iteration: 100\n",
      "2  P:0.0074~0.0780  Q:0.3402~0.6719\n",
      "Exceed the maximal iteration: 100\n",
      "3  P:0.0075~0.0780  Q:0.3164~0.6719\n",
      "Exceed the maximal iteration: 100\n",
      "4  P:0.0089~0.0780  Q:0.2728~0.6719\n",
      "Exceed the maximal iteration: 100\n",
      "5  P:0.0076~0.0780  Q:0.2477~0.6719\n",
      "Exceed the maximal iteration: 100\n",
      "6  P:0.0073~0.0780  Q:0.2749~0.6719\n",
      "Exceed the maximal iteration: 100\n",
      "7  P:0.0053~0.0780  Q:0.2993~0.6719\n",
      "Exceed the maximal iteration: 100\n",
      "8  P:0.0055~0.0780  Q:0.2833~0.6719\n",
      "Exceed the maximal iteration: 100\n",
      "9  P:0.0062~0.0780  Q:0.2769~0.6719\n",
      "Exceed the maximal iteration: 100\n",
      "10  P:0.0038~0.0780  Q:0.2795~0.6719\n",
      "Exceed the maximal iteration: 100\n",
      "11  P:0.0045~0.0780  Q:0.2751~0.6719\n",
      "Exceed the maximal iteration: 100\n",
      "12  P:0.0030~0.0780  Q:0.2679~0.6719\n",
      "Exceed the maximal iteration: 100\n",
      "13  P:0.0040~0.0780  Q:0.2284~0.6719\n",
      "Exceed the maximal iteration: 100\n",
      "14  P:0.0054~0.0780  Q:0.2378~0.6719\n",
      "15  P:0.0035~0.0780  Q:0.2557~0.6719\n",
      "Exceed the maximal iteration: 100\n",
      "16  P:0.0056~0.0780  Q:0.1934~0.6719\n",
      "Exceed the maximal iteration: 100\n",
      "17  P:0.0031~0.0780  Q:0.1917~0.6719\n",
      "18  P:0.0017~0.0780  Q:0.2355~0.6719\n",
      "Exceed the maximal iteration: 100\n",
      "19  P:0.0029~0.0780  Q:0.1798~0.6719\n",
      "Exceed the maximal iteration: 100\n",
      "20  P:0.0019~0.0780  Q:0.2044~0.6719\n",
      "Exceed the maximal iteration: 100\n",
      "21  P:0.0019~0.0780  Q:0.2388~0.6719\n",
      "Exceed the maximal iteration: 100\n",
      "22  P:0.0014~0.0780  Q:0.1800~0.6719\n",
      "Exceed the maximal iteration: 100\n",
      "23  P:0.0016~0.0780  Q:0.1692~0.6719\n"
     ]
    },
    {
     "ename": "KeyboardInterrupt",
     "evalue": "",
     "output_type": "error",
     "traceback": [
      "\u001b[0;31m---------------------------------------------------------------------------\u001b[0m",
      "\u001b[0;31mKeyboardInterrupt\u001b[0m                         Traceback (most recent call last)",
      "\u001b[0;32m<ipython-input-11-f95f768ba811>\u001b[0m in \u001b[0;36m<module>\u001b[0;34m()\u001b[0m\n\u001b[1;32m      1\u001b[0m \u001b[0mt2\u001b[0m \u001b[0;34m=\u001b[0m \u001b[0mtime\u001b[0m\u001b[0;34m.\u001b[0m\u001b[0mprocess_time\u001b[0m\u001b[0;34m(\u001b[0m\u001b[0;34m)\u001b[0m\u001b[0;34m\u001b[0m\u001b[0m\n\u001b[1;32m      2\u001b[0m \u001b[0mger_samp\u001b[0m \u001b[0;34m=\u001b[0m \u001b[0mGen_para\u001b[0m\u001b[0;34m(\u001b[0m\u001b[0mg\u001b[0m\u001b[0;34m=\u001b[0m\u001b[0mg_2\u001b[0m\u001b[0;34m,\u001b[0m \u001b[0mp_cont\u001b[0m\u001b[0;34m=\u001b[0m\u001b[0mp_cont\u001b[0m\u001b[0;34m,\u001b[0m \u001b[0mq_cont\u001b[0m\u001b[0;34m=\u001b[0m\u001b[0mq_cont\u001b[0m\u001b[0;34m,\u001b[0m \u001b[0mdelta\u001b[0m\u001b[0;34m=\u001b[0m\u001b[0mdelta\u001b[0m\u001b[0;34m)\u001b[0m\u001b[0;34m\u001b[0m\u001b[0m\n\u001b[0;32m----> 3\u001b[0;31m \u001b[0mbound2\u001b[0m \u001b[0;34m=\u001b[0m \u001b[0mger_samp\u001b[0m\u001b[0;34m.\u001b[0m\u001b[0midentify_range\u001b[0m\u001b[0;34m(\u001b[0m\u001b[0;34m)\u001b[0m\u001b[0;34m\u001b[0m\u001b[0m\n\u001b[0m\u001b[1;32m      4\u001b[0m \u001b[0mprint\u001b[0m\u001b[0;34m(\u001b[0m\u001b[0;34mf'耗时{time.process_time() - t2: .2f}秒'\u001b[0m \u001b[0;34m)\u001b[0m\u001b[0;34m\u001b[0m\u001b[0m\n",
      "\u001b[0;32m~/PycharmProjects/A-fast-method/generate_abm_data_2_empi_nwork.py\u001b[0m in \u001b[0;36midentify_range\u001b[0;34m(self)\u001b[0m\n\u001b[1;32m     89\u001b[0m             \u001b[0;32melse\u001b[0m\u001b[0;34m:\u001b[0m\u001b[0;34m\u001b[0m\u001b[0m\n\u001b[1;32m     90\u001b[0m                 \u001b[0;32mif\u001b[0m \u001b[0mc1\u001b[0m \u001b[0;34m!=\u001b[0m \u001b[0;36m0\u001b[0m\u001b[0;34m:\u001b[0m\u001b[0;34m\u001b[0m\u001b[0m\n\u001b[0;32m---> 91\u001b[0;31m                     \u001b[0mest_cont\u001b[0m\u001b[0;34m[\u001b[0m\u001b[0;36m0\u001b[0m\u001b[0;34m]\u001b[0m \u001b[0;34m=\u001b[0m \u001b[0mself\u001b[0m\u001b[0;34m.\u001b[0m\u001b[0madd_data\u001b[0m\u001b[0;34m(\u001b[0m\u001b[0mmin_p\u001b[0m\u001b[0;34m,\u001b[0m \u001b[0mmin_q\u001b[0m\u001b[0;34m)\u001b[0m\u001b[0;34m\u001b[0m\u001b[0m\n\u001b[0m\u001b[1;32m     92\u001b[0m                 \u001b[0;32mif\u001b[0m \u001b[0mc2\u001b[0m \u001b[0;34m!=\u001b[0m \u001b[0;36m0\u001b[0m\u001b[0;34m:\u001b[0m\u001b[0;34m\u001b[0m\u001b[0m\n\u001b[1;32m     93\u001b[0m                     \u001b[0mest_cont\u001b[0m\u001b[0;34m[\u001b[0m\u001b[0;36m1\u001b[0m\u001b[0;34m]\u001b[0m \u001b[0;34m=\u001b[0m \u001b[0mself\u001b[0m\u001b[0;34m.\u001b[0m\u001b[0madd_data\u001b[0m\u001b[0;34m(\u001b[0m\u001b[0mmax_p\u001b[0m\u001b[0;34m,\u001b[0m \u001b[0mmax_q\u001b[0m\u001b[0;34m)\u001b[0m\u001b[0;34m\u001b[0m\u001b[0m\n",
      "\u001b[0;32m~/PycharmProjects/A-fast-method/generate_abm_data_2_empi_nwork.py\u001b[0m in \u001b[0;36madd_data\u001b[0;34m(self, p, q)\u001b[0m\n\u001b[1;32m     50\u001b[0m     \u001b[0;32mdef\u001b[0m \u001b[0madd_data\u001b[0m\u001b[0;34m(\u001b[0m\u001b[0mself\u001b[0m\u001b[0;34m,\u001b[0m \u001b[0mp\u001b[0m\u001b[0;34m,\u001b[0m \u001b[0mq\u001b[0m\u001b[0;34m)\u001b[0m\u001b[0;34m:\u001b[0m\u001b[0;34m\u001b[0m\u001b[0m\n\u001b[1;32m     51\u001b[0m         \u001b[0mdiff\u001b[0m \u001b[0;34m=\u001b[0m \u001b[0mDiffuse\u001b[0m\u001b[0;34m(\u001b[0m\u001b[0mp\u001b[0m\u001b[0;34m,\u001b[0m \u001b[0mq\u001b[0m\u001b[0;34m,\u001b[0m \u001b[0mg\u001b[0m\u001b[0;34m=\u001b[0m\u001b[0mself\u001b[0m\u001b[0;34m.\u001b[0m\u001b[0mg\u001b[0m\u001b[0;34m)\u001b[0m\u001b[0;34m\u001b[0m\u001b[0m\n\u001b[0;32m---> 52\u001b[0;31m         \u001b[0mx\u001b[0m \u001b[0;34m=\u001b[0m \u001b[0mnp\u001b[0m\u001b[0;34m.\u001b[0m\u001b[0mmean\u001b[0m\u001b[0;34m(\u001b[0m\u001b[0mdiff\u001b[0m\u001b[0;34m.\u001b[0m\u001b[0mrepete_diffuse\u001b[0m\u001b[0;34m(\u001b[0m\u001b[0;34m)\u001b[0m\u001b[0;34m,\u001b[0m \u001b[0maxis\u001b[0m\u001b[0;34m=\u001b[0m\u001b[0;36m0\u001b[0m\u001b[0;34m)\u001b[0m\u001b[0;34m\u001b[0m\u001b[0m\n\u001b[0m\u001b[1;32m     53\u001b[0m         \u001b[0mmax_idx\u001b[0m \u001b[0;34m=\u001b[0m \u001b[0mnp\u001b[0m\u001b[0;34m.\u001b[0m\u001b[0margmax\u001b[0m\u001b[0;34m(\u001b[0m\u001b[0mx\u001b[0m\u001b[0;34m)\u001b[0m\u001b[0;34m\u001b[0m\u001b[0m\n\u001b[1;32m     54\u001b[0m         \u001b[0ms\u001b[0m \u001b[0;34m=\u001b[0m \u001b[0mx\u001b[0m\u001b[0;34m[\u001b[0m\u001b[0;34m:\u001b[0m \u001b[0;34m(\u001b[0m\u001b[0mmax_idx\u001b[0m \u001b[0;34m+\u001b[0m \u001b[0;36m2\u001b[0m\u001b[0;34m)\u001b[0m\u001b[0;34m]\u001b[0m\u001b[0;34m\u001b[0m\u001b[0m\n",
      "\u001b[0;32m~/PycharmProjects/A-fast-method/generate_abm_data_2_empi_nwork.py\u001b[0m in \u001b[0;36mrepete_diffuse\u001b[0;34m(self, repetes)\u001b[0m\n\u001b[1;32m     37\u001b[0m \u001b[0;34m\u001b[0m\u001b[0m\n\u001b[1;32m     38\u001b[0m     \u001b[0;32mdef\u001b[0m \u001b[0mrepete_diffuse\u001b[0m\u001b[0;34m(\u001b[0m\u001b[0mself\u001b[0m\u001b[0;34m,\u001b[0m \u001b[0mrepetes\u001b[0m\u001b[0;34m=\u001b[0m\u001b[0;36m10\u001b[0m\u001b[0;34m)\u001b[0m\u001b[0;34m:\u001b[0m  \u001b[0;31m# 多次扩散\u001b[0m\u001b[0;34m\u001b[0m\u001b[0m\n\u001b[0;32m---> 39\u001b[0;31m         \u001b[0;32mreturn\u001b[0m \u001b[0;34m[\u001b[0m\u001b[0mself\u001b[0m\u001b[0;34m.\u001b[0m\u001b[0msingle_diffuse\u001b[0m\u001b[0;34m(\u001b[0m\u001b[0;34m)\u001b[0m \u001b[0;32mfor\u001b[0m \u001b[0mi\u001b[0m \u001b[0;32min\u001b[0m \u001b[0mrange\u001b[0m\u001b[0;34m(\u001b[0m\u001b[0mrepetes\u001b[0m\u001b[0;34m)\u001b[0m\u001b[0;34m]\u001b[0m\u001b[0;34m\u001b[0m\u001b[0m\n\u001b[0m\u001b[1;32m     40\u001b[0m \u001b[0;34m\u001b[0m\u001b[0m\n\u001b[1;32m     41\u001b[0m \u001b[0;34m\u001b[0m\u001b[0m\n",
      "\u001b[0;32m~/PycharmProjects/A-fast-method/generate_abm_data_2_empi_nwork.py\u001b[0m in \u001b[0;36m<listcomp>\u001b[0;34m(.0)\u001b[0m\n\u001b[1;32m     37\u001b[0m \u001b[0;34m\u001b[0m\u001b[0m\n\u001b[1;32m     38\u001b[0m     \u001b[0;32mdef\u001b[0m \u001b[0mrepete_diffuse\u001b[0m\u001b[0;34m(\u001b[0m\u001b[0mself\u001b[0m\u001b[0;34m,\u001b[0m \u001b[0mrepetes\u001b[0m\u001b[0;34m=\u001b[0m\u001b[0;36m10\u001b[0m\u001b[0;34m)\u001b[0m\u001b[0;34m:\u001b[0m  \u001b[0;31m# 多次扩散\u001b[0m\u001b[0;34m\u001b[0m\u001b[0m\n\u001b[0;32m---> 39\u001b[0;31m         \u001b[0;32mreturn\u001b[0m \u001b[0;34m[\u001b[0m\u001b[0mself\u001b[0m\u001b[0;34m.\u001b[0m\u001b[0msingle_diffuse\u001b[0m\u001b[0;34m(\u001b[0m\u001b[0;34m)\u001b[0m \u001b[0;32mfor\u001b[0m \u001b[0mi\u001b[0m \u001b[0;32min\u001b[0m \u001b[0mrange\u001b[0m\u001b[0;34m(\u001b[0m\u001b[0mrepetes\u001b[0m\u001b[0;34m)\u001b[0m\u001b[0;34m]\u001b[0m\u001b[0;34m\u001b[0m\u001b[0m\n\u001b[0m\u001b[1;32m     40\u001b[0m \u001b[0;34m\u001b[0m\u001b[0m\n\u001b[1;32m     41\u001b[0m \u001b[0;34m\u001b[0m\u001b[0m\n",
      "\u001b[0;32m~/PycharmProjects/A-fast-method/generate_abm_data_2_empi_nwork.py\u001b[0m in \u001b[0;36msingle_diffuse\u001b[0;34m(self)\u001b[0m\n\u001b[1;32m     31\u001b[0m                 \u001b[0;32mif\u001b[0m \u001b[0mself\u001b[0m\u001b[0;34m.\u001b[0m\u001b[0mdecision\u001b[0m\u001b[0;34m(\u001b[0m\u001b[0mi\u001b[0m\u001b[0;34m)\u001b[0m\u001b[0;34m:\u001b[0m\u001b[0;34m\u001b[0m\u001b[0m\n\u001b[1;32m     32\u001b[0m                     \u001b[0mself\u001b[0m\u001b[0;34m.\u001b[0m\u001b[0mg\u001b[0m\u001b[0;34m.\u001b[0m\u001b[0mnode\u001b[0m\u001b[0;34m[\u001b[0m\u001b[0mi\u001b[0m\u001b[0;34m]\u001b[0m\u001b[0;34m[\u001b[0m\u001b[0;34m'state'\u001b[0m\u001b[0;34m]\u001b[0m \u001b[0;34m=\u001b[0m \u001b[0;32mTrue\u001b[0m\u001b[0;34m\u001b[0m\u001b[0m\n\u001b[0;32m---> 33\u001b[0;31m                     \u001b[0mnon_adopt_set\u001b[0m\u001b[0;34m.\u001b[0m\u001b[0mremove\u001b[0m\u001b[0;34m(\u001b[0m\u001b[0mi\u001b[0m\u001b[0;34m)\u001b[0m\u001b[0;34m\u001b[0m\u001b[0m\n\u001b[0m\u001b[1;32m     34\u001b[0m                     \u001b[0mx\u001b[0m \u001b[0;34m+=\u001b[0m \u001b[0;36m1\u001b[0m\u001b[0;34m\u001b[0m\u001b[0m\n\u001b[1;32m     35\u001b[0m             \u001b[0mnum_of_adopt\u001b[0m\u001b[0;34m.\u001b[0m\u001b[0mappend\u001b[0m\u001b[0;34m(\u001b[0m\u001b[0mx\u001b[0m\u001b[0;34m)\u001b[0m\u001b[0;34m\u001b[0m\u001b[0m\n",
      "\u001b[0;31mKeyboardInterrupt\u001b[0m: "
     ]
    }
   ],
   "source": [
    "t2 = time.process_time()\n",
    "ger_samp = Gen_para(g=g_2, p_cont=p_cont, q_cont=q_cont, delta=delta)\n",
    "bound2 = ger_samp.identify_range()\n",
    "print(f'耗时{time.process_time() - t2: .2f}秒' )"
   ]
  },
  {
   "cell_type": "code",
   "execution_count": null,
   "metadata": {},
   "outputs": [],
   "source": []
  }
 ],
 "metadata": {
  "kernelspec": {
   "display_name": "python37",
   "language": "python",
   "name": "python37"
  },
  "language_info": {
   "codemirror_mode": {
    "name": "ipython",
    "version": 3
   },
   "file_extension": ".py",
   "mimetype": "text/x-python",
   "name": "python",
   "nbconvert_exporter": "python",
   "pygments_lexer": "ipython3",
   "version": "3.7.0"
  }
 },
 "nbformat": 4,
 "nbformat_minor": 2
}
