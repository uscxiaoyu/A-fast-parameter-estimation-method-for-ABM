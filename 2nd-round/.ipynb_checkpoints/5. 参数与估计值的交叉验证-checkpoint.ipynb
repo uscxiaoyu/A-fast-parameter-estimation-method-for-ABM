{
 "cells": [
  {
   "cell_type": "code",
   "execution_count": 1,
   "metadata": {},
   "outputs": [
    {
     "name": "stderr",
     "output_type": "stream",
     "text": [
      "//anaconda/envs/python36/lib/python3.6/site-packages/statsmodels/compat/pandas.py:56: FutureWarning: The pandas.core.datetools module is deprecated and will be removed in a future version. Please use the pandas.tseries module instead.\n",
      "  from pandas.core import datetools\n"
     ]
    }
   ],
   "source": [
    "%matplotlib inline\n",
    "import pylab as pl\n",
    "import numpy as np\n",
    "import statsmodels.formula.api as smf\n",
    "import statsmodels.api as sm\n",
    "import pandas as pd\n",
    "import networkx as nx\n",
    "import random"
   ]
  },
  {
   "cell_type": "code",
   "execution_count": 2,
   "metadata": {},
   "outputs": [],
   "source": [
    "u = \"/Users/xiaoyu/PycharmProjects/A-fast-method/auto_data/\""
   ]
  },
  {
   "cell_type": "code",
   "execution_count": 58,
   "metadata": {},
   "outputs": [],
   "source": [
    "def calcu_distance(data, num_train=50):\n",
    "    '''\n",
    "    data: [[p, q, P, Q, M, r2]]\n",
    "    '''\n",
    "    df = pd.DataFrame(data, columns=['p', 'q', 'P', 'Q', 'M', 'r2'])\n",
    "    \n",
    "    # 随机生成训练集和测试集\n",
    "    num_tol = len(data)\n",
    "    idx_cont = np.arange(num_tol)\n",
    "    idx_train = np.random.choice(idx_cont, size=num_train, replace=False)  # for the training set\n",
    "    idx_test = np.array([i for i in idx_cont if i not in idx_train])  # the remaining is the test set\n",
    "    train_set = df.loc[idx_train, ['p', 'q', 'P', 'Q']]\n",
    "    test_set = df.loc[idx_test, ['p', 'q', 'P', 'Q']]\n",
    "    \n",
    "    # 预测 p\n",
    "    result_p = smf.ols('p ~ P-1', data=train_set).fit()\n",
    "    k_p = result_p.params['P']\n",
    "    r2_p = result_p.rsquared\n",
    "    train_set['pred_p'] = k_p * train_set['P']\n",
    "    test_set['pred_p'] = k_p * test_set['P']\n",
    "    \n",
    "    # 预测 q\n",
    "    result_q = smf.ols('q ~ Q-1', data=train_set).fit()\n",
    "    k_q = result_q.params['Q']\n",
    "    r2_q = result_q.rsquared\n",
    "    train_set['pred_q'] = k_q * train_set['Q']\n",
    "    test_set['pred_q'] = k_q * test_set['Q']\n",
    "    \n",
    "    # 测试集中预测点和实际点之前的距离\n",
    "    dis_train = np.sqrt((train_set['p'] - train_set['pred_p']) ** 2 \n",
    "                                      + (train_set['q'] - train_set['pred_q']) ** 2)\n",
    "    \n",
    "    dis_test = np.sqrt((test_set['p'] - test_set['pred_p']) ** 2 \n",
    "                                      + (test_set['q'] - test_set['pred_q']) ** 2)\n",
    "    \n",
    "    return dis_train, dis_test"
   ]
  },
  {
   "cell_type": "code",
   "execution_count": 3,
   "metadata": {},
   "outputs": [],
   "source": [
    "coeff_cont_gnm = np.load(u +\"estimate_gnm_random_graph(10000,30000).npy\")"
   ]
  },
  {
   "cell_type": "code",
   "execution_count": 4,
   "metadata": {},
   "outputs": [],
   "source": [
    "df = pd.DataFrame(coeff_cont_gnm, columns=['p', 'q', 'P', 'Q', 'M', 'r2'])"
   ]
  },
  {
   "cell_type": "code",
   "execution_count": 17,
   "metadata": {},
   "outputs": [
    {
     "data": {
      "text/plain": [
       "0.00038000000000000008"
      ]
     },
     "execution_count": 17,
     "metadata": {},
     "output_type": "execute_result"
    }
   ],
   "source": [
    "df.p[1]"
   ]
  },
  {
   "cell_type": "code",
   "execution_count": 7,
   "metadata": {},
   "outputs": [
    {
     "data": {
      "text/plain": [
       "array([ 0.93650192,  0.43715499,  0.44583184,  0.39029592,  0.07179651,\n",
       "        0.89721066,  0.56451631,  0.50620184,  0.45762912,  0.14422405,\n",
       "        0.77740879,  0.1007822 ,  0.33661231,  0.68379565,  0.37807349,\n",
       "        0.04682607,  0.88884482,  0.69594574,  0.59016909,  0.81012765,\n",
       "        0.75539555,  0.26001813,  0.17471035,  0.02668568,  0.32745221,\n",
       "        0.87906873,  0.70788046,  0.39926874,  0.95138699,  0.79884795,\n",
       "        0.53002662,  0.03972305,  0.29699794,  0.49977928,  0.45222103,\n",
       "        0.89129425,  0.78112336,  0.07287609,  0.95392489,  0.66491344,\n",
       "        0.97613388,  0.45493332,  0.82832033,  0.22355973,  0.25332517,\n",
       "        0.81260895,  0.62477515,  0.09042568,  0.5525706 ,  0.15330352,\n",
       "        0.74788285,  0.34288815,  0.71669819,  0.84708989,  0.15036005,\n",
       "        0.68578148,  0.95674264,  0.37263123,  0.87929402,  0.16865192,\n",
       "        0.92307555,  0.32915211,  0.83772294,  0.18336758,  0.36573977,\n",
       "        0.34606906,  0.85839609,  0.02102817,  0.6208789 ,  0.58547202,\n",
       "        0.52009212,  0.23194347,  0.60090529,  0.56701535,  0.33522968,\n",
       "        0.79064966,  0.74921902,  0.36269639,  0.10156541,  0.0788203 ,\n",
       "        0.45609716,  0.27930924,  0.20227947,  0.17474292,  0.46373616,\n",
       "        0.41974335,  0.02797203,  0.8023189 ,  0.14675912,  0.72860905,\n",
       "        0.6264814 ,  0.48210536,  0.94742692,  0.04109795,  0.08442289,\n",
       "        0.79434631,  0.02114809,  0.64780807,  0.77048752,  0.58787613])"
      ]
     },
     "execution_count": 7,
     "metadata": {},
     "output_type": "execute_result"
    }
   ],
   "source": [
    "np.random.random(100)"
   ]
  },
  {
   "cell_type": "code",
   "execution_count": 48,
   "metadata": {},
   "outputs": [],
   "source": [
    "def grid_distance(data, num_samp=10000):\n",
    "    df = pd.DataFrame(data, columns=['p', 'q', 'P', 'Q', 'M', 'r2'])\n",
    "    min_p, max_p = df.p.min(), df.p.max()\n",
    "    min_q, max_q = df.q.min(), df.q.max()\n",
    "    samp_p = (max_p - min_p) * np.random.random(num_samp) + min_p\n",
    "    samp_q = (max_q - min_q) * np.random.random(num_samp) + min_q\n",
    "    d_cont = []\n",
    "    for i in df.index:\n",
    "        d = np.mean(np.sqrt(np.square(samp_p - df.p[i]) + np.square(samp_q - df.q[i])))\n",
    "        d_cont.append(d)\n",
    "    \n",
    "    return np.mean(d_cont)"
   ]
  },
  {
   "cell_type": "code",
   "execution_count": 49,
   "metadata": {},
   "outputs": [
    {
     "name": "stdout",
     "output_type": "stream",
     "text": [
      "0.01774\n"
     ]
    }
   ],
   "source": [
    "x = grid_distance(coeff_cont_gnm, num_samp=10000)\n",
    "print('%.5f' % x)"
   ]
  },
  {
   "cell_type": "markdown",
   "metadata": {},
   "source": [
    "$p=k_1\\cdot P$\n",
    "\n",
    "$q=k_2\\cdot Q$\n",
    "\n",
    "$D(\\mathrm{fit, predict}) = \\sqrt{(\\hat p - p)^2 + (\\hat q - q)^2}$"
   ]
  },
  {
   "cell_type": "markdown",
   "metadata": {},
   "source": [
    "### 1. topology"
   ]
  },
  {
   "cell_type": "code",
   "execution_count": 50,
   "metadata": {},
   "outputs": [],
   "source": [
    "coeff_cont_gnm = np.load(u +\"estimate_gnm_random_graph(10000,30000).npy\")\n",
    "coeff_cont_ba =  np.load(u +\"estimate_barabasi_albert_graph(10000,3).npy\")\n",
    "coeff_cont_exp = np.load(u +\"estimate_exponential_graph(10000,3).npy\")\n",
    "coeff_cont_gua = np.load(u +\"estimate_gaussian_graph(10000,3).npy\")\n",
    "coeff_cont_log = np.load(u +\"estimate_lognormal_graph(10000,3).npy\")\n",
    "coeff_cont_full = np.load(u+\"estimate_complete_graph(10000).npy\")\n",
    "coeff_cont_ws0 =  np.load(u +\"estimate_watts_strogatz_graph(10000,6,0).npy\")\n",
    "coeff_cont_ws01 = np.load(u +\"estimate_watts_strogatz_graph(10000,6,0.1).npy\")\n",
    "coeff_cont_ws03 = np.load(u +\"estimate_watts_strogatz_graph(10000,6,0.3).npy\")\n",
    "coeff_cont_ws05 = np.load(u +\"estimate_watts_strogatz_graph(10000,6,0.5).npy\")\n",
    "coeff_cont_ws07 = np.load(u +\"estimate_watts_strogatz_graph(10000,6,0.7).npy\")\n",
    "coeff_cont_ws09 = np.load(u +\"estimate_watts_strogatz_graph(10000,6,0.9).npy\")\n",
    "coeff_cont_ws10 = np.load(u +\"estimate_watts_strogatz_graph(10000,6,1.0).npy\")"
   ]
  },
  {
   "cell_type": "code",
   "execution_count": 51,
   "metadata": {},
   "outputs": [],
   "source": [
    "d_cont = [coeff_cont_log, coeff_cont_ba, coeff_cont_exp, coeff_cont_gua,\n",
    "          coeff_cont_gnm, coeff_cont_full,\n",
    "          coeff_cont_ws0, coeff_cont_ws01, coeff_cont_ws03,\n",
    "          coeff_cont_ws05, coeff_cont_ws07, coeff_cont_ws09, coeff_cont_ws10]\n",
    "\n",
    "title_cont = ['LOG','BA','EXP','GAU','ER', 'Full', 'WS-0','WS-0.1','WS-0.3','WS-0.5','WS-0.7','WS-0.9','WS-1']"
   ]
  },
  {
   "cell_type": "code",
   "execution_count": 143,
   "metadata": {},
   "outputs": [
    {
     "name": "stdout",
     "output_type": "stream",
     "text": [
      "LOG \t 0.9959, 0.0042\n",
      "BA \t 0.9920, 0.0037\n",
      "EXP \t 0.9988, 0.0016\n",
      "GAU \t 0.9993, 0.0004\n",
      "ER \t 0.9992, 0.0005\n",
      "Full \t 0.9988, 0.0011\n",
      "WS-0 \t 0.9746, 0.0149\n",
      "WS-0.1 \t 0.9947, 0.0025\n",
      "WS-0.3 \t 0.9975, 0.0026\n",
      "WS-0.5 \t 0.9987, 0.0007\n",
      "WS-0.7 \t 0.9988, 0.0007\n",
      "WS-0.9 \t 0.9989, 0.0007\n",
      "WS-1 \t 0.9988, 0.0007\n"
     ]
    }
   ],
   "source": [
    "mean_r2 = [np.mean(x[:, 5]) for x in d_cont]\n",
    "std_r2 = [np.std(x[:, 5]) for x in d_cont]\n",
    "\n",
    "for i, x in enumerate(zip(mean_r2, std_r2)):\n",
    "    print(title_cont[i], '\\t' ,'%6.4f, %.4f' % tuple(x))"
   ]
  },
  {
   "cell_type": "markdown",
   "metadata": {},
   "source": [
    "#### (1) P and p"
   ]
  },
  {
   "cell_type": "code",
   "execution_count": 69,
   "metadata": {},
   "outputs": [
    {
     "name": "stdout",
     "output_type": "stream",
     "text": [
      "LOG || R2: 0.9952, beta: 5.56E-01\n",
      "BA || R2: 0.9908, beta: 6.09E-01\n",
      "EXP || R2: 0.9989, beta: 7.33E-01\n",
      "GAU || R2: 0.9985, beta: 7.98E-01\n",
      "ER || R2: 0.9986, beta: 8.06E-01\n",
      "Full || R2: 0.9941, beta: 1.45E+00\n",
      "WS-0 || R2: 0.9624, beta: 4.27E-01\n",
      "WS-0.1 || R2: 0.9919, beta: 6.05E-01\n",
      "WS-0.3 || R2: 0.9969, beta: 7.32E-01\n",
      "WS-0.5 || R2: 0.9964, beta: 7.70E-01\n",
      "WS-0.7 || R2: 0.9966, beta: 7.81E-01\n",
      "WS-0.9 || R2: 0.9966, beta: 7.88E-01\n",
      "WS-1 || R2: 0.9970, beta: 7.85E-01\n"
     ]
    }
   ],
   "source": [
    "res_p = []\n",
    "for i, title in enumerate(title_cont):\n",
    "    X_data = d_cont[i][:, 2]\n",
    "    Y_data = d_cont[i][:, 0]\n",
    "    to_fit = pd.DataFrame({'X':X_data,'Y':Y_data})\n",
    "    results = smf.ols('Y ~ X-1', data=to_fit).fit()\n",
    "    a = results.params['X']\n",
    "    r2 = results.rsquared\n",
    "    print('%s || R2: %.4f, beta: %.2E' %(title, r2, a))\n",
    "    res_p.append([r2, a])"
   ]
  },
  {
   "cell_type": "code",
   "execution_count": 77,
   "metadata": {},
   "outputs": [
    {
     "data": {
      "text/plain": [
       "[[0.99522622448136866, 0.55568727641227522],\n",
       " [0.99082137889934496, 0.60894267762423526],\n",
       " [0.99887528322697472, 0.73283401029109219],\n",
       " [0.99852502319102321, 0.7981978930451944],\n",
       " [0.99855969562511127, 0.80561267363268196],\n",
       " [0.99412493752235043, 1.4545755211615694],\n",
       " [0.9624062376065835, 0.42747195607944366],\n",
       " [0.99193796251663846, 0.60507789242274879],\n",
       " [0.99687004623341069, 0.73191083981641181],\n",
       " [0.99641623563192661, 0.77007107974157629],\n",
       " [0.99659674939173903, 0.78146541806972447],\n",
       " [0.99659134890015799, 0.78753218233808653],\n",
       " [0.99698091140381551, 0.78502607563362548]]"
      ]
     },
     "execution_count": 77,
     "metadata": {},
     "output_type": "execute_result"
    }
   ],
   "source": [
    "res_p"
   ]
  },
  {
   "cell_type": "markdown",
   "metadata": {},
   "source": [
    "#### (2) Q and q"
   ]
  },
  {
   "cell_type": "code",
   "execution_count": 70,
   "metadata": {},
   "outputs": [
    {
     "name": "stdout",
     "output_type": "stream",
     "text": [
      "LOG || R2: 0.9883, beta: 7.70E-02\n",
      "BA || R2: 0.9916, beta: 1.27E-01\n",
      "EXP || R2: 0.9958, beta: 1.29E-01\n",
      "GAU || R2: 0.9996, beta: 1.71E-01\n",
      "ER || R2: 0.9991, beta: 1.97E-01\n",
      "Full || R2: 0.9987, beta: 1.12E-04\n",
      "WS-0 || R2: 0.8970, beta: 3.62E-01\n",
      "WS-0.1 || R2: 0.9769, beta: 3.03E-01\n",
      "WS-0.3 || R2: 0.9917, beta: 2.49E-01\n",
      "WS-0.5 || R2: 0.9975, beta: 2.29E-01\n",
      "WS-0.7 || R2: 0.9984, beta: 2.22E-01\n",
      "WS-0.9 || R2: 0.9984, beta: 2.20E-01\n",
      "WS-1 || R2: 0.9985, beta: 2.20E-01\n"
     ]
    }
   ],
   "source": [
    "res_q = []\n",
    "for i, title in enumerate(title_cont):\n",
    "    X_data = d_cont[i][:, 3]\n",
    "    Y_data = d_cont[i][:, 1]\n",
    "    to_fit = pd.DataFrame({'X':X_data,'Y':Y_data})\n",
    "    results = smf.ols('Y ~ X-1', data=to_fit).fit()\n",
    "    a = results.params['X']\n",
    "    r2 = results.rsquared\n",
    "    print('%s || R2: %.4f, beta: %.2E' %(title, r2, a))\n",
    "    res_q.append([r2, a])"
   ]
  },
  {
   "cell_type": "markdown",
   "metadata": {},
   "source": [
    "#### (3) Cross-validation"
   ]
  },
  {
   "cell_type": "code",
   "execution_count": 69,
   "metadata": {},
   "outputs": [],
   "source": [
    "res_dict = {}\n",
    "for i, title in enumerate(title_cont):\n",
    "    res_cont = []\n",
    "    data = d_cont[i]\n",
    "    for j in range(100):\n",
    "        dis_train, dis_test = calcu_distance(data, num_train=9)      \n",
    "        res_cont.append([(np.mean(dis_train), np.std(dis_train)),\n",
    "                         (np.mean(dis_test), np.std(dis_test))])\n",
    "    res_dict[title] = res_cont"
   ]
  },
  {
   "cell_type": "code",
   "execution_count": 70,
   "metadata": {},
   "outputs": [
    {
     "name": "stdout",
     "output_type": "stream",
     "text": [
      "LOG\t  Train: 0.00332 (0.000317)\t  Test: 0.00691 (0.001447)\n",
      "BA\t  Train: 0.00153 (0.000352)\t  Test: 0.00176 (0.000616)\n",
      "EXP\t  Train: 0.00252 (0.000013)\t  Test: 0.00083 (0.000240)\n",
      "GAU\t  Train: 0.00077 (0.000179)\t  Test: 0.00102 (0.000312)\n",
      "ER\t  Train: 0.00224 (0.000737)\t  Test: 0.00236 (0.000124)\n",
      "Full\t  Train: 0.00122 (0.000127)\t  Test: 0.00065 (0.000127)\n",
      "WS-0\t  Train: 0.03455 (0.007568)\t  Test: 0.04138 (0.001114)\n",
      "WS-0.1\t  Train: 0.01190 (0.001929)\t  Test: 0.01401 (0.004204)\n",
      "WS-0.3\t  Train: 0.00644 (0.000430)\t  Test: 0.00726 (0.000303)\n",
      "WS-0.5\t  Train: 0.00254 (0.000367)\t  Test: 0.00273 (0.000990)\n",
      "WS-0.7\t  Train: 0.00414 (0.000092)\t  Test: 0.00277 (0.000633)\n",
      "WS-0.9\t  Train: 0.00259 (0.000203)\t  Test: 0.00237 (0.000609)\n",
      "WS-1\t  Train: 0.00327 (0.000048)\t  Test: 0.00401 (0.000321)\n"
     ]
    }
   ],
   "source": [
    "for i, title in enumerate(title_cont):\n",
    "    d = res_dict[title]\n",
    "    mean_train = d[:][0][0]\n",
    "    std_train = d[:][0][1]\n",
    "    \n",
    "    mean_test = d[:][1][0]\n",
    "    std_test = d[:][1][1]\n",
    "    \n",
    "    print('%s' % title, end='\\t')\n",
    "    print('  Train: %.5f (%.6f)' % (np.mean(mean_train), np.std(mean_train)), end='\\t')\n",
    "    print('  Test: %.5f (%.6f)' % (np.mean(mean_test), np.std(mean_test)))"
   ]
  },
  {
   "cell_type": "markdown",
   "metadata": {},
   "source": [
    "#### (4) 和随机抽取点进行对比"
   ]
  },
  {
   "cell_type": "code",
   "execution_count": 52,
   "metadata": {},
   "outputs": [
    {
     "name": "stdout",
     "output_type": "stream",
     "text": [
      "LOG\t0.01421\n",
      "BA\t0.01820\n",
      "EXP\t0.01595\n",
      "GAU\t0.01624\n",
      "ER\t0.01774\n",
      "Full\t0.01658\n",
      "WS-0\t0.01961\n",
      "WS-0.1\t0.01652\n",
      "WS-0.3\t0.01615\n",
      "WS-0.5\t0.03002\n",
      "WS-0.7\t0.02988\n",
      "WS-0.9\t0.03014\n",
      "WS-1\t0.03011\n"
     ]
    }
   ],
   "source": [
    "for i, title in enumerate(title_cont):\n",
    "    data = d_cont[i]\n",
    "    x = grid_distance(data)\n",
    "    print('%s' % title, end='\\t')\n",
    "    print('%.5f' % x)"
   ]
  },
  {
   "cell_type": "markdown",
   "metadata": {},
   "source": [
    "#### (5) 绘图"
   ]
  },
  {
   "cell_type": "code",
   "execution_count": 158,
   "metadata": {},
   "outputs": [],
   "source": [
    "def voilin_plot(ax, d_cont, positions, title=False, xlabel=False, ylabel=False):\n",
    "    if xlabel:\n",
    "        ax.set_xlabel(xlabel, fontsize=15)\n",
    "    if ylabel:\n",
    "        ax.set_ylabel(ylabel, fontsize=15)\n",
    "    if title:\n",
    "        ax.set_title(title, fontsize=15)\n",
    "        \n",
    "    #ax.axhline(1, color='gray', ls='--', lw=1)\n",
    "    ax.set_ylim([0.92, 1.02])\n",
    "    #ax.yaxis.grid(True, linestyle='--', which='major', color='lightgrey',alpha=0.5)\n",
    "    ax.violinplot(d_cont, showmedians=False, showmeans=True, showextrema=False, widths=0.5, positions=positions)\n",
    "    for i, d in enumerate(d_cont):\n",
    "        textstr = '%.4f\\n(%.4f)' % (np.mean(d), np.std(d))\n",
    "        ax.text(i + 0.6, np.mean(d), textstr, fontsize=10, verticalalignment='center', color='k', alpha=0.5)"
   ]
  },
  {
   "cell_type": "code",
   "execution_count": 172,
   "metadata": {},
   "outputs": [],
   "source": [
    "def line_plot(ax, d_cont, positions, title=False, xlabel=False, ylabel=False):\n",
    "    if xlabel:\n",
    "        ax.set_xlabel(xlabel, fontsize=15)\n",
    "    if ylabel:\n",
    "        ax.set_ylabel(ylabel, fontsize=15)\n",
    "    if title:\n",
    "        ax.set_title(title, fontsize=15)\n",
    "    \n",
    "    r_cont = [d[0] for d in d_cont]\n",
    "    #ax.axhline(1, color='gray', ls='--', lw=1)\n",
    "    ax.plot(positions, r_cont, 'k--', lw=1, alpha=0.4)\n",
    "    ax.scatter(positions, r_cont, marker='o', s=60, alpha=0.8, lw=1)\n",
    "        \n",
    "    for i, d in enumerate(d_cont):\n",
    "        text = '%.4f\\n{%.1e}'% tuple(d)\n",
    "        ax.text(i + 0.6, d[0], text, fontsize=10, verticalalignment='center', color='k', alpha=0.5)"
   ]
  },
  {
   "cell_type": "code",
   "execution_count": 137,
   "metadata": {},
   "outputs": [],
   "source": [
    "positions = np.arange(1, len(title_cont) + 1)\n",
    "r_cont1 = [v[:,-1] for v in d_cont]"
   ]
  },
  {
   "cell_type": "code",
   "execution_count": 174,
   "metadata": {},
   "outputs": [
    {
     "data": {
      "image/png": "[encoded data removed]",
      "text/plain": [
       "<matplotlib.figure.Figure at 0x1c25572f98>"
      ]
     },
     "metadata": {},
     "output_type": "display_data"
    }
   ],
   "source": [
    "fig = pl.figure(figsize=(12, 10))\n",
    "\n",
    "ax1 = fig.add_subplot(3, 1, 1)\n",
    "voilin_plot(ax1, r_cont1, positions, title='(a) Results for the DE', ylabel='$R^2$')\n",
    "ax1.set_xticklabels([])\n",
    "\n",
    "ax2 = fig.add_subplot(3, 1, 2)\n",
    "line_plot(ax2, res_p, positions, title='(b) Results for Linear model 1', ylabel=r'$R^2$ and $\\beta$')\n",
    "ax3.set_ylim([0.88, 1.02])\n",
    "ax2.set_xticklabels([])\n",
    "\n",
    "ax3 = fig.add_subplot(3, 1, 3)\n",
    "line_plot(ax3, res_q, positions, title='(c) Results for Linear model 2', ylabel=r'$R^2$ and $\\beta$')\n",
    "ax3.set_ylim([0.88, 1.02])\n",
    "\n",
    "pl.setp(ax1, xticks=positions, xticklabels=title_cont)\n",
    "pl.setp(ax2, xticks=positions, xticklabels=title_cont)\n",
    "pl.setp(ax3, xticks=positions, xticklabels=title_cont)\n",
    "pl.tight_layout()"
   ]
  },
  {
   "cell_type": "markdown",
   "metadata": {},
   "source": [
    "### 2.  average degree"
   ]
  },
  {
   "cell_type": "code",
   "execution_count": 54,
   "metadata": {},
   "outputs": [],
   "source": [
    "coeff_cont_gnm_3 = np.load(u + \"estimate_gnm_random_graph(10000,30000).npy\")\n",
    "coeff_cont_gnm_4 = np.load(u + \"estimate_gnm_random_graph(10000,40000).npy\")\n",
    "coeff_cont_gnm_5 = np.load(u + \"estimate_gnm_random_graph(10000,50000).npy\")\n",
    "coeff_cont_gnm_6 = np.load(u + \"estimate_gnm_random_graph(10000,60000).npy\")\n",
    "coeff_cont_gnm_7 = np.load(u + \"estimate_gnm_random_graph(10000,70000).npy\")\n",
    "coeff_cont_gnm_8 = np.load(u + \"estimate_gnm_random_graph(10000,80000).npy\")\n",
    "coeff_cont_gnm_9 = np.load(u + \"estimate_gnm_random_graph(10000,90000).npy\")\n",
    "coeff_cont_gnm_10 = np.load(u + \"estimate_gnm_random_graph(10000,100000).npy\")"
   ]
  },
  {
   "cell_type": "code",
   "execution_count": 55,
   "metadata": {},
   "outputs": [],
   "source": [
    "d_cont2 = [coeff_cont_gnm_3,coeff_cont_gnm_4,coeff_cont_gnm_5,coeff_cont_gnm_6,\n",
    "                     coeff_cont_gnm_7,coeff_cont_gnm_8,coeff_cont_gnm_9,coeff_cont_gnm_10]\n",
    "title_cont2 = ['gnm3', 'gnm4', 'gnm5', 'gnm6', 'gnm7', 'gnm8', 'gnm9', 'gnm10']"
   ]
  },
  {
   "cell_type": "code",
   "execution_count": 10,
   "metadata": {},
   "outputs": [
    {
     "name": "stdout",
     "output_type": "stream",
     "text": [
      "gnm3 \t 0.9992, 0.0005\n",
      "gnm4 \t 0.9992, 0.0005\n",
      "gnm5 \t 0.9993, 0.0004\n",
      "gnm6 \t 0.9994, 0.0004\n",
      "gnm7 \t 0.9994, 0.0004\n",
      "gnm8 \t 0.9995, 0.0004\n",
      "gnm9 \t 0.9994, 0.0004\n",
      "gnm10 \t 0.9995, 0.0004\n"
     ]
    }
   ],
   "source": [
    "mean_r2 = [np.mean(x[:, 5]) for x in d_cont2]\n",
    "std_r2 = [np.std(x[:, 5]) for x in d_cont2]\n",
    "\n",
    "for i, x in enumerate(zip(mean_r2, std_r2)):\n",
    "    print(title_cont2[i], '\\t' ,'%6.4f, %.4f' % tuple(x))"
   ]
  },
  {
   "cell_type": "markdown",
   "metadata": {},
   "source": [
    "#### (1) P and p"
   ]
  },
  {
   "cell_type": "code",
   "execution_count": 14,
   "metadata": {},
   "outputs": [
    {
     "name": "stdout",
     "output_type": "stream",
     "text": [
      "gnm3 \n",
      " R2: 0.9986, beta: 0.81\n",
      "gnm4 \n",
      " R2: 0.9986, beta: 0.83\n",
      "gnm5 \n",
      " R2: 0.9987, beta: 0.85\n",
      "gnm6 \n",
      " R2: 0.9989, beta: 0.86\n",
      "gnm7 \n",
      " R2: 0.9989, beta: 0.87\n",
      "gnm8 \n",
      " R2: 0.9987, beta: 0.88\n",
      "gnm9 \n",
      " R2: 0.9990, beta: 0.88\n",
      "gnm10 \n",
      " R2: 0.9988, beta: 0.88\n"
     ]
    }
   ],
   "source": [
    "for i, title in enumerate(title_cont2):\n",
    "    X_data = d_cont2[i][:, 2]\n",
    "    Y_data = d_cont2[i][:, 0]\n",
    "    to_fit = pd.DataFrame({'X':X_data,'Y':Y_data})\n",
    "    results = smf.ols('Y ~ X-1', data=to_fit).fit()\n",
    "    a = results.params['X']\n",
    "    r2 = results.rsquared\n",
    "    print('%s \\n R2: %.4f, beta: %.2f' %(title, r2, a))"
   ]
  },
  {
   "cell_type": "markdown",
   "metadata": {},
   "source": [
    "#### (2) Q and q"
   ]
  },
  {
   "cell_type": "code",
   "execution_count": 15,
   "metadata": {},
   "outputs": [
    {
     "name": "stdout",
     "output_type": "stream",
     "text": [
      "gnm3 \n",
      " R2: 0.9991, beta: 0.20\n",
      "gnm4 \n",
      " R2: 0.9993, beta: 0.15\n",
      "gnm5 \n",
      " R2: 0.9995, beta: 0.11\n",
      "gnm6 \n",
      " R2: 0.9995, beta: 0.09\n",
      "gnm7 \n",
      " R2: 0.9994, beta: 0.08\n",
      "gnm8 \n",
      " R2: 0.9994, beta: 0.07\n",
      "gnm9 \n",
      " R2: 0.9995, beta: 0.06\n",
      "gnm10 \n",
      " R2: 0.9995, beta: 0.06\n"
     ]
    }
   ],
   "source": [
    "for i, title in enumerate(title_cont2):\n",
    "    X_data = d_cont2[i][:, 3]\n",
    "    Y_data = d_cont2[i][:, 1]\n",
    "    to_fit = pd.DataFrame({'X':X_data,'Y':Y_data})\n",
    "    results = smf.ols('Y ~ X-1', data=to_fit).fit()\n",
    "    a = results.params['X']\n",
    "    r2 = results.rsquared\n",
    "    print('%s \\n R2: %.4f, beta: %.2f' %(title, r2, a))"
   ]
  },
  {
   "cell_type": "markdown",
   "metadata": {},
   "source": [
    "### (3) Cross-validation"
   ]
  },
  {
   "cell_type": "code",
   "execution_count": 63,
   "metadata": {},
   "outputs": [],
   "source": [
    "res_dict2 = {}\n",
    "for i, title in enumerate(title_cont2):\n",
    "    res_cont = []\n",
    "    data = d_cont2[i]\n",
    "    for j in range(100):\n",
    "        dis_train, dis_test = calcu_distance(data, num_train=9)      \n",
    "        res_cont.append([(np.mean(dis_train), np.std(dis_train)),\n",
    "                         (np.mean(dis_test), np.std(dis_test))])\n",
    "        \n",
    "    res_dict2[title] = res_cont"
   ]
  },
  {
   "cell_type": "code",
   "execution_count": 64,
   "metadata": {},
   "outputs": [
    {
     "name": "stdout",
     "output_type": "stream",
     "text": [
      "gnm3\t  Train: 0.00137 (0.000376)\t  Test: 0.00217 (0.000100)\n",
      "gnm4\t  Train: 0.00058 (0.000149)\t  Test: 0.00101 (0.000199)\n",
      "gnm5\t  Train: 0.00082 (0.000292)\t  Test: 0.00071 (0.000191)\n",
      "gnm6\t  Train: 0.00038 (0.000109)\t  Test: 0.00087 (0.000286)\n",
      "gnm7\t  Train: 0.00031 (0.000221)\t  Test: 0.00092 (0.000077)\n",
      "gnm8\t  Train: 0.00049 (0.000121)\t  Test: 0.00054 (0.000282)\n",
      "gnm9\t  Train: 0.00085 (0.000192)\t  Test: 0.00043 (0.000130)\n",
      "gnm10\t  Train: 0.00048 (0.000203)\t  Test: 0.00047 (0.000193)\n"
     ]
    }
   ],
   "source": [
    "for i, title in enumerate(title_cont2):\n",
    "    d = res_dict2[title]\n",
    "    mean_train = d[:][0][0]\n",
    "    std_train = d[:][0][1]\n",
    "    \n",
    "    mean_test = d[:][1][0]\n",
    "    std_test = d[:][1][1]\n",
    "    \n",
    "    print('%s' % title, end='\\t')\n",
    "    print('  Train: %.5f (%.6f)' % (np.mean(mean_train), np.std(mean_train)), end='\\t')\n",
    "    print('  Test: %.5f (%.6f)' % (np.mean(mean_test), np.std(mean_test)))"
   ]
  },
  {
   "cell_type": "markdown",
   "metadata": {},
   "source": [
    "#### (4) 和随机抽取点对比"
   ]
  },
  {
   "cell_type": "code",
   "execution_count": 66,
   "metadata": {},
   "outputs": [
    {
     "name": "stdout",
     "output_type": "stream",
     "text": [
      "gnm3\t0.01768\n",
      "gnm4\t0.01485\n",
      "gnm5\t0.01330\n",
      "gnm6\t0.01246\n",
      "gnm7\t0.01284\n",
      "gnm8\t0.01232\n",
      "gnm9\t0.01089\n",
      "gnm10\t0.01129\n"
     ]
    }
   ],
   "source": [
    "for i, title in enumerate(title_cont2):\n",
    "    data = d_cont2[i]\n",
    "    x = grid_distance(data)\n",
    "    print('%s' % title, end='\\t')\n",
    "    print('%.5f' % x)"
   ]
  },
  {
   "cell_type": "markdown",
   "metadata": {},
   "source": [
    "### 3. decision rule"
   ]
  },
  {
   "cell_type": "code",
   "execution_count": 71,
   "metadata": {},
   "outputs": [],
   "source": [
    "coeff_cont_gnm01 = np.load(u +\"estimate_gnm_random_graph(10000,30000),0.1.npy\")\n",
    "coeff_cont_gnm03 = np.load(u +\"estimate_gnm_random_graph(10000,30000),0.3.npy\")\n",
    "coeff_cont_gnm05 = np.load(u +\"estimate_gnm_random_graph(10000,30000),0.5.npy\")\n",
    "coeff_cont_gnm07 = np.load(u +\"estimate_gnm_random_graph(10000,30000),0.7.npy\")\n",
    "coeff_cont_gnm09 = np.load(u +\"estimate_gnm_random_graph(10000,30000),0.9.npy\")\n",
    "coeff_cont_gnm10 = np.load(u +\"estimate_gnm_random_graph(10000,30000),1.0.npy\")"
   ]
  },
  {
   "cell_type": "code",
   "execution_count": 72,
   "metadata": {},
   "outputs": [],
   "source": [
    "d_cont3 = [coeff_cont_gnm01,coeff_cont_gnm03,coeff_cont_gnm05,coeff_cont_gnm07,coeff_cont_gnm09,coeff_cont_gnm10]\n",
    "title_cont3 = ['alpha0.1', 'alpha0.3', 'alpha0.5', 'alpha0.7', 'alpha0.9', 'alpha1.0']"
   ]
  },
  {
   "cell_type": "code",
   "execution_count": 13,
   "metadata": {},
   "outputs": [
    {
     "name": "stdout",
     "output_type": "stream",
     "text": [
      "alpha0.1 \t 0.9991, 0.0005\n",
      "alpha0.3 \t 0.9991, 0.0005\n",
      "alpha0.5 \t 0.9987, 0.0013\n",
      "alpha0.7 \t 0.9989, 0.0007\n",
      "alpha0.9 \t 0.9987, 0.0012\n",
      "alpha1.0 \t 0.9989, 0.0007\n"
     ]
    }
   ],
   "source": [
    "mean_r2 = [np.mean(x[:, 5]) for x in d_cont3]\n",
    "std_r2 = [np.std(x[:, 5]) for x in d_cont3]\n",
    "\n",
    "for i, x in enumerate(zip(mean_r2, std_r2)):\n",
    "    print(title_cont3[i], '\\t' ,'%6.4f, %.4f' % tuple(x))"
   ]
  },
  {
   "cell_type": "markdown",
   "metadata": {},
   "source": [
    "#### (1) P and p"
   ]
  },
  {
   "cell_type": "code",
   "execution_count": 18,
   "metadata": {},
   "outputs": [
    {
     "name": "stdout",
     "output_type": "stream",
     "text": [
      "alpha0.1 \n",
      " R2: 0.9986, beta: 0.81\n",
      "alpha0.3 \n",
      " R2: 0.9986, beta: 0.81\n",
      "alpha0.5 \n",
      " R2: 0.9985, beta: 0.81\n",
      "alpha0.7 \n",
      " R2: 0.9987, beta: 0.82\n",
      "alpha0.9 \n",
      " R2: 0.9984, beta: 0.80\n",
      "alpha1.0 \n",
      " R2: 0.9985, beta: 0.80\n"
     ]
    }
   ],
   "source": [
    "for i, title in enumerate(title_cont3):\n",
    "    X_data = d_cont3[i][:, 2]\n",
    "    Y_data = d_cont3[i][:, 0]\n",
    "    to_fit = pd.DataFrame({'X':X_data,'Y':Y_data})\n",
    "    results = smf.ols('Y ~ X-1', data=to_fit).fit()\n",
    "    a = results.params['X']\n",
    "    r2 = results.rsquared\n",
    "    print('%s \\n R2: %.4f, beta: %.2f' %(title, r2, a))"
   ]
  },
  {
   "cell_type": "markdown",
   "metadata": {},
   "source": [
    "#### (2) Q and q"
   ]
  },
  {
   "cell_type": "code",
   "execution_count": 19,
   "metadata": {},
   "outputs": [
    {
     "name": "stdout",
     "output_type": "stream",
     "text": [
      "alpha0.1 \n",
      " R2: 0.9993, beta: 0.24\n",
      "alpha0.3 \n",
      " R2: 0.9992, beta: 0.36\n",
      "alpha0.5 \n",
      " R2: 0.9954, beta: 0.54\n",
      "alpha0.7 \n",
      " R2: 0.9990, beta: 0.79\n",
      "alpha0.9 \n",
      " R2: 0.9951, beta: 1.17\n",
      "alpha1.0 \n",
      " R2: 0.9989, beta: 1.41\n"
     ]
    }
   ],
   "source": [
    "for i, title in enumerate(title_cont3):\n",
    "    X_data = d_cont3[i][:, 3]\n",
    "    Y_data = d_cont3[i][:, 1]\n",
    "    to_fit = pd.DataFrame({'X':X_data,'Y':Y_data})\n",
    "    results = smf.ols('Y ~ X-1', data=to_fit).fit()\n",
    "    a = results.params['X']\n",
    "    r2 = results.rsquared\n",
    "    print('%s \\n R2: %.4f, beta: %.2f' %(title, r2, a))"
   ]
  },
  {
   "cell_type": "code",
   "execution_count": 35,
   "metadata": {},
   "outputs": [],
   "source": [
    "res_dict3 = {}\n",
    "for i, title in enumerate(title_cont3):\n",
    "    res_cont = []\n",
    "    data = d_cont3[i]\n",
    "    for j in range(100):\n",
    "        dis_train, dis_test = calcu_distance(data, num_train=9)      \n",
    "        res_cont.append([(np.mean(dis_train), np.std(dis_train)),\n",
    "                         (np.mean(dis_test), np.std(dis_test))])\n",
    "    res_dict3[title] = res_cont"
   ]
  },
  {
   "cell_type": "code",
   "execution_count": 36,
   "metadata": {},
   "outputs": [
    {
     "name": "stdout",
     "output_type": "stream",
     "text": [
      "alpha0.1\t  Train: 0.00178 (0.000367)\t  Test: 0.00179 (0.000480)\n",
      "alpha0.3\t  Train: 0.00311 (0.000984)\t  Test: 0.00332 (0.001081)\n",
      "alpha0.5\t  Train: 0.01469 (0.003008)\t  Test: 0.01700 (0.003477)\n",
      "alpha0.7\t  Train: 0.00653 (0.000166)\t  Test: 0.00834 (0.000746)\n",
      "alpha0.9\t  Train: 0.02125 (0.002651)\t  Test: 0.03647 (0.000758)\n",
      "alpha1.0\t  Train: 0.01437 (0.002607)\t  Test: 0.01387 (0.001840)\n"
     ]
    }
   ],
   "source": [
    "for i, title in enumerate(title_cont3):\n",
    "    d = res_dict3[title]\n",
    "    mean_train = d[:][0][0]\n",
    "    std_train = d[:][0][1]\n",
    "    \n",
    "    mean_test = d[:][1][0]\n",
    "    std_test = d[:][1][1]\n",
    "    \n",
    "    print('%s' % title, end='\\t')\n",
    "    print('  Train: %.5f (%.6f)' % (np.mean(mean_train), np.std(mean_train)), end='\\t')\n",
    "    print('  Test: %.5f (%.6f)' % (np.mean(mean_test), np.std(mean_test)))"
   ]
  },
  {
   "cell_type": "code",
   "execution_count": 73,
   "metadata": {},
   "outputs": [
    {
     "name": "stdout",
     "output_type": "stream",
     "text": [
      "alpha0.1\t0.01817\n",
      "alpha0.3\t0.02385\n",
      "alpha0.5\t0.03218\n",
      "alpha0.7\t0.04432\n",
      "alpha0.9\t0.06220\n",
      "alpha1.0\t0.07424\n"
     ]
    }
   ],
   "source": [
    "for i, title in enumerate(title_cont3):\n",
    "    data = d_cont3[i]\n",
    "    x = grid_distance(data)\n",
    "    print('%s' % title, end='\\t')\n",
    "    print('%.5f' % x)"
   ]
  },
  {
   "cell_type": "markdown",
   "metadata": {},
   "source": [
    "### 4. individual heterogeneity"
   ]
  },
  {
   "cell_type": "code",
   "execution_count": 74,
   "metadata": {},
   "outputs": [],
   "source": [
    "coeff_cont_sgima01 = np.load(u +\"estimate_sigma-0.1.npy\")\n",
    "coeff_cont_sgima02 = np.load(u +\"estimate_sigma-0.2.npy\")\n",
    "coeff_cont_sgima04 = np.load(u +\"estimate_sigma-0.4.npy\")\n",
    "coeff_cont_sgima06 = np.load(u +\"estimate_sigma-0.6.npy\")\n",
    "coeff_cont_sgima08 = np.load(u +\"estimate_sigma-0.8.npy\")\n",
    "coeff_cont_sgima10 = np.load(u +\"estimate_sigma-1.0.npy\")"
   ]
  },
  {
   "cell_type": "code",
   "execution_count": 75,
   "metadata": {},
   "outputs": [],
   "source": [
    "d_cont4 = [coeff_cont_sgima01,coeff_cont_sgima02,coeff_cont_sgima04,\n",
    "           coeff_cont_sgima06,coeff_cont_sgima08,coeff_cont_sgima10]\n",
    "title_cont4 = ['sigma0.1', 'sigma0.2', 'sigma0.4', 'sigma0.6', 'sigma0.8', 'sigma1.0']"
   ]
  },
  {
   "cell_type": "code",
   "execution_count": 16,
   "metadata": {},
   "outputs": [
    {
     "name": "stdout",
     "output_type": "stream",
     "text": [
      "sigma0.1 \t 0.9991, 0.0005\n",
      "sigma0.2 \t 0.9992, 0.0005\n",
      "sigma0.4 \t 0.9989, 0.0006\n",
      "sigma0.6 \t 0.9987, 0.0007\n",
      "sigma0.8 \t 0.9985, 0.0009\n",
      "sigma1.0 \t 0.9985, 0.0010\n"
     ]
    }
   ],
   "source": [
    "mean_r2 = [np.mean(x[:, 5]) for x in d_cont4]\n",
    "std_r2 = [np.std(x[:, 5]) for x in d_cont4]\n",
    "\n",
    "for i, x in enumerate(zip(mean_r2, std_r2)):\n",
    "    print(title_cont4[i], '\\t' ,'%6.4f, %.4f' % tuple(x))"
   ]
  },
  {
   "cell_type": "markdown",
   "metadata": {},
   "source": [
    "#### (1) P and p"
   ]
  },
  {
   "cell_type": "code",
   "execution_count": 22,
   "metadata": {},
   "outputs": [
    {
     "name": "stdout",
     "output_type": "stream",
     "text": [
      "sigma0.1 \n",
      " R2: 0.9982, beta: 0.80\n",
      "sigma0.2 \n",
      " R2: 0.9980, beta: 0.79\n",
      "sigma0.4 \n",
      " R2: 0.9978, beta: 0.75\n",
      "sigma0.6 \n",
      " R2: 0.9976, beta: 0.68\n",
      "sigma0.8 \n",
      " R2: 0.9977, beta: 0.61\n",
      "sigma1.0 \n",
      " R2: 0.9973, beta: 0.55\n"
     ]
    }
   ],
   "source": [
    "for i, title in enumerate(title_cont4):\n",
    "    X_data = d_cont4[i][:, 2]\n",
    "    Y_data = d_cont4[i][:, 0]\n",
    "    to_fit = pd.DataFrame({'X':X_data,'Y':Y_data})\n",
    "    results = smf.ols('Y ~ X-1', data=to_fit).fit()\n",
    "    a = results.params['X']\n",
    "    r2 = results.rsquared\n",
    "    print('%s \\n R2: %.4f, beta: %.2f' %(title, r2, a))"
   ]
  },
  {
   "cell_type": "markdown",
   "metadata": {},
   "source": [
    "#### (2) Q and q"
   ]
  },
  {
   "cell_type": "code",
   "execution_count": 23,
   "metadata": {},
   "outputs": [
    {
     "name": "stdout",
     "output_type": "stream",
     "text": [
      "sigma0.1 \n",
      " R2: 0.9991, beta: 0.20\n",
      "sigma0.2 \n",
      " R2: 0.9990, beta: 0.20\n",
      "sigma0.4 \n",
      " R2: 0.9988, beta: 0.20\n",
      "sigma0.6 \n",
      " R2: 0.9960, beta: 0.20\n",
      "sigma0.8 \n",
      " R2: 0.9961, beta: 0.20\n",
      "sigma1.0 \n",
      " R2: 0.9954, beta: 0.19\n"
     ]
    }
   ],
   "source": [
    "for i, title in enumerate(title_cont4):\n",
    "    X_data = d_cont4[i][:, 3]\n",
    "    Y_data = d_cont4[i][:, 1]\n",
    "    to_fit = pd.DataFrame({'X':X_data,'Y':Y_data})\n",
    "    results = smf.ols('Y ~ X-1', data=to_fit).fit()\n",
    "    a = results.params['X']\n",
    "    r2 = results.rsquared\n",
    "    print('%s \\n R2: %.4f, beta: %.2f' %(title, r2, a))"
   ]
  },
  {
   "cell_type": "markdown",
   "metadata": {},
   "source": [
    "### (3) Cross-validation"
   ]
  },
  {
   "cell_type": "code",
   "execution_count": 37,
   "metadata": {},
   "outputs": [],
   "source": [
    "res_dict4 = {}\n",
    "for i, title in enumerate(title_cont4):\n",
    "    res_cont = []\n",
    "    data = d_cont4[i]\n",
    "    for j in range(100):\n",
    "        dis_train, dis_test = calcu_distance(data, num_train=9)      \n",
    "        res_cont.append([(np.mean(dis_train), np.std(dis_train)),\n",
    "                         (np.mean(dis_test), np.std(dis_test))])\n",
    "        \n",
    "    res_dict4[title] = res_cont"
   ]
  },
  {
   "cell_type": "code",
   "execution_count": 38,
   "metadata": {},
   "outputs": [
    {
     "name": "stdout",
     "output_type": "stream",
     "text": [
      "sigma0.1\t  Train: 0.00191 (0.000558)\t  Test: 0.00194 (0.000746)\n",
      "sigma0.2\t  Train: 0.00263 (0.000213)\t  Test: 0.00229 (0.000154)\n",
      "sigma0.4\t  Train: 0.00200 (0.000595)\t  Test: 0.00228 (0.000313)\n",
      "sigma0.6\t  Train: 0.00426 (0.000041)\t  Test: 0.00466 (0.000039)\n",
      "sigma0.8\t  Train: 0.00175 (0.000251)\t  Test: 0.00136 (0.000474)\n",
      "sigma1.0\t  Train: 0.00179 (0.000218)\t  Test: 0.00170 (0.000372)\n"
     ]
    }
   ],
   "source": [
    "for i, title in enumerate(title_cont4):\n",
    "    d = res_dict4[title]\n",
    "    mean_train = d[:][0][0]\n",
    "    std_train = d[:][0][1]\n",
    "    \n",
    "    mean_test = d[:][1][0]\n",
    "    std_test = d[:][1][1]\n",
    "    \n",
    "    print('%s' % title, end='\\t')\n",
    "    print('  Train: %.5f (%.6f)' % (np.mean(mean_train), np.std(mean_train)), end='\\t')\n",
    "    print('  Test: %.5f (%.6f)' % (np.mean(mean_test), np.std(mean_test)))"
   ]
  },
  {
   "cell_type": "code",
   "execution_count": 76,
   "metadata": {},
   "outputs": [
    {
     "name": "stdout",
     "output_type": "stream",
     "text": [
      "sigma0.1\t0.02125\n",
      "sigma0.2\t0.02133\n",
      "sigma0.4\t0.02089\n",
      "sigma0.6\t0.02078\n",
      "sigma0.8\t0.01810\n",
      "sigma1.0\t0.01816\n"
     ]
    }
   ],
   "source": [
    "for i, title in enumerate(title_cont4):\n",
    "    data = d_cont4[i]\n",
    "    x = grid_distance(data)\n",
    "    print('%s' % title, end='\\t')\n",
    "    print('%.5f' % x)"
   ]
  },
  {
   "cell_type": "code",
   "execution_count": null,
   "metadata": {},
   "outputs": [],
   "source": []
  }
 ],
 "metadata": {
  "anaconda-cloud": {},
  "kernelspec": {
   "display_name": "Python [conda env:python36]",
   "language": "python",
   "name": "conda-env-python36-py"
  },
  "language_info": {
   "codemirror_mode": {
    "name": "ipython",
    "version": 3
   },
   "file_extension": ".py",
   "mimetype": "text/x-python",
   "name": "python",
   "nbconvert_exporter": "python",
   "pygments_lexer": "ipython3",
   "version": "3.6.3"
  }
 },
 "nbformat": 4,
 "nbformat_minor": 2
}
