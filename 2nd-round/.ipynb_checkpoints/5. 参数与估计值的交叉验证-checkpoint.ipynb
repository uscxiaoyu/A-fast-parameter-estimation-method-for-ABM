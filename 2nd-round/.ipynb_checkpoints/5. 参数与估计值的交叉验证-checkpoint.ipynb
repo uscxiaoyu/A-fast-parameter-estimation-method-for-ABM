{
 "cells": [
  {
   "cell_type": "code",
   "execution_count": 1,
   "metadata": {},
   "outputs": [
    {
     "name": "stderr",
     "output_type": "stream",
     "text": [
      "/usr/local/lib/python3.5/dist-packages/statsmodels/compat/pandas.py:56: FutureWarning: The pandas.core.datetools module is deprecated and will be removed in a future version. Please use the pandas.tseries module instead.\n",
      "  from pandas.core import datetools\n"
     ]
    }
   ],
   "source": [
    "%matplotlib inline\n",
    "import pylab as pl\n",
    "import numpy as np\n",
    "import statsmodels.formula.api as smf\n",
    "import statsmodels.api as sm\n",
    "import pandas as pd"
   ]
  },
  {
   "cell_type": "code",
   "execution_count": 2,
   "metadata": {},
   "outputs": [],
   "source": [
    "u = \"/home/yu/PycharmProjects/A-fast-method/auto_data/\""
   ]
  },
  {
   "cell_type": "code",
   "execution_count": 24,
   "metadata": {},
   "outputs": [],
   "source": [
    "def calcu_distance(data, num_train=50):\n",
    "    '''\n",
    "    data: [[p, q, P, Q, M, r2]]\n",
    "    '''\n",
    "    df = pd.DataFrame(data, columns=['p', 'q', 'P', 'Q', 'M', 'r2'])\n",
    "    \n",
    "    # 随机生成训练集和测试集\n",
    "    num_tol = len(data)\n",
    "    idx_cont = np.arange(num_tol)\n",
    "    idx_train = np.random.choice(idx_cont, size=num_train, replace=False)  # for the training set\n",
    "    idx_test = np.array([i for i in idx_cont if i not in idx_train])  # the remaining is the test set\n",
    "    train_set = df.loc[idx_train, ['p', 'q', 'P', 'Q']]\n",
    "    test_set = df.loc[idx_test, ['p', 'q', 'P', 'Q']]\n",
    "    \n",
    "    # 预测 p\n",
    "    result_p = smf.ols('p ~ P-1', data=train_set).fit()\n",
    "    k_p = result_p.params['P']\n",
    "    r2_p = result_p.rsquared\n",
    "    train_set['pred_p'] = k_p * train_set['P']\n",
    "    test_set['pred_p'] = k_p * test_set['P']\n",
    "    \n",
    "    # 预测 q\n",
    "    result_q = smf.ols('q ~ Q-1', data=train_set).fit()\n",
    "    k_q = result_q.params['Q']\n",
    "    r2_q = result_q.rsquared\n",
    "    train_set['pred_q'] = k_q * train_set['Q']\n",
    "    test_set['pred_q'] = k_q * test_set['Q']\n",
    "    \n",
    "    # 测试集中预测点和实际点之前的距离\n",
    "    dis_train = np.sqrt((train_set['p'] - train_set['pred_p']) ** 2 \n",
    "                                      + (train_set['q'] - train_set['pred_q']) ** 2)\n",
    "    \n",
    "    dis_test = np.sqrt((test_set['p'] - test_set['pred_p']) ** 2 \n",
    "                                      + (test_set['q'] - test_set['pred_q']) ** 2)\n",
    "    \n",
    "    return dis_train, dis_test"
   ]
  },
  {
   "cell_type": "markdown",
   "metadata": {},
   "source": [
    "$p=k_1\\cdot P$\n",
    "\n",
    "$q=k_2\\cdot Q$\n",
    "\n",
    "$D(\\mathrm{fit, predict}) = \\sqrt{(\\hat p - p)^2 + (\\hat q - q)^2}$\n",
    "\n",
    "$\\mathrm{Indicator} = \\frac{\\mathrm{D_{test} - D_{train}}}{\\mathrm{D_{train}}}$"
   ]
  },
  {
   "cell_type": "markdown",
   "metadata": {},
   "source": [
    "### 1. topology"
   ]
  },
  {
   "cell_type": "code",
   "execution_count": 5,
   "metadata": {},
   "outputs": [],
   "source": [
    "coeff_cont_gnm = np.load(u +\"estimate_gnm_random_graph(10000,30000).npy\")\n",
    "coeff_cont_ba =  np.load(u +\"estimate_barabasi_albert_graph(10000,3).npy\")\n",
    "coeff_cont_exp = np.load(u +\"estimate_exponential_graph(10000,3).npy\")\n",
    "coeff_cont_gua = np.load(u +\"estimate_gaussian_graph(10000,3).npy\")\n",
    "coeff_cont_log = np.load(u +\"estimate_lognormal_graph(10000,3).npy\")\n",
    "coeff_cont_ws0 =  np.load(u +\"estimate_watts_strogatz_graph(10000,6,0).npy\")\n",
    "coeff_cont_ws01 = np.load(u +\"estimate_watts_strogatz_graph(10000,6,0.1).npy\")\n",
    "coeff_cont_ws03 = np.load(u +\"estimate_watts_strogatz_graph(10000,6,0.3).npy\")\n",
    "coeff_cont_ws05 = np.load(u +\"estimate_watts_strogatz_graph(10000,6,0.5).npy\")\n",
    "coeff_cont_ws07 = np.load(u +\"estimate_watts_strogatz_graph(10000,6,0.7).npy\")\n",
    "coeff_cont_ws09 = np.load(u +\"estimate_watts_strogatz_graph(10000,6,0.9).npy\")\n",
    "coeff_cont_ws10 = np.load(u +\"estimate_watts_strogatz_graph(10000,6,1.0).npy\")"
   ]
  },
  {
   "cell_type": "code",
   "execution_count": 6,
   "metadata": {},
   "outputs": [],
   "source": [
    "d_cont = [coeff_cont_log,coeff_cont_ba,coeff_cont_exp,coeff_cont_gua,\n",
    "          coeff_cont_gnm,coeff_cont_ws0,coeff_cont_ws01,coeff_cont_ws03,\n",
    "          coeff_cont_ws05,coeff_cont_ws07,coeff_cont_ws09,coeff_cont_ws10]\n",
    "\n",
    "title_cont = ['LOG','BA','EXP','GAU','ER','WS-0','WS-0.1','WS-0.3','WS-0.5','WS-0.7','WS-0.9','WS-1']"
   ]
  },
  {
   "cell_type": "markdown",
   "metadata": {},
   "source": [
    "#### (1) P and p"
   ]
  },
  {
   "cell_type": "code",
   "execution_count": 8,
   "metadata": {},
   "outputs": [
    {
     "name": "stdout",
     "output_type": "stream",
     "text": [
      "LOG \n",
      " R2: 0.9952, beta: 0.56\n",
      "BA \n",
      " R2: 0.9908, beta: 0.61\n",
      "EXP \n",
      " R2: 0.9989, beta: 0.73\n",
      "GAU \n",
      " R2: 0.9985, beta: 0.80\n",
      "ER \n",
      " R2: 0.9986, beta: 0.81\n",
      "WS-0 \n",
      " R2: 0.9624, beta: 0.43\n",
      "WS-0.1 \n",
      " R2: 0.9919, beta: 0.61\n",
      "WS-0.3 \n",
      " R2: 0.9969, beta: 0.73\n",
      "WS-0.5 \n",
      " R2: 0.9964, beta: 0.77\n",
      "WS-0.7 \n",
      " R2: 0.9966, beta: 0.78\n",
      "WS-0.9 \n",
      " R2: 0.9966, beta: 0.79\n",
      "WS-1 \n",
      " R2: 0.9970, beta: 0.79\n"
     ]
    }
   ],
   "source": [
    "for i, title in enumerate(title_cont):\n",
    "    X_data = d_cont[i][:, 2]\n",
    "    Y_data = d_cont[i][:, 0]\n",
    "    to_fit = pd.DataFrame({'X':X_data,'Y':Y_data})\n",
    "    results = smf.ols('Y ~ X-1', data=to_fit).fit()\n",
    "    a = results.params['X']\n",
    "    r2 = results.rsquared\n",
    "    print('%s \\n R2: %.4f, beta: %.2f' %(title, r2, a))"
   ]
  },
  {
   "cell_type": "markdown",
   "metadata": {},
   "source": [
    "#### (2) Q and q"
   ]
  },
  {
   "cell_type": "code",
   "execution_count": 9,
   "metadata": {},
   "outputs": [
    {
     "name": "stdout",
     "output_type": "stream",
     "text": [
      "LOG \n",
      " R2: 0.9883, beta: 0.08\n",
      "BA \n",
      " R2: 0.9916, beta: 0.13\n",
      "EXP \n",
      " R2: 0.9958, beta: 0.13\n",
      "GAU \n",
      " R2: 0.9996, beta: 0.17\n",
      "ER \n",
      " R2: 0.9991, beta: 0.20\n",
      "WS-0 \n",
      " R2: 0.8970, beta: 0.36\n",
      "WS-0.1 \n",
      " R2: 0.9769, beta: 0.30\n",
      "WS-0.3 \n",
      " R2: 0.9917, beta: 0.25\n",
      "WS-0.5 \n",
      " R2: 0.9975, beta: 0.23\n",
      "WS-0.7 \n",
      " R2: 0.9984, beta: 0.22\n",
      "WS-0.9 \n",
      " R2: 0.9984, beta: 0.22\n",
      "WS-1 \n",
      " R2: 0.9985, beta: 0.22\n"
     ]
    }
   ],
   "source": [
    "for i, title in enumerate(title_cont):\n",
    "    X_data = d_cont[i][:, 3]\n",
    "    Y_data = d_cont[i][:, 1]\n",
    "    to_fit = pd.DataFrame({'X':X_data,'Y':Y_data})\n",
    "    results = smf.ols('Y ~ X-1', data=to_fit).fit()\n",
    "    a = results.params['X']\n",
    "    r2 = results.rsquared\n",
    "    print('%s \\n R2: %.4f, beta: %.2f' %(title, r2, a))"
   ]
  },
  {
   "cell_type": "markdown",
   "metadata": {},
   "source": [
    "#### (3) Cross-validation"
   ]
  },
  {
   "cell_type": "code",
   "execution_count": 32,
   "metadata": {},
   "outputs": [],
   "source": [
    "res_dict = {}\n",
    "for i, title in enumerate(title_cont):\n",
    "    res_cont = []\n",
    "    data = d_cont[i]\n",
    "    for j in range(100):\n",
    "        dis_train, dis_test = calcu_distance(data, num_train=9)      \n",
    "        res_cont.append([(np.mean(dis_train), np.std(dis_train)),\n",
    "                         (np.mean(dis_test), np.std(dis_test))])\n",
    "    res_dict[title] = res_cont"
   ]
  },
  {
   "cell_type": "code",
   "execution_count": 33,
   "metadata": {},
   "outputs": [
    {
     "name": "stdout",
     "output_type": "stream",
     "text": [
      "LOG\t  Train: 0.00181 (0.000044)\t  Test: 0.00071 (0.000261)\n",
      "BA\t  Train: 0.00175 (0.000620)\t  Test: 0.00350 (0.000510)\n",
      "EXP\t  Train: 0.00310 (0.000364)\t  Test: 0.00371 (0.000353)\n",
      "GAU\t  Train: 0.00130 (0.000222)\t  Test: 0.00127 (0.000218)\n",
      "ER\t  Train: 0.00175 (0.000451)\t  Test: 0.00154 (0.000311)\n",
      "WS-0\t  Train: 0.01950 (0.000878)\t  Test: 0.03314 (0.007656)\n",
      "WS-0.1\t  Train: 0.00934 (0.000624)\t  Test: 0.00930 (0.000638)\n",
      "WS-0.3\t  Train: 0.01009 (0.001632)\t  Test: 0.00690 (0.001141)\n",
      "WS-0.5\t  Train: 0.00358 (0.001755)\t  Test: 0.00326 (0.000731)\n",
      "WS-0.7\t  Train: 0.00337 (0.000385)\t  Test: 0.00261 (0.000020)\n",
      "WS-0.9\t  Train: 0.00188 (0.000608)\t  Test: 0.00206 (0.000817)\n",
      "WS-1\t  Train: 0.00219 (0.000542)\t  Test: 0.00243 (0.000324)\n"
     ]
    }
   ],
   "source": [
    "for i, title in enumerate(title_cont):\n",
    "    d = res_dict[title]\n",
    "    mean_train = d[:][0][0]\n",
    "    std_train = d[:][0][1]\n",
    "    \n",
    "    mean_test = d[:][1][0]\n",
    "    std_test = d[:][1][1]\n",
    "    \n",
    "    print('%s' % title, end='\\t')\n",
    "    print('  Train: %.5f (%.6f)' % (np.mean(mean_train), np.std(mean_train)), end='\\t')\n",
    "    print('  Test: %.5f (%.6f)' % (np.mean(mean_test), np.std(mean_test)))"
   ]
  },
  {
   "cell_type": "markdown",
   "metadata": {},
   "source": [
    "### 2.  average degree"
   ]
  },
  {
   "cell_type": "code",
   "execution_count": 12,
   "metadata": {},
   "outputs": [],
   "source": [
    "coeff_cont_gnm_3 = np.load(u + \"estimate_gnm_random_graph(10000,30000).npy\")\n",
    "coeff_cont_gnm_4 = np.load(u + \"estimate_gnm_random_graph(10000,40000).npy\")\n",
    "coeff_cont_gnm_5 = np.load(u + \"estimate_gnm_random_graph(10000,50000).npy\")\n",
    "coeff_cont_gnm_6 = np.load(u + \"estimate_gnm_random_graph(10000,60000).npy\")\n",
    "coeff_cont_gnm_7 = np.load(u + \"estimate_gnm_random_graph(10000,70000).npy\")\n",
    "coeff_cont_gnm_8 = np.load(u + \"estimate_gnm_random_graph(10000,80000).npy\")\n",
    "coeff_cont_gnm_9 = np.load(u + \"estimate_gnm_random_graph(10000,90000).npy\")\n",
    "coeff_cont_gnm_10 = np.load(u + \"estimate_gnm_random_graph(10000,100000).npy\")"
   ]
  },
  {
   "cell_type": "code",
   "execution_count": 13,
   "metadata": {},
   "outputs": [],
   "source": [
    "d_cont2 = [coeff_cont_gnm_3,coeff_cont_gnm_4,coeff_cont_gnm_5,coeff_cont_gnm_6,\n",
    "                     coeff_cont_gnm_7,coeff_cont_gnm_8,coeff_cont_gnm_9,coeff_cont_gnm_10]\n",
    "title_cont2 = ['gnm3', 'gnm4', 'gnm5', 'gnm6', 'gnm7', 'gnm8', 'gnm9', 'gnm10']"
   ]
  },
  {
   "cell_type": "markdown",
   "metadata": {},
   "source": [
    "#### (1) P and p"
   ]
  },
  {
   "cell_type": "code",
   "execution_count": 14,
   "metadata": {},
   "outputs": [
    {
     "name": "stdout",
     "output_type": "stream",
     "text": [
      "gnm3 \n",
      " R2: 0.9986, beta: 0.81\n",
      "gnm4 \n",
      " R2: 0.9986, beta: 0.83\n",
      "gnm5 \n",
      " R2: 0.9987, beta: 0.85\n",
      "gnm6 \n",
      " R2: 0.9989, beta: 0.86\n",
      "gnm7 \n",
      " R2: 0.9989, beta: 0.87\n",
      "gnm8 \n",
      " R2: 0.9987, beta: 0.88\n",
      "gnm9 \n",
      " R2: 0.9990, beta: 0.88\n",
      "gnm10 \n",
      " R2: 0.9988, beta: 0.88\n"
     ]
    }
   ],
   "source": [
    "for i, title in enumerate(title_cont2):\n",
    "    X_data = d_cont2[i][:, 2]\n",
    "    Y_data = d_cont2[i][:, 0]\n",
    "    to_fit = pd.DataFrame({'X':X_data,'Y':Y_data})\n",
    "    results = smf.ols('Y ~ X-1', data=to_fit).fit()\n",
    "    a = results.params['X']\n",
    "    r2 = results.rsquared\n",
    "    print('%s \\n R2: %.4f, beta: %.2f' %(title, r2, a))"
   ]
  },
  {
   "cell_type": "markdown",
   "metadata": {},
   "source": [
    "#### (2) Q and q"
   ]
  },
  {
   "cell_type": "code",
   "execution_count": 15,
   "metadata": {},
   "outputs": [
    {
     "name": "stdout",
     "output_type": "stream",
     "text": [
      "gnm3 \n",
      " R2: 0.9991, beta: 0.20\n",
      "gnm4 \n",
      " R2: 0.9993, beta: 0.15\n",
      "gnm5 \n",
      " R2: 0.9995, beta: 0.11\n",
      "gnm6 \n",
      " R2: 0.9995, beta: 0.09\n",
      "gnm7 \n",
      " R2: 0.9994, beta: 0.08\n",
      "gnm8 \n",
      " R2: 0.9994, beta: 0.07\n",
      "gnm9 \n",
      " R2: 0.9995, beta: 0.06\n",
      "gnm10 \n",
      " R2: 0.9995, beta: 0.06\n"
     ]
    }
   ],
   "source": [
    "for i, title in enumerate(title_cont2):\n",
    "    X_data = d_cont2[i][:, 3]\n",
    "    Y_data = d_cont2[i][:, 1]\n",
    "    to_fit = pd.DataFrame({'X':X_data,'Y':Y_data})\n",
    "    results = smf.ols('Y ~ X-1', data=to_fit).fit()\n",
    "    a = results.params['X']\n",
    "    r2 = results.rsquared\n",
    "    print('%s \\n R2: %.4f, beta: %.2f' %(title, r2, a))"
   ]
  },
  {
   "cell_type": "markdown",
   "metadata": {},
   "source": [
    "### (3) Cross-validation"
   ]
  },
  {
   "cell_type": "code",
   "execution_count": 34,
   "metadata": {},
   "outputs": [],
   "source": [
    "res_dict2 = {}\n",
    "for i, title in enumerate(title_cont2):\n",
    "    res_cont = []\n",
    "    data = d_cont2[i]\n",
    "    for j in range(100):\n",
    "        dis_train, dis_test = calcu_distance(data, num_train=9)      \n",
    "        res_cont.append([(np.mean(dis_train), np.std(dis_train)),\n",
    "                         (np.mean(dis_test), np.std(dis_test))])\n",
    "        \n",
    "    res_dict2[title] = res_cont"
   ]
  },
  {
   "cell_type": "code",
   "execution_count": 45,
   "metadata": {},
   "outputs": [
    {
     "name": "stdout",
     "output_type": "stream",
     "text": [
      "gnm3, mean:0.0248, std:0.1390\n",
      "gnm4, mean:0.0636, std:0.1550\n",
      "gnm5, mean:0.0461, std:0.1104\n",
      "gnm6, mean:0.0490, std:0.1253\n",
      "gnm7, mean:0.0540, std:0.1285\n",
      "gnm8, mean:0.0250, std:0.0976\n",
      "gnm9, mean:0.0306, std:0.1249\n",
      "gnm10, mean:0.0487, std:0.1055\n"
     ]
    }
   ],
   "source": [
    "for i, title in enumerate(title_cont2):\n",
    "    d = res_dict[title]\n",
    "    mean_train = d[:][0][0]\n",
    "    std_train = d[:][0][1]\n",
    "    \n",
    "    mean_test = d[:][1][0]\n",
    "    std_test = d[:][1][1]\n",
    "    \n",
    "    print('%s' % title, end='\\t')\n",
    "    print('  Train: %.5f (%.6f)' % (np.mean(mean_train), np.std(mean_train)), end='\\t')\n",
    "    print('  Test: %.5f (%.6f)' % (np.mean(mean_test), np.std(mean_test)))"
   ]
  },
  {
   "cell_type": "markdown",
   "metadata": {},
   "source": [
    "### 3. decision rule"
   ]
  },
  {
   "cell_type": "code",
   "execution_count": 16,
   "metadata": {},
   "outputs": [],
   "source": [
    "coeff_cont_gnm01 = np.load(u +\"estimate_gnm_random_graph(10000,30000),0.1.npy\")\n",
    "coeff_cont_gnm03 = np.load(u +\"estimate_gnm_random_graph(10000,30000),0.3.npy\")\n",
    "coeff_cont_gnm05 = np.load(u +\"estimate_gnm_random_graph(10000,30000),0.5.npy\")\n",
    "coeff_cont_gnm07 = np.load(u +\"estimate_gnm_random_graph(10000,30000),0.7.npy\")\n",
    "coeff_cont_gnm09 = np.load(u +\"estimate_gnm_random_graph(10000,30000),0.9.npy\")\n",
    "coeff_cont_gnm10 = np.load(u +\"estimate_gnm_random_graph(10000,30000),1.0.npy\")"
   ]
  },
  {
   "cell_type": "code",
   "execution_count": 17,
   "metadata": {},
   "outputs": [],
   "source": [
    "d_cont3 = [coeff_cont_gnm01,coeff_cont_gnm03,coeff_cont_gnm05,coeff_cont_gnm07,coeff_cont_gnm09,coeff_cont_gnm10]\n",
    "title_cont3 = ['alpha0.1', 'alpha0.3', 'alpha0.5', 'alpha0.7', 'alpha0.9', 'alpha1.0']"
   ]
  },
  {
   "cell_type": "markdown",
   "metadata": {},
   "source": [
    "#### (1) P and p"
   ]
  },
  {
   "cell_type": "code",
   "execution_count": 18,
   "metadata": {},
   "outputs": [
    {
     "name": "stdout",
     "output_type": "stream",
     "text": [
      "alpha0.1 \n",
      " R2: 0.9986, beta: 0.81\n",
      "alpha0.3 \n",
      " R2: 0.9986, beta: 0.81\n",
      "alpha0.5 \n",
      " R2: 0.9985, beta: 0.81\n",
      "alpha0.7 \n",
      " R2: 0.9987, beta: 0.82\n",
      "alpha0.9 \n",
      " R2: 0.9984, beta: 0.80\n",
      "alpha1.0 \n",
      " R2: 0.9985, beta: 0.80\n"
     ]
    }
   ],
   "source": [
    "for i, title in enumerate(title_cont3):\n",
    "    X_data = d_cont3[i][:, 2]\n",
    "    Y_data = d_cont3[i][:, 0]\n",
    "    to_fit = pd.DataFrame({'X':X_data,'Y':Y_data})\n",
    "    results = smf.ols('Y ~ X-1', data=to_fit).fit()\n",
    "    a = results.params['X']\n",
    "    r2 = results.rsquared\n",
    "    print('%s \\n R2: %.4f, beta: %.2f' %(title, r2, a))"
   ]
  },
  {
   "cell_type": "markdown",
   "metadata": {},
   "source": [
    "#### (2) Q and q"
   ]
  },
  {
   "cell_type": "code",
   "execution_count": 19,
   "metadata": {},
   "outputs": [
    {
     "name": "stdout",
     "output_type": "stream",
     "text": [
      "alpha0.1 \n",
      " R2: 0.9993, beta: 0.24\n",
      "alpha0.3 \n",
      " R2: 0.9992, beta: 0.36\n",
      "alpha0.5 \n",
      " R2: 0.9954, beta: 0.54\n",
      "alpha0.7 \n",
      " R2: 0.9990, beta: 0.79\n",
      "alpha0.9 \n",
      " R2: 0.9951, beta: 1.17\n",
      "alpha1.0 \n",
      " R2: 0.9989, beta: 1.41\n"
     ]
    }
   ],
   "source": [
    "for i, title in enumerate(title_cont3):\n",
    "    X_data = d_cont3[i][:, 3]\n",
    "    Y_data = d_cont3[i][:, 1]\n",
    "    to_fit = pd.DataFrame({'X':X_data,'Y':Y_data})\n",
    "    results = smf.ols('Y ~ X-1', data=to_fit).fit()\n",
    "    a = results.params['X']\n",
    "    r2 = results.rsquared\n",
    "    print('%s \\n R2: %.4f, beta: %.2f' %(title, r2, a))"
   ]
  },
  {
   "cell_type": "code",
   "execution_count": 35,
   "metadata": {},
   "outputs": [],
   "source": [
    "res_dict3 = {}\n",
    "for i, title in enumerate(title_cont3):\n",
    "    res_cont = []\n",
    "    data = d_cont3[i]\n",
    "    for j in range(100):\n",
    "        dis_train, dis_test = calcu_distance(data, num_train=9)      \n",
    "        res_cont.append([(np.mean(dis_train), np.std(dis_train)),\n",
    "                         (np.mean(dis_test), np.std(dis_test))])\n",
    "    res_dict3[title] = res_cont"
   ]
  },
  {
   "cell_type": "code",
   "execution_count": 36,
   "metadata": {},
   "outputs": [
    {
     "name": "stdout",
     "output_type": "stream",
     "text": [
      "alpha0.1\t  Train: 0.00178 (0.000367)\t  Test: 0.00179 (0.000480)\n",
      "alpha0.3\t  Train: 0.00311 (0.000984)\t  Test: 0.00332 (0.001081)\n",
      "alpha0.5\t  Train: 0.01469 (0.003008)\t  Test: 0.01700 (0.003477)\n",
      "alpha0.7\t  Train: 0.00653 (0.000166)\t  Test: 0.00834 (0.000746)\n",
      "alpha0.9\t  Train: 0.02125 (0.002651)\t  Test: 0.03647 (0.000758)\n",
      "alpha1.0\t  Train: 0.01437 (0.002607)\t  Test: 0.01387 (0.001840)\n"
     ]
    }
   ],
   "source": [
    "for i, title in enumerate(title_cont3):\n",
    "    d = res_dict3[title]\n",
    "    mean_train = d[:][0][0]\n",
    "    std_train = d[:][0][1]\n",
    "    \n",
    "    mean_test = d[:][1][0]\n",
    "    std_test = d[:][1][1]\n",
    "    \n",
    "    print('%s' % title, end='\\t')\n",
    "    print('  Train: %.5f (%.6f)' % (np.mean(mean_train), np.std(mean_train)), end='\\t')\n",
    "    print('  Test: %.5f (%.6f)' % (np.mean(mean_test), np.std(mean_test)))"
   ]
  },
  {
   "cell_type": "markdown",
   "metadata": {},
   "source": [
    "### 4. individual heterogeneity"
   ]
  },
  {
   "cell_type": "code",
   "execution_count": 20,
   "metadata": {},
   "outputs": [],
   "source": [
    "coeff_cont_sgima01 = np.load(u +\"estimate_sigma-0.1.npy\")\n",
    "coeff_cont_sgima02 = np.load(u +\"estimate_sigma-0.2.npy\")\n",
    "coeff_cont_sgima04 = np.load(u +\"estimate_sigma-0.4.npy\")\n",
    "coeff_cont_sgima06 = np.load(u +\"estimate_sigma-0.6.npy\")\n",
    "coeff_cont_sgima08 = np.load(u +\"estimate_sigma-0.8.npy\")\n",
    "coeff_cont_sgima10 = np.load(u +\"estimate_sigma-1.0.npy\")"
   ]
  },
  {
   "cell_type": "code",
   "execution_count": 21,
   "metadata": {},
   "outputs": [],
   "source": [
    "d_cont4 = [coeff_cont_sgima01,coeff_cont_sgima02,coeff_cont_sgima04,\n",
    "           coeff_cont_sgima06,coeff_cont_sgima08,coeff_cont_sgima10]\n",
    "title_cont4 = ['sigma0.1', 'sigma0.2', 'sigma0.4', 'sigma0.6', 'sigma0.8', 'sigma1.0']"
   ]
  },
  {
   "cell_type": "markdown",
   "metadata": {},
   "source": [
    "#### (1) P and p"
   ]
  },
  {
   "cell_type": "code",
   "execution_count": 22,
   "metadata": {},
   "outputs": [
    {
     "name": "stdout",
     "output_type": "stream",
     "text": [
      "sigma0.1 \n",
      " R2: 0.9982, beta: 0.80\n",
      "sigma0.2 \n",
      " R2: 0.9980, beta: 0.79\n",
      "sigma0.4 \n",
      " R2: 0.9978, beta: 0.75\n",
      "sigma0.6 \n",
      " R2: 0.9976, beta: 0.68\n",
      "sigma0.8 \n",
      " R2: 0.9977, beta: 0.61\n",
      "sigma1.0 \n",
      " R2: 0.9973, beta: 0.55\n"
     ]
    }
   ],
   "source": [
    "for i, title in enumerate(title_cont4):\n",
    "    X_data = d_cont4[i][:, 2]\n",
    "    Y_data = d_cont4[i][:, 0]\n",
    "    to_fit = pd.DataFrame({'X':X_data,'Y':Y_data})\n",
    "    results = smf.ols('Y ~ X-1', data=to_fit).fit()\n",
    "    a = results.params['X']\n",
    "    r2 = results.rsquared\n",
    "    print('%s \\n R2: %.4f, beta: %.2f' %(title, r2, a))"
   ]
  },
  {
   "cell_type": "markdown",
   "metadata": {},
   "source": [
    "#### (2) Q and q"
   ]
  },
  {
   "cell_type": "code",
   "execution_count": 23,
   "metadata": {},
   "outputs": [
    {
     "name": "stdout",
     "output_type": "stream",
     "text": [
      "sigma0.1 \n",
      " R2: 0.9991, beta: 0.20\n",
      "sigma0.2 \n",
      " R2: 0.9990, beta: 0.20\n",
      "sigma0.4 \n",
      " R2: 0.9988, beta: 0.20\n",
      "sigma0.6 \n",
      " R2: 0.9960, beta: 0.20\n",
      "sigma0.8 \n",
      " R2: 0.9961, beta: 0.20\n",
      "sigma1.0 \n",
      " R2: 0.9954, beta: 0.19\n"
     ]
    }
   ],
   "source": [
    "for i, title in enumerate(title_cont4):\n",
    "    X_data = d_cont4[i][:, 3]\n",
    "    Y_data = d_cont4[i][:, 1]\n",
    "    to_fit = pd.DataFrame({'X':X_data,'Y':Y_data})\n",
    "    results = smf.ols('Y ~ X-1', data=to_fit).fit()\n",
    "    a = results.params['X']\n",
    "    r2 = results.rsquared\n",
    "    print('%s \\n R2: %.4f, beta: %.2f' %(title, r2, a))"
   ]
  },
  {
   "cell_type": "markdown",
   "metadata": {},
   "source": [
    "### (3) Cross-validation"
   ]
  },
  {
   "cell_type": "code",
   "execution_count": 37,
   "metadata": {},
   "outputs": [],
   "source": [
    "res_dict4 = {}\n",
    "for i, title in enumerate(title_cont4):\n",
    "    res_cont = []\n",
    "    data = d_cont4[i]\n",
    "    for j in range(100):\n",
    "        dis_train, dis_test = calcu_distance(data, num_train=9)      \n",
    "        res_cont.append([(np.mean(dis_train), np.std(dis_train)),\n",
    "                         (np.mean(dis_test), np.std(dis_test))])\n",
    "        \n",
    "    res_dict4[title] = res_cont"
   ]
  },
  {
   "cell_type": "code",
   "execution_count": 38,
   "metadata": {},
   "outputs": [
    {
     "name": "stdout",
     "output_type": "stream",
     "text": [
      "sigma0.1\t  Train: 0.00191 (0.000558)\t  Test: 0.00194 (0.000746)\n",
      "sigma0.2\t  Train: 0.00263 (0.000213)\t  Test: 0.00229 (0.000154)\n",
      "sigma0.4\t  Train: 0.00200 (0.000595)\t  Test: 0.00228 (0.000313)\n",
      "sigma0.6\t  Train: 0.00426 (0.000041)\t  Test: 0.00466 (0.000039)\n",
      "sigma0.8\t  Train: 0.00175 (0.000251)\t  Test: 0.00136 (0.000474)\n",
      "sigma1.0\t  Train: 0.00179 (0.000218)\t  Test: 0.00170 (0.000372)\n"
     ]
    }
   ],
   "source": [
    "for i, title in enumerate(title_cont4):\n",
    "    d = res_dict4[title]\n",
    "    mean_train = d[:][0][0]\n",
    "    std_train = d[:][0][1]\n",
    "    \n",
    "    mean_test = d[:][1][0]\n",
    "    std_test = d[:][1][1]\n",
    "    \n",
    "    print('%s' % title, end='\\t')\n",
    "    print('  Train: %.5f (%.6f)' % (np.mean(mean_train), np.std(mean_train)), end='\\t')\n",
    "    print('  Test: %.5f (%.6f)' % (np.mean(mean_test), np.std(mean_test)))"
   ]
  },
  {
   "cell_type": "code",
   "execution_count": null,
   "metadata": {},
   "outputs": [],
   "source": []
  }
 ],
 "metadata": {
  "kernelspec": {
   "display_name": "Python 3",
   "language": "python",
   "name": "python3"
  },
  "language_info": {
   "codemirror_mode": {
    "name": "ipython",
    "version": 3
   },
   "file_extension": ".py",
   "mimetype": "text/x-python",
   "name": "python",
   "nbconvert_exporter": "python",
   "pygments_lexer": "ipython3",
   "version": "3.5.2"
  }
 },
 "nbformat": 4,
 "nbformat_minor": 2
}
