{
 "cells": [
  {
   "cell_type": "code",
   "execution_count": 7,
   "metadata": {
    "collapsed": true
   },
   "outputs": [],
   "source": [
    "%matplotlib inline\n",
    "from __future__ import division\n",
    "import matplotlib.pyplot as plt\n",
    "import numpy as np\n",
    "import networkx as nx\n",
    "import time\n",
    "import random\n",
    "import multiprocessing"
   ]
  },
  {
   "cell_type": "code",
   "execution_count": null,
   "metadata": {
    "collapsed": true
   },
   "outputs": [],
   "source": [
    "class Diffuse:  # 默认网络结构为节点数量为10000，边为60000的单向随机网络\n",
    "    def __init__(self, p, q, G=nx.gnm_random_graph(10000, 30000),  num_runs=30):\n",
    "        self.G = G\n",
    "        self.p, self.q = p, q\n",
    "        self.num_runs = num_runs\n",
    "        \n",
    "    def decision(self, i):  # 线性决策规则\n",
    "        dose = sum([self.G.node[k]['state'] for k in self.G.node[i]['neigh']])\n",
    "        prob = self.p + self.q * dose\n",
    "        return True if random.random() <= prob else False\n",
    "        \n",
    "    def single_diffuse(self):  # 单次扩散\n",
    "        for i in self.G.nodes_iter():\n",
    "            self.G.node[i]['neigh'] = self.G.neighbors(i)\n",
    "            self.G.node[i]['state'] = False\n",
    "            \n",
    "        non_adopt_set = [i for i in self.G.nodes() if self.G.node[i]['state'] == False]\n",
    "        num_of_adopt = []\n",
    "        for j in range(self.num_runs):                            \n",
    "            x = 0\n",
    "            random.shuffle(non_adopt_set)\n",
    "            for i in non_adopt_set:                   \n",
    "                if self.decision(i):\n",
    "                    self.G.node[i]['state'] = True\n",
    "                    non_adopt_set.remove(i)\n",
    "                    x += 1\n",
    "            num_of_adopt.append(x)\n",
    "            \n",
    "        return num_of_adopt\n",
    "    \n",
    "    def repete_diffuse(self, repetes=10):  #多次扩散      \n",
    "        return [self.single_diffuse() for  i in xrange(repetes)]"
   ]
  },
  {
   "cell_type": "markdown",
   "metadata": {},
   "source": [
    "## 1. 补充全连通图扩散"
   ]
  },
  {
   "cell_type": "code",
   "execution_count": 27,
   "metadata": {},
   "outputs": [],
   "source": [
    "def diffuse(p, q, m, num_runs=24):\n",
    "    num_of_adopt = []\n",
    "    for j in xrange(num_runs):\n",
    "        dose = sum(num_of_adopt)  # 邻居数量\n",
    "        prob = p + q * dose\n",
    "        x = sum([ 1 for i in xrange(m - sum(num_of_adopt)) if random.random() <= prob ])\n",
    "        num_of_adopt.append(x)\n",
    "        \n",
    "    return num_of_adopt"
   ]
  },
  {
   "cell_type": "code",
   "execution_count": 34,
   "metadata": {},
   "outputs": [],
   "source": [
    "d = diffuse(0.005, 0.4 / 100000, 100000)"
   ]
  },
  {
   "cell_type": "code",
   "execution_count": 35,
   "metadata": {},
   "outputs": [
    {
     "data": {
      "text/plain": [
       "[<matplotlib.lines.Line2D at 0xd00dd68>]"
      ]
     },
     "execution_count": 35,
     "metadata": {},
     "output_type": "execute_result"
    },
    {
     "data": {
      "image/png": "[encoded data removed]",
      "text/plain": [
       "<matplotlib.figure.Figure at 0xbf25c50>"
      ]
     },
     "metadata": {},
     "output_type": "display_data"
    }
   ],
   "source": [
    "plt.plot(d)"
   ]
  },
  {
   "cell_type": "code",
   "execution_count": null,
   "metadata": {
    "collapsed": true
   },
   "outputs": [],
   "source": []
  }
 ],
 "metadata": {
  "kernelspec": {
   "display_name": "Python 2",
   "language": "python",
   "name": "python2"
  },
  "language_info": {
   "codemirror_mode": {
    "name": "ipython",
    "version": 2
   },
   "file_extension": ".py",
   "mimetype": "text/x-python",
   "name": "python",
   "nbconvert_exporter": "python",
   "pygments_lexer": "ipython2",
   "version": "2.7.14"
  }
 },
 "nbformat": 4,
 "nbformat_minor": 2
}
