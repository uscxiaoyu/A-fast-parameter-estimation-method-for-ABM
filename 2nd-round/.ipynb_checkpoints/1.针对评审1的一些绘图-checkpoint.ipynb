{
 "cells": [
  {
   "cell_type": "code",
   "execution_count": null,
   "metadata": {
    "collapsed": true
   },
   "outputs": [],
   "source": [
    "import numpy as np\n",
    "import networkx as nx\n",
    "import time\n",
    "import random\n",
    "from copy import deepcopy as dc"
   ]
  },
  {
   "cell_type": "code",
   "execution_count": null,
   "metadata": {
    "collapsed": true
   },
   "outputs": [],
   "source": [
    "class Diffuse:  # 默认网络结构为节点数量为10000，边为60000的单向随机网络\n",
    "    repetes = 10  # 默认多次扩散重复次数\n",
    "    def __init__(self, p, q, num_runs, G=nx.gnm_random_graph(10000,30000)):\n",
    "        self.p = p\n",
    "        self.q = q\n",
    "        self.G = G\n",
    "        self.num_runs = num_runs\n",
    "        \n",
    "    def lm_decision(self, i):  # 线性决策规则\n",
    "        influ = len([k for k in self.G.node[i].get('neigh',[]) if self.G.node[k]['state'] == 1]) \n",
    "        prob = self.p + self.q * influ\n",
    "        return True if random.random() <= prob else False\n",
    "    \n",
    "    def gmm_decision(self, i):  # gmm决策规则\n",
    "        influ = len([k for k in self.DG.node[i].get('neigh',[]) if self.G.node[k]['state'] == 1])\n",
    "        prob = 1 - (1 - self.p) * (1 - self.q) ** influ\n",
    "        return True if random.random() <= prob else False\n",
    "        \n",
    "    def single_diffuse(self):  # 单次扩散\n",
    "        self.DG = dc(self.G)  # 取网络的深层copy，以使原网络不被“污染” \n",
    "        for i in self.DG.nodes_iter():\n",
    "            self.DG.node[i]['neigh'] = self.DG.neighbors(i)\n",
    "            self.DG.node[i]['state'] = 0\n",
    "            \n",
    "        non_adopt_set = [i for i in self.DG.nodes() if self.DG.node[i]['state'] == 0]\n",
    "        num_of_adopt = []\n",
    "        j = 1\n",
    "        while j <= self.num_runs:                            \n",
    "            x = 0\n",
    "            random.shuffle(non_adopt_set)\n",
    "            for i in non_adopt_set:                   \n",
    "                if self.decision(i):\n",
    "                    self.DG.node[i]['state'] = 1\n",
    "                    non_adopt_set.remove(i)\n",
    "                    x = x+1\n",
    "                    \n",
    "            num_of_adopt.append(x)\n",
    "            j = j+1\n",
    "        return num_of_adopt\n",
    "    \n",
    "    def repete_diffuse(self): #多次扩散\n",
    "        adopt_cont = []\n",
    "        for i in range(self.repetes):\n",
    "            num_of_adopt = self.single_diffuse()\n",
    "            adopt_cont.append(num_of_adopt)\n",
    "            \n",
    "        return adopt_cont"
   ]
  },
  {
   "cell_type": "code",
   "execution_count": null,
   "metadata": {
    "collapsed": true
   },
   "outputs": [],
   "source": [
    "text_set = ['ws0','ws0.1','ws0.3','ws0.5','ws0.7','ws0.9']\n",
    "nwk_cont = [nx.watts_strogatz_graph(10000,6,p=0),nx.watts_strogatz_graph(10000,6,p=0.1),nx.watts_strogatz_graph(10000,6,p=0.3),\n",
    "                         nx.watts_strogatz_graph(10000,6,p=0.5),nx.watts_strogatz_graph(10000,6,p=0.7),nx.watts_strogatz_graph(10000,6,p=0.9)]"
   ]
  },
  {
   "cell_type": "code",
   "execution_count": null,
   "metadata": {
    "collapsed": true
   },
   "outputs": [],
   "source": [
    "pq_range = [(i,j) for i in np.arange(0.0005,0.0255,0.001) for j in np.arange(0.02,0.2,0.003)] #25*60=1500"
   ]
  },
  {
   "cell_type": "code",
   "execution_count": null,
   "metadata": {
    "collapsed": true
   },
   "outputs": [],
   "source": [
    "for u in range(6):\n",
    "    G = nwk_cont[u]\n",
    "    time1 = time.clock()\n",
    "    print '------------------%s------------------'%text_set[u]\n",
    "    diff_cont = []\n",
    "    k = 1\n",
    "    for p,q in pq_range:\n",
    "        diff = Diffuse(p,q,25,G)\n",
    "        temp = diff.repete_diffuse()\n",
    "        x = np.mean(temp,axis=0)\n",
    "        x = np.insert(x,0,[p,q])\n",
    "        diff_cont.append(x)\n",
    "        k = k+1\n",
    "        if k in [100,400,800,1200,1400]:\n",
    "            print '%s'%text_set[u],k,'runs:',time.clock()-time1,'s'\n",
    "            time1 = time.clock()\n",
    "\n",
    "    to_write = np.array(diff_cont)\n",
    "    np.save(\"diffusion data set for %s\"%text_set[u],to_write)"
   ]
  }
 ],
 "metadata": {
  "kernelspec": {
   "display_name": "Python 2",
   "language": "python",
   "name": "python2"
  },
  "language_info": {
   "codemirror_mode": {
    "name": "ipython",
    "version": 2
   },
   "file_extension": ".py",
   "mimetype": "text/x-python",
   "name": "python",
   "nbconvert_exporter": "python",
   "pygments_lexer": "ipython2",
   "version": "2.7.14"
  }
 },
 "nbformat": 4,
 "nbformat_minor": 2
}
