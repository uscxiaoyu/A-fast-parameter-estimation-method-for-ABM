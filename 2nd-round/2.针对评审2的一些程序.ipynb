{
 "cells": [
  {
   "cell_type": "code",
   "execution_count": 1,
   "metadata": {},
   "outputs": [],
   "source": [
    "%matplotlib inline\n",
    "from __future__ import division\n",
    "import matplotlib.pyplot as plt\n",
    "import numpy as np\n",
    "import networkx as nx\n",
    "import time\n",
    "import random\n",
    "from estimate_bass import *"
   ]
  },
  {
   "cell_type": "code",
   "execution_count": 17,
   "metadata": {},
   "outputs": [],
   "source": [
    "u = \"/home/yu/PycharmProjects/A-fast-method/auto_data/\""
   ]
  },
  {
   "cell_type": "markdown",
   "metadata": {},
   "source": [
    "## 1. 补充全连通图扩散"
   ]
  },
  {
   "cell_type": "code",
   "execution_count": 3,
   "metadata": {},
   "outputs": [],
   "source": [
    "def diffuse(p, q, m=10000, num_runs=35):  # 全联通扩散模拟\n",
    "    num_of_adopt = []\n",
    "    for j in range(num_runs):\n",
    "        dose = sum(num_of_adopt)  # 邻居数量\n",
    "        prob = p + q * dose\n",
    "        x = sum([ 1 for i in range(m - sum(num_of_adopt)) if random.random() <= prob ])\n",
    "        num_of_adopt.append(x)\n",
    "    return num_of_adopt"
   ]
  },
  {
   "cell_type": "code",
   "execution_count": 26,
   "metadata": {},
   "outputs": [
    {
     "data": {
      "text/plain": [
       "[<matplotlib.lines.Line2D at 0x7fca0ee87208>]"
      ]
     },
     "execution_count": 26,
     "metadata": {},
     "output_type": "execute_result"
    },
    {
     "data": {
      "image/png": "[encoded data removed]",
      "text/plain": [
       "<matplotlib.figure.Figure at 0x7fca0eeb49e8>"
      ]
     },
     "metadata": {},
     "output_type": "display_data"
    }
   ],
   "source": [
    "x = diffuse(0.0007, 5e-5)\n",
    "plt.plot(x)"
   ]
  },
  {
   "cell_type": "code",
   "execution_count": 10,
   "metadata": {},
   "outputs": [],
   "source": [
    "class Gen_para:\n",
    "    def __init__(self, p_cont=(0.001, 0.035), q_cont=(3.5e-5, 5.5e-5), delta=(0.001, 5e-6)):\n",
    "        self.p_cont = p_cont\n",
    "        self.q_cont = q_cont\n",
    "        self.d_p, self.d_q = delta\n",
    "\n",
    "    def add_data(self, p, q):\n",
    "        diff = [diffuse(p, q) for i in range(10)]\n",
    "        x = np.mean(diff, axis=0)\n",
    "        max_idx = np.argmax(x)\n",
    "        s = x[: (max_idx + 2)]\n",
    "        para_range = [[1e-6, 0.08], [0.01, 1], [2000, 20000]]\n",
    "        bassest = Bass_Estimate(s, para_range)\n",
    "        bassest.t_n = 1000\n",
    "        res = bassest.optima_search(c_n=200, threshold=10e-8)\n",
    "        return res[:2]\n",
    "\n",
    "    def identify_range(self):\n",
    "        min_p, max_p = self.p_cont\n",
    "        min_q, max_q = self.q_cont\n",
    "        est_cont = [self.add_data(p, q) for p, q in [(min_p, min_q), (max_p, max_q)]]\n",
    "        i = 1\n",
    "        while True:\n",
    "            min_P, min_Q = est_cont[0]\n",
    "            max_P, max_Q = est_cont[1]\n",
    "            print(i, ' P:%.4f~%.4f' % (min_P, max_P), ' Q:%.4f~%.4f' % (min_Q, max_Q))\n",
    "            c1, c2 = 0, 0\n",
    "            if min_P > 0.0007:  # in case of min_p < 0\n",
    "                if min_p - self.d_p > 0:\n",
    "                    min_p -= self.d_p\n",
    "                else:\n",
    "                    min_p *= 0.8\n",
    "                c1 += 1\n",
    "            if min_Q > 0.38:\n",
    "                min_q -= self.d_q\n",
    "                c1 += 1\n",
    "            if max_P < 0.03:\n",
    "                max_p += self.d_p\n",
    "                c2 += 1\n",
    "            if max_Q < 0.53:\n",
    "                max_q += self.d_q\n",
    "                c2 += 1\n",
    "\n",
    "            i += 1\n",
    "\n",
    "            if c1 + c2 != 0:  # check which ends should be updated\n",
    "                if c1 != 0:\n",
    "                    est_cont[0] = self.add_data(min_p, min_q)\n",
    "                if c2 != 0:\n",
    "                    est_cont[1] = self.add_data(max_p, max_q)\n",
    "            else:\n",
    "                break\n",
    "\n",
    "            if i == 25:\n",
    "                break\n",
    "\n",
    "        return [(min_p, max_p), (min_q, max_q)], [(min_P, max_P), (min_Q, max_Q)]"
   ]
  },
  {
   "cell_type": "code",
   "execution_count": 11,
   "metadata": {},
   "outputs": [
    {
     "name": "stdout",
     "output_type": "stream",
     "text": [
      "Exceed the maximal iteration: 100\n",
      "1  P:0.0007~0.0221  Q:0.3161~0.4960\n",
      "2  P:0.0007~0.0232  Q:0.3161~0.5309\n",
      "3  P:0.0007~0.0230  Q:0.3161~0.5331\n",
      "4  P:0.0007~0.0242  Q:0.3161~0.5242\n",
      "5  P:0.0007~0.0236  Q:0.3161~0.5847\n",
      "6  P:0.0007~0.0244  Q:0.3161~0.5831\n",
      "7  P:0.0007~0.0252  Q:0.3161~0.5799\n",
      "8  P:0.0007~0.0260  Q:0.3161~0.5983\n",
      "9  P:0.0007~0.0263  Q:0.3161~0.5898\n",
      "10  P:0.0007~0.0270  Q:0.3161~0.5992\n",
      "11  P:0.0007~0.0269  Q:0.3161~0.6015\n",
      "12  P:0.0007~0.0283  Q:0.3161~0.5565\n",
      "13  P:0.0007~0.0286  Q:0.3161~0.5590\n",
      "14  P:0.0007~0.0301  Q:0.3161~0.5698\n"
     ]
    }
   ],
   "source": [
    "ger_samp = Gen_para()\n",
    "bound = ger_samp.identify_range()"
   ]
  },
  {
   "cell_type": "code",
   "execution_count": 13,
   "metadata": {},
   "outputs": [],
   "source": [
    "r_p, r_q = bound[0]\n",
    "pq_range = [(p, q) for p in np.linspace(r_p[0], r_p[1], num=10) for q in np.linspace(r_q[0], r_q[1], num=15)]"
   ]
  },
  {
   "cell_type": "code",
   "execution_count": 15,
   "metadata": {},
   "outputs": [
    {
     "data": {
      "text/plain": [
       "((0.001, 0.048000000000000015), (3.5e-05, 6.500000000000001e-05))"
      ]
     },
     "execution_count": 15,
     "metadata": {},
     "output_type": "execute_result"
    }
   ],
   "source": [
    "r_p, r_q"
   ]
  },
  {
   "cell_type": "code",
   "execution_count": 16,
   "metadata": {
    "scrolled": true
   },
   "outputs": [
    {
     "name": "stdout",
     "output_type": "stream",
     "text": [
      "p:1.000e-03, q:3e-05\n",
      "p:1.000e-03, q:4e-05\n",
      "p:1.000e-03, q:4e-05\n",
      "p:1.000e-03, q:4e-05\n",
      "p:1.000e-03, q:4e-05\n",
      "p:1.000e-03, q:5e-05\n",
      "p:1.000e-03, q:5e-05\n",
      "p:1.000e-03, q:5e-05\n",
      "p:1.000e-03, q:5e-05\n",
      "p:1.000e-03, q:5e-05\n",
      "p:1.000e-03, q:6e-05\n",
      "p:1.000e-03, q:6e-05\n",
      "p:1.000e-03, q:6e-05\n",
      "p:1.000e-03, q:6e-05\n",
      "p:1.000e-03, q:7e-05\n",
      "p:6.222e-03, q:3e-05\n",
      "p:6.222e-03, q:4e-05\n",
      "p:6.222e-03, q:4e-05\n",
      "p:6.222e-03, q:4e-05\n",
      "p:6.222e-03, q:4e-05\n",
      "p:6.222e-03, q:5e-05\n",
      "p:6.222e-03, q:5e-05\n",
      "p:6.222e-03, q:5e-05\n",
      "p:6.222e-03, q:5e-05\n",
      "p:6.222e-03, q:5e-05\n",
      "p:6.222e-03, q:6e-05\n",
      "p:6.222e-03, q:6e-05\n",
      "p:6.222e-03, q:6e-05\n",
      "p:6.222e-03, q:6e-05\n",
      "p:6.222e-03, q:7e-05\n",
      "p:1.144e-02, q:3e-05\n",
      "p:1.144e-02, q:4e-05\n",
      "p:1.144e-02, q:4e-05\n",
      "p:1.144e-02, q:4e-05\n",
      "p:1.144e-02, q:4e-05\n",
      "p:1.144e-02, q:5e-05\n",
      "p:1.144e-02, q:5e-05\n",
      "p:1.144e-02, q:5e-05\n",
      "p:1.144e-02, q:5e-05\n",
      "p:1.144e-02, q:5e-05\n",
      "p:1.144e-02, q:6e-05\n",
      "p:1.144e-02, q:6e-05\n",
      "p:1.144e-02, q:6e-05\n",
      "p:1.144e-02, q:6e-05\n",
      "p:1.144e-02, q:7e-05\n",
      "p:1.667e-02, q:3e-05\n",
      "p:1.667e-02, q:4e-05\n",
      "p:1.667e-02, q:4e-05\n",
      "p:1.667e-02, q:4e-05\n",
      "p:1.667e-02, q:4e-05\n",
      "p:1.667e-02, q:5e-05\n",
      "p:1.667e-02, q:5e-05\n",
      "p:1.667e-02, q:5e-05\n",
      "p:1.667e-02, q:5e-05\n",
      "p:1.667e-02, q:5e-05\n",
      "p:1.667e-02, q:6e-05\n",
      "p:1.667e-02, q:6e-05\n",
      "p:1.667e-02, q:6e-05\n",
      "p:1.667e-02, q:6e-05\n",
      "p:1.667e-02, q:7e-05\n",
      "p:2.189e-02, q:3e-05\n",
      "p:2.189e-02, q:4e-05\n",
      "p:2.189e-02, q:4e-05\n",
      "p:2.189e-02, q:4e-05\n",
      "p:2.189e-02, q:4e-05\n",
      "p:2.189e-02, q:5e-05\n",
      "p:2.189e-02, q:5e-05\n",
      "p:2.189e-02, q:5e-05\n",
      "p:2.189e-02, q:5e-05\n",
      "p:2.189e-02, q:5e-05\n",
      "p:2.189e-02, q:6e-05\n",
      "p:2.189e-02, q:6e-05\n",
      "p:2.189e-02, q:6e-05\n",
      "p:2.189e-02, q:6e-05\n",
      "p:2.189e-02, q:7e-05\n",
      "p:2.711e-02, q:3e-05\n",
      "p:2.711e-02, q:4e-05\n",
      "p:2.711e-02, q:4e-05\n",
      "p:2.711e-02, q:4e-05\n",
      "p:2.711e-02, q:4e-05\n",
      "p:2.711e-02, q:5e-05\n",
      "p:2.711e-02, q:5e-05\n",
      "p:2.711e-02, q:5e-05\n",
      "p:2.711e-02, q:5e-05\n",
      "p:2.711e-02, q:5e-05\n",
      "p:2.711e-02, q:6e-05\n",
      "p:2.711e-02, q:6e-05\n",
      "p:2.711e-02, q:6e-05\n",
      "p:2.711e-02, q:6e-05\n",
      "p:2.711e-02, q:7e-05\n",
      "p:3.233e-02, q:3e-05\n",
      "p:3.233e-02, q:4e-05\n",
      "p:3.233e-02, q:4e-05\n",
      "p:3.233e-02, q:4e-05\n",
      "p:3.233e-02, q:4e-05\n",
      "p:3.233e-02, q:5e-05\n",
      "p:3.233e-02, q:5e-05\n",
      "p:3.233e-02, q:5e-05\n",
      "p:3.233e-02, q:5e-05\n",
      "p:3.233e-02, q:5e-05\n",
      "p:3.233e-02, q:6e-05\n",
      "p:3.233e-02, q:6e-05\n",
      "p:3.233e-02, q:6e-05\n",
      "p:3.233e-02, q:6e-05\n",
      "p:3.233e-02, q:7e-05\n",
      "p:3.756e-02, q:3e-05\n",
      "p:3.756e-02, q:4e-05\n",
      "p:3.756e-02, q:4e-05\n",
      "p:3.756e-02, q:4e-05\n",
      "p:3.756e-02, q:4e-05\n",
      "p:3.756e-02, q:5e-05\n",
      "p:3.756e-02, q:5e-05\n",
      "p:3.756e-02, q:5e-05\n",
      "p:3.756e-02, q:5e-05\n",
      "p:3.756e-02, q:5e-05\n",
      "p:3.756e-02, q:6e-05\n",
      "p:3.756e-02, q:6e-05\n",
      "p:3.756e-02, q:6e-05\n",
      "p:3.756e-02, q:6e-05\n",
      "p:3.756e-02, q:7e-05\n",
      "p:4.278e-02, q:3e-05\n",
      "p:4.278e-02, q:4e-05\n",
      "p:4.278e-02, q:4e-05\n",
      "p:4.278e-02, q:4e-05\n",
      "p:4.278e-02, q:4e-05\n",
      "p:4.278e-02, q:5e-05\n",
      "p:4.278e-02, q:5e-05\n",
      "p:4.278e-02, q:5e-05\n",
      "p:4.278e-02, q:5e-05\n",
      "p:4.278e-02, q:5e-05\n",
      "p:4.278e-02, q:6e-05\n",
      "p:4.278e-02, q:6e-05\n",
      "p:4.278e-02, q:6e-05\n",
      "p:4.278e-02, q:6e-05\n",
      "p:4.278e-02, q:7e-05\n",
      "p:4.800e-02, q:3e-05\n",
      "p:4.800e-02, q:4e-05\n",
      "p:4.800e-02, q:4e-05\n",
      "p:4.800e-02, q:4e-05\n",
      "p:4.800e-02, q:4e-05\n",
      "p:4.800e-02, q:5e-05\n",
      "p:4.800e-02, q:5e-05\n",
      "p:4.800e-02, q:5e-05\n",
      "p:4.800e-02, q:5e-05\n",
      "p:4.800e-02, q:5e-05\n",
      "p:4.800e-02, q:6e-05\n",
      "p:4.800e-02, q:6e-05\n",
      "p:4.800e-02, q:6e-05\n",
      "p:4.800e-02, q:6e-05\n",
      "p:4.800e-02, q:7e-05\n"
     ]
    }
   ],
   "source": [
    "result = []\n",
    "for p, q in pq_range:\n",
    "    t1 = time.clock()\n",
    "    diff_cont = []\n",
    "    for i in range(10):\n",
    "        diff = diffuse(p, q, m=10000, num_runs=35)\n",
    "        diff_cont.append(diff)\n",
    "    \n",
    "    mean_diff = np.mean(diff_cont, axis=0)\n",
    "    result.append(np.concatenate(([p, q], mean_diff)))\n",
    "    print('p:%.3e, q:%3.e' % (p, q))\n",
    "\n",
    "np.save('complete_graph(10000)', result)"
   ]
  },
  {
   "cell_type": "code",
   "execution_count": 22,
   "metadata": {
    "collapsed": true
   },
   "outputs": [],
   "source": [
    "data = np.load('complete_graph(10000).npy')"
   ]
  },
  {
   "cell_type": "code",
   "execution_count": 29,
   "metadata": {},
   "outputs": [
    {
     "data": {
      "text/plain": [
       "[<matplotlib.lines.Line2D at 0xb6eeef0>]"
      ]
     },
     "execution_count": 29,
     "metadata": {},
     "output_type": "execute_result"
    },
    {
     "data": {
      "image/png": "[encoded data removed]",
      "text/plain": [
       "<matplotlib.figure.Figure at 0xb3a1978>"
      ]
     },
     "metadata": {},
     "output_type": "display_data"
    }
   ],
   "source": [
    "plt.plot(data[7][2:])"
   ]
  },
  {
   "cell_type": "markdown",
   "metadata": {},
   "source": [
    "### 数据分析"
   ]
  },
  {
   "cell_type": "code",
   "execution_count": 18,
   "metadata": {},
   "outputs": [],
   "source": [
    "import statsmodels.formula.api as smf\n",
    "import pandas as pd"
   ]
  },
  {
   "cell_type": "code",
   "execution_count": 19,
   "metadata": {},
   "outputs": [],
   "source": [
    "est_data = np.load(u+'estimate_complete_graph(10000).npy')"
   ]
  },
  {
   "cell_type": "markdown",
   "metadata": {},
   "source": [
    "#### (1) M and $r^2$"
   ]
  },
  {
   "cell_type": "code",
   "execution_count": 25,
   "metadata": {},
   "outputs": [
    {
     "name": "stdout",
     "output_type": "stream",
     "text": [
      "m| mean:11334.0, std:283.7\n",
      "r2| mean:0.9988, std:0.0011\n"
     ]
    }
   ],
   "source": [
    "m_r2 = tuple(zip(np.mean(est_data[:, [4, 5]], axis=0),  np.std(est_data[:, [4, 5]], axis=0)))\n",
    "print('m| mean:%.1f, std:%.1f' % m_r2[0])\n",
    "print('r2| mean:%.4f, std:%.4f' % m_r2[1])"
   ]
  },
  {
   "cell_type": "markdown",
   "metadata": {},
   "source": [
    "#### (2) p and P, q and Q"
   ]
  },
  {
   "cell_type": "code",
   "execution_count": 26,
   "metadata": {},
   "outputs": [],
   "source": [
    "pd_est = pd.DataFrame(est_data, columns=['p', 'q', 'P', 'Q', 'M', 'R2'])"
   ]
  },
  {
   "cell_type": "code",
   "execution_count": 27,
   "metadata": {},
   "outputs": [
    {
     "data": {
      "text/html": [
       "<div>\n",
       "<style scoped>\n",
       "    .dataframe tbody tr th:only-of-type {\n",
       "        vertical-align: middle;\n",
       "    }\n",
       "\n",
       "    .dataframe tbody tr th {\n",
       "        vertical-align: top;\n",
       "    }\n",
       "\n",
       "    .dataframe thead th {\n",
       "        text-align: right;\n",
       "    }\n",
       "</style>\n",
       "<table border=\"1\" class=\"dataframe\">\n",
       "  <thead>\n",
       "    <tr style=\"text-align: right;\">\n",
       "      <th></th>\n",
       "      <th>p</th>\n",
       "      <th>q</th>\n",
       "      <th>P</th>\n",
       "      <th>Q</th>\n",
       "      <th>M</th>\n",
       "      <th>R2</th>\n",
       "    </tr>\n",
       "  </thead>\n",
       "  <tbody>\n",
       "    <tr>\n",
       "      <th>0</th>\n",
       "      <td>0.001</td>\n",
       "      <td>0.000035</td>\n",
       "      <td>0.000617</td>\n",
       "      <td>0.312971</td>\n",
       "      <td>11119.508161</td>\n",
       "      <td>0.999824</td>\n",
       "    </tr>\n",
       "    <tr>\n",
       "      <th>1</th>\n",
       "      <td>0.001</td>\n",
       "      <td>0.000037</td>\n",
       "      <td>0.000633</td>\n",
       "      <td>0.333698</td>\n",
       "      <td>10964.226933</td>\n",
       "      <td>0.999579</td>\n",
       "    </tr>\n",
       "    <tr>\n",
       "      <th>2</th>\n",
       "      <td>0.001</td>\n",
       "      <td>0.000039</td>\n",
       "      <td>0.000623</td>\n",
       "      <td>0.349680</td>\n",
       "      <td>10938.580979</td>\n",
       "      <td>0.999423</td>\n",
       "    </tr>\n",
       "    <tr>\n",
       "      <th>3</th>\n",
       "      <td>0.001</td>\n",
       "      <td>0.000041</td>\n",
       "      <td>0.000611</td>\n",
       "      <td>0.364556</td>\n",
       "      <td>11160.815614</td>\n",
       "      <td>0.999726</td>\n",
       "    </tr>\n",
       "    <tr>\n",
       "      <th>4</th>\n",
       "      <td>0.001</td>\n",
       "      <td>0.000044</td>\n",
       "      <td>0.000631</td>\n",
       "      <td>0.373888</td>\n",
       "      <td>11579.265991</td>\n",
       "      <td>0.999472</td>\n",
       "    </tr>\n",
       "  </tbody>\n",
       "</table>\n",
       "</div>"
      ],
      "text/plain": [
       "       p         q         P         Q             M        R2\n",
       "0  0.001  0.000035  0.000617  0.312971  11119.508161  0.999824\n",
       "1  0.001  0.000037  0.000633  0.333698  10964.226933  0.999579\n",
       "2  0.001  0.000039  0.000623  0.349680  10938.580979  0.999423\n",
       "3  0.001  0.000041  0.000611  0.364556  11160.815614  0.999726\n",
       "4  0.001  0.000044  0.000631  0.373888  11579.265991  0.999472"
      ]
     },
     "execution_count": 27,
     "metadata": {},
     "output_type": "execute_result"
    }
   ],
   "source": [
    "pd_est.head()"
   ]
  },
  {
   "cell_type": "code",
   "execution_count": 31,
   "metadata": {},
   "outputs": [
    {
     "name": "stdout",
     "output_type": "stream",
     "text": [
      "1.45457552116 0.994124937522\n"
     ]
    }
   ],
   "source": [
    "results1 = smf.ols('p ~ P-1', data=pd_est).fit()\n",
    "a = results1.params['P']\n",
    "r2 = results1.rsquared\n",
    "print(a, r2)"
   ]
  },
  {
   "cell_type": "code",
   "execution_count": 32,
   "metadata": {},
   "outputs": [
    {
     "name": "stdout",
     "output_type": "stream",
     "text": [
      "0.000112234046286 0.998749206007\n"
     ]
    }
   ],
   "source": [
    "results2 = smf.ols('q ~ Q - 1', data=pd_est).fit()\n",
    "a = results2.params['Q']\n",
    "r2 = results2.rsquared\n",
    "print(a, r2)"
   ]
  },
  {
   "cell_type": "code",
   "execution_count": null,
   "metadata": {},
   "outputs": [],
   "source": [
    "#### (2) Distn"
   ]
  },
  {
   "cell_type": "markdown",
   "metadata": {},
   "source": [
    "$p=k_1\\cdot P$\n",
    "\n",
    "$q=k_2\\cdot Q$\n",
    "\n",
    "$D(\\mathrm{fit, predict}) = \\sqrt{(\\hat p - p)^2 + (\\hat q - q)^2}$\n",
    "\n",
    "$\\mathrm{Indicator} = \\frac{\\mathrm{D_{test} - D_{train}}}{\\mathrm{D_{train}}}$"
   ]
  },
  {
   "cell_type": "code",
   "execution_count": 33,
   "metadata": {},
   "outputs": [],
   "source": [
    "def calcu_distance(data, num_train=50):\n",
    "    '''\n",
    "    data: [[p, q, P, Q, M, r2]]\n",
    "    '''\n",
    "    df = pd.DataFrame(data, columns=['p', 'q', 'P', 'Q', 'M', 'r2'])\n",
    "    \n",
    "    # 随机生成训练集和测试集\n",
    "    num_tol = len(data)\n",
    "    idx_cont = np.arange(num_tol)\n",
    "    idx_train = np.random.choice(idx_cont, size=num_train, replace=False)  # for the training set\n",
    "    idx_test = np.array([i for i in idx_cont if i not in idx_train])  # the remaining is the test set\n",
    "    train_set = df.loc[idx_train, ['p', 'q', 'P', 'Q']]\n",
    "    test_set = df.loc[idx_test, ['p', 'q', 'P', 'Q']]\n",
    "    \n",
    "    # 预测 p\n",
    "    result_p = smf.ols('p ~ P-1', data=train_set).fit()\n",
    "    k_p = result_p.params['P']\n",
    "    r2_p = result_p.rsquared\n",
    "    train_set['pred_p'] = k_p * train_set['P']\n",
    "    test_set['pred_p'] = k_p * test_set['P']\n",
    "    \n",
    "    # 预测 q\n",
    "    result_q = smf.ols('q ~ Q-1', data=train_set).fit()\n",
    "    k_q = result_q.params['Q']\n",
    "    r2_q = result_q.rsquared\n",
    "    train_set['pred_q'] = k_q * train_set['Q']\n",
    "    test_set['pred_q'] = k_q * test_set['Q']\n",
    "    \n",
    "    # 测试集中预测点和实际点之前的距离\n",
    "    dis_train = np.sqrt((train_set['p'] - train_set['pred_p']) ** 2 \n",
    "                                      + (train_set['q'] - train_set['pred_q']) ** 2)\n",
    "    \n",
    "    dis_test = np.sqrt((test_set['p'] - test_set['pred_p']) ** 2 \n",
    "                                      + (test_set['q'] - test_set['pred_q']) ** 2)\n",
    "    \n",
    "    return dis_train, dis_test"
   ]
  },
  {
   "cell_type": "code",
   "execution_count": 35,
   "metadata": {},
   "outputs": [],
   "source": [
    "res_cont = []\n",
    "for j in range(100):\n",
    "    dis_train, dis_test = calcu_distance(est_data, num_train=9)      \n",
    "    res_cont.append([(np.mean(dis_train), np.std(dis_train)),\n",
    "                     (np.mean(dis_test), np.std(dis_test))])"
   ]
  },
  {
   "cell_type": "code",
   "execution_count": 36,
   "metadata": {},
   "outputs": [
    {
     "name": "stdout",
     "output_type": "stream",
     "text": [
      "  Train: 0.00150 (0.000035)\t  Test: 0.00171 (0.000565)\n"
     ]
    }
   ],
   "source": [
    "mean_train = res_cont[:][0][0]\n",
    "std_train = res_cont[:][0][1]\n",
    "\n",
    "mean_test = res_cont[:][1][0]\n",
    "std_test = res_cont[:][1][1]\n",
    "\n",
    "print('  Train: %.5f (%.6f)' % (np.mean(mean_train), np.std(mean_train)), end='\\t')\n",
    "print('  Test: %.5f (%.6f)' % (np.mean(mean_test), np.std(mean_test)))"
   ]
  },
  {
   "cell_type": "markdown",
   "metadata": {},
   "source": [
    "## 2. 补充预测"
   ]
  },
  {
   "cell_type": "markdown",
   "metadata": {},
   "source": [
    "### 2.1 度分布异质性"
   ]
  },
  {
   "cell_type": "code",
   "execution_count": 39,
   "metadata": {
    "collapsed": true
   },
   "outputs": [],
   "source": [
    "u = \"C:\\\\Users\\\\XIAOYU\\\\Desktop\\\\data\\\\\"\n",
    "coeff_cont_gnm = np.load(u + \"2 degree heterogenous\\\\estimate gnm_random_graph(10000,30000).npy\")\n",
    "coeff_cont_ba =  np.load(u + \"2 degree heterogenous\\\\estimate barabasi_albert_graph(10000,3).npy\")\n",
    "coeff_cont_exp = np.load(u + \"2 degree heterogenous\\\\estimate exponential_graph(10000,3).npy\")\n",
    "coeff_cont_gua = np.load(u + \"2 degree heterogenous\\\\estimate gaussian_graph(10000,3).npy\")\n",
    "coeff_cont_log = np.load(u + \"2 degree heterogenous\\\\estimate lognormal_graph(10000,3).npy\")\n",
    "coeff_cont_ws0 =  np.load(u + \"3 small world\\\\estimate watts_strogatz_graph(10000,6,0).npy\")\n",
    "coeff_cont_ws01 = np.load(u + \"3 small world\\\\estimate watts_strogatz_graph(10000,6,0.1).npy\")\n",
    "coeff_cont_ws03 = np.load(u + \"3 small world\\\\estimate watts_strogatz_graph(10000,6,0.3).npy\")\n",
    "coeff_cont_ws05 = np.load(u + \"3 small world\\\\estimate watts_strogatz_graph(10000,6,0.5).npy\")\n",
    "coeff_cont_ws07 = np.load(u + \"3 small world\\\\estimate watts_strogatz_graph(10000,6,0.7).npy\")\n",
    "coeff_cont_ws09 = np.load(u + \"3 small world\\\\estimate watts_strogatz_graph(10000,6,0.9).npy\")\n",
    "coeff_cont_ws10 = np.load(u + \"3 small world\\\\estimate watts_strogatz_graph(10000,6,1).npy\")"
   ]
  },
  {
   "cell_type": "code",
   "execution_count": 60,
   "metadata": {
    "collapsed": true
   },
   "outputs": [],
   "source": [
    "d_cont = [coeff_cont_gnm, coeff_cont_ba, coeff_cont_exp, coeff_cont_gua,\n",
    "                   coeff_cont_log, coeff_cont_ws0, coeff_cont_ws01, coeff_cont_ws03,\n",
    "                   coeff_cont_ws05, coeff_cont_ws07, coeff_cont_ws09, coeff_cont_ws10]"
   ]
  },
  {
   "cell_type": "code",
   "execution_count": 61,
   "metadata": {},
   "outputs": [],
   "source": [
    "for i, dataset in enumerate(d_cont):\n",
    "    d_cont[i] = np.array([np.concatenate((x[0], x[1], x[2:])) for x in dataset], dtype=np.float)"
   ]
  },
  {
   "cell_type": "code",
   "execution_count": 62,
   "metadata": {},
   "outputs": [
    {
     "data": {
      "text/plain": [
       "array([  1.00000000e-03,   5.00000000e-02,   1.37543173e-03,\n",
       "         2.52742348e-01,   8.91400000e+03,   9.99713576e-01,\n",
       "         1.24048175e+01])"
      ]
     },
     "execution_count": 62,
     "metadata": {},
     "output_type": "execute_result"
    }
   ],
   "source": [
    "d_cont[0][0]"
   ]
  },
  {
   "cell_type": "code",
   "execution_count": null,
   "metadata": {
    "collapsed": true
   },
   "outputs": [],
   "source": [
    "def "
   ]
  },
  {
   "cell_type": "markdown",
   "metadata": {},
   "source": [
    "## 3. 为什么使用10次重复"
   ]
  },
  {
   "cell_type": "code",
   "execution_count": 1,
   "metadata": {},
   "outputs": [],
   "source": [
    "%matplotlib inline\n",
    "from __future__ import division\n",
    "import numpy as np\n",
    "import networkx as nx\n",
    "import time\n",
    "import random\n",
    "\n",
    "\n",
    "class Diffuse:  # 默认网络结构为节点数量为10000，边为30000的随机网络\n",
    "    def __init__(self, p, q, g=nx.gnm_random_graph(10000, 30000), num_runs=30):\n",
    "        if not nx.is_directed(g):\n",
    "            self.g = g.to_directed()\n",
    "        self.p, self.q = p, q\n",
    "        self.num_runs = num_runs\n",
    "\n",
    "    def decision(self, i):  # 线性决策规则\n",
    "        dose = sum([self.g.node[k]['state'] for k in self.g.predecessors(i)])\n",
    "        prob = self.p + self.q * dose\n",
    "        return True if random.random() <= prob else False\n",
    "\n",
    "    def single_diffuse(self):  # 单次扩散\n",
    "        for i in self.g:\n",
    "            self.g.node[i]['state'] = False\n",
    "\n",
    "        non_adopt_set = [i for i in self.g if not self.g.node[i]['state']]\n",
    "        num_of_adopt = []\n",
    "        for j in range(self.num_runs):\n",
    "            x = 0\n",
    "            random.shuffle(non_adopt_set)\n",
    "            for i in non_adopt_set:\n",
    "                if self.decision(i):\n",
    "                    self.g.node[i]['state'] = True\n",
    "                    non_adopt_set.remove(i)\n",
    "                    x += 1\n",
    "            num_of_adopt.append(x)\n",
    "        return num_of_adopt\n",
    "\n",
    "    def repete_diffuse(self, repetes=10):  # 多次扩散\n",
    "        return [self.single_diffuse() for i in range(repetes)]"
   ]
  },
  {
   "cell_type": "code",
   "execution_count": 3,
   "metadata": {},
   "outputs": [],
   "source": [
    "diffuse = Diffuse(p=0.001, q=0.08, num_runs=40)"
   ]
  },
  {
   "cell_type": "code",
   "execution_count": 4,
   "metadata": {},
   "outputs": [
    {
     "name": "stdout",
     "output_type": "stream",
     "text": [
      "Time: 110.78 s\n"
     ]
    }
   ],
   "source": [
    "t1 = time.clock()\n",
    "diff_cont = diffuse.repete_diffuse(repetes=40)\n",
    "print('Time: %.2f s' % (time.clock() - t1))"
   ]
  },
  {
   "cell_type": "code",
   "execution_count": 24,
   "metadata": {},
   "outputs": [
    {
     "data": {
      "text/plain": [
       "<matplotlib.legend.Legend at 0x1a190d1d10>"
      ]
     },
     "execution_count": 24,
     "metadata": {},
     "output_type": "execute_result"
    },
    {
     "data": {
      "image/png": "[encoded data removed]",
      "text/plain": [
       "<matplotlib.figure.Figure at 0x1a18c91a10>"
      ]
     },
     "metadata": {},
     "output_type": "display_data"
    }
   ],
   "source": [
    "import matplotlib.pyplot as pl\n",
    "\n",
    "fig = pl.figure(figsize=(10, 5))\n",
    "ax = fig.add_subplot(1, 1, 1)\n",
    "ax.set_xlabel('Step', fontsize=15)\n",
    "ax.set_ylabel('Number of adopters', fontsize=15)\n",
    "ax.set_xlim([1, 40])\n",
    "ax.plot(np.arange(1, 41), np.mean(diff_cont[:10], axis=0),'ko-', lw=0.5, alpha=0.5, label='10 repetitions')\n",
    "ax.plot(np.arange(1, 41), np.mean(diff_cont[:20], axis=0),'k*-', lw=0.5, alpha=0.5, label='20 repetitions')\n",
    "ax.plot(np.arange(1, 41), np.mean(diff_cont[:30], axis=0),'ks-', lw=0.5, alpha=0.5, label='30 repetitions')\n",
    "ax.legend(loc=1)"
   ]
  },
  {
   "cell_type": "code",
   "execution_count": null,
   "metadata": {},
   "outputs": [],
   "source": []
  }
 ],
 "metadata": {
  "anaconda-cloud": {},
  "kernelspec": {
   "display_name": "Python 2",
   "language": "python",
   "name": "python2"
  },
  "language_info": {
   "codemirror_mode": {
    "name": "ipython",
    "version": 3
   },
   "file_extension": ".py",
   "mimetype": "text/x-python",
   "name": "python",
   "nbconvert_exporter": "python",
   "pygments_lexer": "ipython3",
   "version": "3.5.2"
  }
 },
 "nbformat": 4,
 "nbformat_minor": 2
}
