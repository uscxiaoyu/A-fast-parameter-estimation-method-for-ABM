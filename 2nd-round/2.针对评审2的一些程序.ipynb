{
 "cells": [
  {
   "cell_type": "code",
   "execution_count": 1,
   "metadata": {
    "collapsed": true
   },
   "outputs": [],
   "source": [
    "%matplotlib inline\n",
    "from __future__ import division\n",
    "import matplotlib.pyplot as plt\n",
    "import numpy as np\n",
    "import networkx as nx\n",
    "import time\n",
    "import random\n",
    "import multiprocessing"
   ]
  },
  {
   "cell_type": "markdown",
   "metadata": {},
   "source": [
    "## 1. 补充全连通图扩散"
   ]
  },
  {
   "cell_type": "code",
   "execution_count": 2,
   "metadata": {
    "collapsed": true
   },
   "outputs": [],
   "source": [
    "def diffuse(p, q, m, num_runs=24):  # 全联通扩散模拟\n",
    "    num_of_adopt = []\n",
    "    for j in xrange(num_runs):\n",
    "        dose = sum(num_of_adopt)  # 邻居数量\n",
    "        prob = p + q * dose\n",
    "        x = sum([ 1 for i in xrange(m - sum(num_of_adopt)) if random.random() <= prob ])\n",
    "        num_of_adopt.append(x)\n",
    "        \n",
    "    return num_of_adopt"
   ]
  },
  {
   "cell_type": "code",
   "execution_count": 21,
   "metadata": {
    "scrolled": true
   },
   "outputs": [
    {
     "name": "stdout",
     "output_type": "stream",
     "text": [
      "0.001 0.2\n",
      "0.001 0.221052631579\n",
      "0.001 0.242105263158\n",
      "0.001 0.263157894737\n",
      "0.001 0.284210526316\n",
      "0.001 0.305263157895\n",
      "0.001 0.326315789474\n",
      "0.001 0.347368421053\n",
      "0.001 0.368421052632\n",
      "0.001 0.389473684211\n",
      "0.001 0.410526315789\n",
      "0.001 0.431578947368\n",
      "0.001 0.452631578947\n",
      "0.001 0.473684210526\n",
      "0.001 0.494736842105\n",
      "0.001 0.515789473684\n",
      "0.001 0.536842105263\n",
      "0.001 0.557894736842\n",
      "0.001 0.578947368421\n",
      "0.001 0.6\n",
      "0.006 0.2\n",
      "0.006 0.221052631579\n",
      "0.006 0.242105263158\n",
      "0.006 0.263157894737\n",
      "0.006 0.284210526316\n",
      "0.006 0.305263157895\n",
      "0.006 0.326315789474\n",
      "0.006 0.347368421053\n",
      "0.006 0.368421052632\n",
      "0.006 0.389473684211\n",
      "0.006 0.410526315789\n",
      "0.006 0.431578947368\n",
      "0.006 0.452631578947\n",
      "0.006 0.473684210526\n",
      "0.006 0.494736842105\n",
      "0.006 0.515789473684\n",
      "0.006 0.536842105263\n",
      "0.006 0.557894736842\n",
      "0.006 0.578947368421\n",
      "0.006 0.6\n",
      "0.011 0.2\n",
      "0.011 0.221052631579\n",
      "0.011 0.242105263158\n",
      "0.011 0.263157894737\n",
      "0.011 0.284210526316\n",
      "0.011 0.305263157895\n",
      "0.011 0.326315789474\n",
      "0.011 0.347368421053\n",
      "0.011 0.368421052632\n",
      "0.011 0.389473684211\n",
      "0.011 0.410526315789\n",
      "0.011 0.431578947368\n",
      "0.011 0.452631578947\n",
      "0.011 0.473684210526\n",
      "0.011 0.494736842105\n",
      "0.011 0.515789473684\n",
      "0.011 0.536842105263\n",
      "0.011 0.557894736842\n",
      "0.011 0.578947368421\n",
      "0.011 0.6\n",
      "0.016 0.2\n",
      "0.016 0.221052631579\n",
      "0.016 0.242105263158\n",
      "0.016 0.263157894737\n",
      "0.016 0.284210526316\n",
      "0.016 0.305263157895\n",
      "0.016 0.326315789474\n",
      "0.016 0.347368421053\n",
      "0.016 0.368421052632\n",
      "0.016 0.389473684211\n",
      "0.016 0.410526315789\n",
      "0.016 0.431578947368\n",
      "0.016 0.452631578947\n",
      "0.016 0.473684210526\n",
      "0.016 0.494736842105\n",
      "0.016 0.515789473684\n",
      "0.016 0.536842105263\n",
      "0.016 0.557894736842\n",
      "0.016 0.578947368421\n",
      "0.016 0.6\n",
      "0.021 0.2\n",
      "0.021 0.221052631579\n",
      "0.021 0.242105263158\n",
      "0.021 0.263157894737\n",
      "0.021 0.284210526316\n",
      "0.021 0.305263157895\n",
      "0.021 0.326315789474\n",
      "0.021 0.347368421053\n",
      "0.021 0.368421052632\n",
      "0.021 0.389473684211\n",
      "0.021 0.410526315789\n",
      "0.021 0.431578947368\n",
      "0.021 0.452631578947\n",
      "0.021 0.473684210526\n",
      "0.021 0.494736842105\n",
      "0.021 0.515789473684\n",
      "0.021 0.536842105263\n",
      "0.021 0.557894736842\n",
      "0.021 0.578947368421\n",
      "0.021 0.6\n"
     ]
    }
   ],
   "source": [
    "pq_range = [(i, j) for i in np.linspace(0.001, 0.021, num=5) for j in np.linspace(0.2, 0.6, num=20)]\n",
    "result = []\n",
    "for p, q in pq_range:\n",
    "    t1 = time.clock()\n",
    "    diff_cont = []\n",
    "    for i in range(20):\n",
    "        diff = diffuse(p, q / 9999, 10000, num_runs=30)\n",
    "        diff_cont.append(diff)\n",
    "    \n",
    "    mean_diff = np.mean(diff_cont, axis=0)\n",
    "    result.append(np.concatenate(([p, q], mean_diff)))\n",
    "    print p, q\n",
    "\n",
    "np.save('complete_graph(10000)', result)"
   ]
  },
  {
   "cell_type": "code",
   "execution_count": 22,
   "metadata": {
    "collapsed": true
   },
   "outputs": [],
   "source": [
    "data = np.load('complete_graph(10000).npy')"
   ]
  },
  {
   "cell_type": "code",
   "execution_count": 29,
   "metadata": {},
   "outputs": [
    {
     "data": {
      "text/plain": [
       "[<matplotlib.lines.Line2D at 0xb6eeef0>]"
      ]
     },
     "execution_count": 29,
     "metadata": {},
     "output_type": "execute_result"
    },
    {
     "data": {
      "image/png": "[encoded data removed]",
      "text/plain": [
       "<matplotlib.figure.Figure at 0xb3a1978>"
      ]
     },
     "metadata": {},
     "output_type": "display_data"
    }
   ],
   "source": [
    "plt.plot(data[7][2:])"
   ]
  },
  {
   "cell_type": "markdown",
   "metadata": {},
   "source": [
    "### 数据分析"
   ]
  },
  {
   "cell_type": "code",
   "execution_count": 15,
   "metadata": {},
   "outputs": [],
   "source": [
    "import statsmodels.formula.api as smf\n",
    "import pandas as pd"
   ]
  },
  {
   "cell_type": "code",
   "execution_count": 16,
   "metadata": {},
   "outputs": [],
   "source": [
    "est_data = np.load('estimate complete_graph(10000).npy')"
   ]
  },
  {
   "cell_type": "code",
   "execution_count": 17,
   "metadata": {},
   "outputs": [
    {
     "data": {
      "text/plain": [
       "[(11297.401968845517, 526.60286347816327),\n",
       " (0.99847787175320912, 0.0083688201857886734)]"
      ]
     },
     "execution_count": 17,
     "metadata": {},
     "output_type": "execute_result"
    }
   ],
   "source": [
    "zip(np.mean(est_data[:, [4, 5]], axis=0),  np.std(est_data[:, [4, 5]], axis=0))"
   ]
  },
  {
   "cell_type": "code",
   "execution_count": 18,
   "metadata": {},
   "outputs": [],
   "source": [
    "pd_est = pd.DataFrame(est_data, columns=['p', 'q', 'P', 'Q', 'M', 'R2'])"
   ]
  },
  {
   "cell_type": "code",
   "execution_count": 19,
   "metadata": {},
   "outputs": [
    {
     "data": {
      "text/html": [
       "<div>\n",
       "<style scoped>\n",
       "    .dataframe tbody tr th:only-of-type {\n",
       "        vertical-align: middle;\n",
       "    }\n",
       "\n",
       "    .dataframe tbody tr th {\n",
       "        vertical-align: top;\n",
       "    }\n",
       "\n",
       "    .dataframe thead th {\n",
       "        text-align: right;\n",
       "    }\n",
       "</style>\n",
       "<table border=\"1\" class=\"dataframe\">\n",
       "  <thead>\n",
       "    <tr style=\"text-align: right;\">\n",
       "      <th></th>\n",
       "      <th>p</th>\n",
       "      <th>q</th>\n",
       "      <th>P</th>\n",
       "      <th>Q</th>\n",
       "      <th>M</th>\n",
       "      <th>R2</th>\n",
       "    </tr>\n",
       "  </thead>\n",
       "  <tbody>\n",
       "    <tr>\n",
       "      <th>0</th>\n",
       "      <td>0.001</td>\n",
       "      <td>0.200000</td>\n",
       "      <td>0.000831</td>\n",
       "      <td>0.184601</td>\n",
       "      <td>10848.972118</td>\n",
       "      <td>0.999745</td>\n",
       "    </tr>\n",
       "    <tr>\n",
       "      <th>1</th>\n",
       "      <td>0.001</td>\n",
       "      <td>0.221053</td>\n",
       "      <td>0.000785</td>\n",
       "      <td>0.203549</td>\n",
       "      <td>10751.598948</td>\n",
       "      <td>0.999845</td>\n",
       "    </tr>\n",
       "    <tr>\n",
       "      <th>2</th>\n",
       "      <td>0.001</td>\n",
       "      <td>0.242105</td>\n",
       "      <td>0.002732</td>\n",
       "      <td>0.144751</td>\n",
       "      <td>14206.047726</td>\n",
       "      <td>0.915970</td>\n",
       "    </tr>\n",
       "    <tr>\n",
       "      <th>3</th>\n",
       "      <td>0.001</td>\n",
       "      <td>0.263158</td>\n",
       "      <td>0.000812</td>\n",
       "      <td>0.233524</td>\n",
       "      <td>11323.387525</td>\n",
       "      <td>0.999775</td>\n",
       "    </tr>\n",
       "    <tr>\n",
       "      <th>4</th>\n",
       "      <td>0.001</td>\n",
       "      <td>0.284211</td>\n",
       "      <td>0.000837</td>\n",
       "      <td>0.241817</td>\n",
       "      <td>11787.853658</td>\n",
       "      <td>0.999265</td>\n",
       "    </tr>\n",
       "  </tbody>\n",
       "</table>\n",
       "</div>"
      ],
      "text/plain": [
       "       p         q         P         Q             M        R2\n",
       "0  0.001  0.200000  0.000831  0.184601  10848.972118  0.999745\n",
       "1  0.001  0.221053  0.000785  0.203549  10751.598948  0.999845\n",
       "2  0.001  0.242105  0.002732  0.144751  14206.047726  0.915970\n",
       "3  0.001  0.263158  0.000812  0.233524  11323.387525  0.999775\n",
       "4  0.001  0.284211  0.000837  0.241817  11787.853658  0.999265"
      ]
     },
     "execution_count": 19,
     "metadata": {},
     "output_type": "execute_result"
    }
   ],
   "source": [
    "pd_est.head()"
   ]
  },
  {
   "cell_type": "code",
   "execution_count": 20,
   "metadata": {},
   "outputs": [
    {
     "name": "stdout",
     "output_type": "stream",
     "text": [
      "1.37301419043 0.988544612042\n"
     ]
    }
   ],
   "source": [
    "results1 = smf.ols('p ~ P-1', data=pd_est).fit()\n",
    "a = results1.params['P']\n",
    "r2 = results1.rsquared\n",
    "print a, r2"
   ]
  },
  {
   "cell_type": "code",
   "execution_count": 21,
   "metadata": {},
   "outputs": [
    {
     "name": "stdout",
     "output_type": "stream",
     "text": [
      "1.13565068163 0.997900264734\n"
     ]
    }
   ],
   "source": [
    "results2 = smf.ols('q ~ Q - 1', data=pd_est).fit()\n",
    "a = results2.params['Q']\n",
    "r2 = results2.rsquared\n",
    "print a, r2"
   ]
  },
  {
   "cell_type": "markdown",
   "metadata": {},
   "source": [
    "## 2. 补充预测"
   ]
  },
  {
   "cell_type": "markdown",
   "metadata": {},
   "source": [
    "### 2.1 度分布异质性"
   ]
  },
  {
   "cell_type": "code",
   "execution_count": 39,
   "metadata": {
    "collapsed": true
   },
   "outputs": [],
   "source": [
    "u = \"C:\\\\Users\\\\XIAOYU\\\\Desktop\\\\data\\\\\"\n",
    "coeff_cont_gnm = np.load(u + \"2 degree heterogenous\\\\estimate gnm_random_graph(10000,30000).npy\")\n",
    "coeff_cont_ba =  np.load(u + \"2 degree heterogenous\\\\estimate barabasi_albert_graph(10000,3).npy\")\n",
    "coeff_cont_exp = np.load(u + \"2 degree heterogenous\\\\estimate exponential_graph(10000,3).npy\")\n",
    "coeff_cont_gua = np.load(u + \"2 degree heterogenous\\\\estimate gaussian_graph(10000,3).npy\")\n",
    "coeff_cont_log = np.load(u + \"2 degree heterogenous\\\\estimate lognormal_graph(10000,3).npy\")\n",
    "coeff_cont_ws0 =  np.load(u + \"3 small world\\\\estimate watts_strogatz_graph(10000,6,0).npy\")\n",
    "coeff_cont_ws01 = np.load(u + \"3 small world\\\\estimate watts_strogatz_graph(10000,6,0.1).npy\")\n",
    "coeff_cont_ws03 = np.load(u + \"3 small world\\\\estimate watts_strogatz_graph(10000,6,0.3).npy\")\n",
    "coeff_cont_ws05 = np.load(u + \"3 small world\\\\estimate watts_strogatz_graph(10000,6,0.5).npy\")\n",
    "coeff_cont_ws07 = np.load(u + \"3 small world\\\\estimate watts_strogatz_graph(10000,6,0.7).npy\")\n",
    "coeff_cont_ws09 = np.load(u + \"3 small world\\\\estimate watts_strogatz_graph(10000,6,0.9).npy\")\n",
    "coeff_cont_ws10 = np.load(u + \"3 small world\\\\estimate watts_strogatz_graph(10000,6,1).npy\")"
   ]
  },
  {
   "cell_type": "code",
   "execution_count": 60,
   "metadata": {
    "collapsed": true
   },
   "outputs": [],
   "source": [
    "d_cont = [coeff_cont_gnm, coeff_cont_ba, coeff_cont_exp, coeff_cont_gua,\n",
    "                   coeff_cont_log, coeff_cont_ws0, coeff_cont_ws01, coeff_cont_ws03,\n",
    "                   coeff_cont_ws05, coeff_cont_ws07, coeff_cont_ws09, coeff_cont_ws10]"
   ]
  },
  {
   "cell_type": "code",
   "execution_count": 61,
   "metadata": {},
   "outputs": [],
   "source": [
    "for i, dataset in enumerate(d_cont):\n",
    "    d_cont[i] = np.array([np.concatenate((x[0], x[1], x[2:])) for x in dataset], dtype=np.float)"
   ]
  },
  {
   "cell_type": "code",
   "execution_count": 62,
   "metadata": {},
   "outputs": [
    {
     "data": {
      "text/plain": [
       "array([  1.00000000e-03,   5.00000000e-02,   1.37543173e-03,\n",
       "         2.52742348e-01,   8.91400000e+03,   9.99713576e-01,\n",
       "         1.24048175e+01])"
      ]
     },
     "execution_count": 62,
     "metadata": {},
     "output_type": "execute_result"
    }
   ],
   "source": [
    "d_cont[0][0]"
   ]
  },
  {
   "cell_type": "code",
   "execution_count": null,
   "metadata": {
    "collapsed": true
   },
   "outputs": [],
   "source": [
    "def "
   ]
  },
  {
   "cell_type": "markdown",
   "metadata": {},
   "source": [
    "## 3. 为什么使用10次重复"
   ]
  },
  {
   "cell_type": "code",
   "execution_count": 1,
   "metadata": {},
   "outputs": [],
   "source": [
    "%matplotlib inline\n",
    "from __future__ import division\n",
    "import numpy as np\n",
    "import networkx as nx\n",
    "import time\n",
    "import random\n",
    "\n",
    "\n",
    "class Diffuse:  # 默认网络结构为节点数量为10000，边为30000的随机网络\n",
    "    def __init__(self, p, q, g=nx.gnm_random_graph(10000, 30000), num_runs=30):\n",
    "        if not nx.is_directed(g):\n",
    "            self.g = g.to_directed()\n",
    "        self.p, self.q = p, q\n",
    "        self.num_runs = num_runs\n",
    "\n",
    "    def decision(self, i):  # 线性决策规则\n",
    "        dose = sum([self.g.node[k]['state'] for k in self.g.predecessors(i)])\n",
    "        prob = self.p + self.q * dose\n",
    "        return True if random.random() <= prob else False\n",
    "\n",
    "    def single_diffuse(self):  # 单次扩散\n",
    "        for i in self.g:\n",
    "            self.g.node[i]['state'] = False\n",
    "\n",
    "        non_adopt_set = [i for i in self.g if not self.g.node[i]['state']]\n",
    "        num_of_adopt = []\n",
    "        for j in range(self.num_runs):\n",
    "            x = 0\n",
    "            random.shuffle(non_adopt_set)\n",
    "            for i in non_adopt_set:\n",
    "                if self.decision(i):\n",
    "                    self.g.node[i]['state'] = True\n",
    "                    non_adopt_set.remove(i)\n",
    "                    x += 1\n",
    "            num_of_adopt.append(x)\n",
    "        return num_of_adopt\n",
    "\n",
    "    def repete_diffuse(self, repetes=10):  # 多次扩散\n",
    "        return [self.single_diffuse() for i in range(repetes)]"
   ]
  },
  {
   "cell_type": "code",
   "execution_count": 3,
   "metadata": {},
   "outputs": [],
   "source": [
    "diffuse = Diffuse(p=0.001, q=0.08, num_runs=40)"
   ]
  },
  {
   "cell_type": "code",
   "execution_count": 4,
   "metadata": {},
   "outputs": [
    {
     "name": "stdout",
     "output_type": "stream",
     "text": [
      "Time: 110.78 s\n"
     ]
    }
   ],
   "source": [
    "t1 = time.clock()\n",
    "diff_cont = diffuse.repete_diffuse(repetes=40)\n",
    "print('Time: %.2f s' % (time.clock() - t1))"
   ]
  },
  {
   "cell_type": "code",
   "execution_count": 24,
   "metadata": {},
   "outputs": [
    {
     "data": {
      "text/plain": [
       "<matplotlib.legend.Legend at 0x1a190d1d10>"
      ]
     },
     "execution_count": 24,
     "metadata": {},
     "output_type": "execute_result"
    },
    {
     "data": {
      "image/png": "[encoded data removed]",
      "text/plain": [
       "<matplotlib.figure.Figure at 0x1a18c91a10>"
      ]
     },
     "metadata": {},
     "output_type": "display_data"
    }
   ],
   "source": [
    "import matplotlib.pyplot as pl\n",
    "\n",
    "fig = pl.figure(figsize=(10, 5))\n",
    "ax = fig.add_subplot(1, 1, 1)\n",
    "ax.set_xlabel('Step', fontsize=15)\n",
    "ax.set_ylabel('Number of adopters', fontsize=15)\n",
    "ax.set_xlim([1, 40])\n",
    "ax.plot(np.arange(1, 41), np.mean(diff_cont[:10], axis=0),'ko-', lw=0.5, alpha=0.5, label='10 repetitions')\n",
    "ax.plot(np.arange(1, 41), np.mean(diff_cont[:20], axis=0),'k*-', lw=0.5, alpha=0.5, label='20 repetitions')\n",
    "ax.plot(np.arange(1, 41), np.mean(diff_cont[:30], axis=0),'ks-', lw=0.5, alpha=0.5, label='30 repetitions')\n",
    "ax.legend(loc=1)"
   ]
  },
  {
   "cell_type": "code",
   "execution_count": null,
   "metadata": {},
   "outputs": [],
   "source": []
  }
 ],
 "metadata": {
  "anaconda-cloud": {},
  "kernelspec": {
   "display_name": "Python [default]",
   "language": "python",
   "name": "python2"
  },
  "language_info": {
   "codemirror_mode": {
    "name": "ipython",
    "version": 2
   },
   "file_extension": ".py",
   "mimetype": "text/x-python",
   "name": "python",
   "nbconvert_exporter": "python",
   "pygments_lexer": "ipython2",
   "version": "2.7.11"
  }
 },
 "nbformat": 4,
 "nbformat_minor": 2
}
