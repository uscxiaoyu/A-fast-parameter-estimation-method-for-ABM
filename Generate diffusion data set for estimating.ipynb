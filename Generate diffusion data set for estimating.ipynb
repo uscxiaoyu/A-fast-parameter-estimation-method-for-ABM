{
 "cells": [
  {
   "cell_type": "code",
   "execution_count": 1,
   "metadata": {
    "collapsed": true
   },
   "outputs": [],
   "source": [
    "import numpy as np\n",
    "import networkx as nx\n",
    "import time\n",
    "import random\n",
    "from copy import deepcopy as dc"
   ]
  },
  {
   "cell_type": "code",
   "execution_count": 3,
   "metadata": {
    "collapsed": true
   },
   "outputs": [],
   "source": [
    "def generate_random_graph(degre_sequance):\n",
    "    G = nx.configuration_model(degre_sequance,create_using=None, seed=None)\n",
    "    G = nx.Graph(G)\n",
    "    G.remove_edges_from(G.selfloop_edges())\n",
    "\n",
    "    num_of_edges = nx.number_of_edges(G)\n",
    "    edges_list = G.edges()\n",
    "\n",
    "    if num_of_edges > 30000:\n",
    "        edges_to_drop = num_of_edges - 30000\n",
    "        x = np.random.choice(num_of_edges,edges_to_drop,replace=False)\n",
    "        for i in x:\n",
    "            a,b = edges_list[i]\n",
    "            G.remove_edge(a,b)\n",
    "    elif num_of_edges < 30000:\n",
    "        edges_to_add = 30000 - num_of_edges\n",
    "        x = np.random.choice(10000,edges_to_add*2,replace=False)\n",
    "        to_add_list = zip(x[:edges_to_add],x[edges_to_add:])\n",
    "        G.add_edges_from(to_add_list)\n",
    "    else:\n",
    "        pass\n",
    "    \n",
    "    return G"
   ]
  },
  {
   "cell_type": "code",
   "execution_count": 2,
   "metadata": {
    "collapsed": true
   },
   "outputs": [],
   "source": [
    "class Diffuse: #默认网络结构为节点数量为10000，边为60000的单向随机网络\n",
    "    repetes = 10 #默认多次扩散重复次数\n",
    "    def __init__(self,p,q,num_runs,G=nx.gnm_random_graph(10000,30000)):\n",
    "        self.p = p\n",
    "        self.q = q\n",
    "        self.G = G.to_directed()\n",
    "        self.num_runs = num_runs\n",
    "        \n",
    "    def decision(self,i): #个体状态决策规则\n",
    "        influ = len([k for k in self.DG[i].get('prede',[]) if self.DG[k]['state'] == 1])           \n",
    "        prob = self.p + self.q*influ\n",
    "        if random.random() <= prob:\n",
    "            return True\n",
    "        else:\n",
    "            return False\n",
    "        \n",
    "    def single_diffuse(self): #单次扩散\n",
    "        self.DG = dc(self.G) #取网络的深层copy，以使原网络不被“污染” \n",
    "        for i in self.DG.nodes():\n",
    "            self.DG[i]['prede'] = self.DG.predecessors(i)\n",
    "            self.DG[i]['state'] = 0\n",
    "        non_adopt_set = [i for i in self.DG.nodes() if self.DG[i]['state'] == 0]\n",
    "        num_of_adopt = []\n",
    "        j = 1\n",
    "        while j <= self.num_runs:                                 \n",
    "            x = 0\n",
    "            random.shuffle(non_adopt_set)\n",
    "            for i in non_adopt_set:                   \n",
    "                if self.decision(i):\n",
    "                    self.DG[i]['state'] = 1\n",
    "                    non_adopt_set.remove(i)\n",
    "                    x = x+1\n",
    "            num_of_adopt.append(x)\n",
    "            j = j+1\n",
    "        return num_of_adopt\n",
    "    \n",
    "    def repete_diffuse(self): #多次扩散\n",
    "        adopt_cont = []\n",
    "        for i in range(self.repetes):\n",
    "            num_of_adopt = self.single_diffuse()\n",
    "            adopt_cont.append(num_of_adopt)\n",
    "        return adopt_cont"
   ]
  },
  {
   "cell_type": "code",
   "execution_count": null,
   "metadata": {
    "collapsed": true
   },
   "outputs": [],
   "source": []
  },
  {
   "cell_type": "code",
   "execution_count": 8,
   "metadata": {
    "collapsed": true
   },
   "outputs": [],
   "source": [
    "text_set = ['ws0','ws0.1','ws0.3','ws0.5','ws0.7','ws0.9']"
   ]
  },
  {
   "cell_type": "code",
   "execution_count": 9,
   "metadata": {
    "collapsed": true
   },
   "outputs": [],
   "source": [
    "n = 10000\n",
    "k = 3\n",
    "nwk_cont = [nx.watts_strogatz_graph(10000,6,p=0),nx.watts_strogatz_graph(10000,6,p=0.1),nx.watts_strogatz_graph(10000,6,p=0.3),\n",
    "                         nx.watts_strogatz_graph(10000,6,p=0.5),nx.watts_strogatz_graph(10000,6,p=0.7),nx.watts_strogatz_graph(10000,6,p=0.9)]"
   ]
  },
  {
   "cell_type": "code",
   "execution_count": 10,
   "metadata": {
    "collapsed": true
   },
   "outputs": [],
   "source": [
    "pq_range = [(i,j) for i in np.arange(0.0005,0.0255,0.001) for j in np.arange(0.02,0.2,0.003)] #25*60=1500"
   ]
  },
  {
   "cell_type": "code",
   "execution_count": 11,
   "metadata": {},
   "outputs": [
    {
     "name": "stdout",
     "output_type": "stream",
     "text": [
      "------------------ws0------------------\n",
      "ws0 100 runs: 1383.4213828 s\n",
      "ws0 400 runs: 4077.89347918 s\n",
      "ws0 800 runs: 5070.15732564 s\n",
      "ws0 1200 runs: 4802.10860721 s\n",
      "ws0 1400 runs: 2311.33291556 s\n",
      "------------------ws0.1------------------\n",
      "ws0.1 100 runs: 1538.47387942 s\n",
      "ws0.1 400 runs: 3991.52070191 s\n",
      "ws0.1 800 runs: 4929.06047409 s\n",
      "ws0.1 1200 runs: 4678.10498725 s\n",
      "ws0.1 1400 runs: 2267.91892179 s\n",
      "------------------ws0.3------------------\n",
      "ws0.3 100 runs: 1356.43021102 s\n",
      "ws0.3 400 runs: 3789.88494974 s\n",
      "ws0.3 800 runs: 4778.19494814 s\n",
      "ws0.3 1200 runs: 4620.96230793 s\n",
      "ws0.3 1400 runs: 2246.25365574 s\n",
      "------------------ws0.5------------------\n",
      "ws0.5 100 runs: 1375.17276569 s\n",
      "ws0.5 400 runs: 3767.88188945 s\n",
      "ws0.5 800 runs: 4750.23177093 s\n",
      "ws0.5 1200 runs: 4609.2115631 s\n",
      "ws0.5 1400 runs: 2243.50921083 s\n",
      "------------------ws0.7------------------\n",
      "ws0.7 100 runs: 1342.79173298 s\n",
      "ws0.7 400 runs: 3756.28759299 s\n",
      "ws0.7 800 runs: 4749.53405985 s\n",
      "ws0.7 1200 runs: 4613.79018287 s\n",
      "ws0.7 1400 runs: 2246.36635161 s\n",
      "------------------ws0.9------------------\n",
      "ws0.9 100 runs: 1344.73003722 s\n",
      "ws0.9 400 runs: 3758.3453358 s\n",
      "ws0.9 800 runs: 4756.12725837 s\n",
      "ws0.9 1200 runs: 4620.57125955 s\n",
      "ws0.9 1400 runs: 2326.07845641 s\n"
     ]
    }
   ],
   "source": [
    "for u in range(6):\n",
    "    G = nwk_cont[u]\n",
    "    time1 = time.clock()\n",
    "    print '------------------%s------------------'%text_set[u]\n",
    "    diff_cont = []\n",
    "    k = 1\n",
    "    for p,q in pq_range:\n",
    "        diff = Diffuse(p,q,25,G)\n",
    "        temp = diff.repete_diffuse()\n",
    "        x = np.mean(temp,axis=0)\n",
    "        x = np.insert(x,0,[p,q])\n",
    "        diff_cont.append(x)\n",
    "        k = k+1\n",
    "        if k in [100,400,800,1200,1400]:\n",
    "            print '%s'%text_set[u],k,'runs:',time.clock()-time1,'s'\n",
    "            time1 = time.clock()\n",
    "\n",
    "    to_write = np.array(diff_cont)\n",
    "    np.save(\"diffusion data set for %s\"%text_set[u],to_write)"
   ]
  },
  {
   "cell_type": "code",
   "execution_count": null,
   "metadata": {
    "collapsed": true
   },
   "outputs": [],
   "source": [
    "text_set = ['er','ba','exp','gau','lognorm','ws0','ws0.1','ws0.3','ws0.5','ws0.7','ws0.9','sigma-0.1','sigma-0.2','sigma-0.4','sigma-0.6','sigma-0.8','sigma-1','sigma-1.2']"
   ]
  }
 ],
 "metadata": {
  "anaconda-cloud": {},
  "kernelspec": {
   "display_name": "Python 2",
   "language": "python",
   "name": "python2"
  },
  "language_info": {
   "codemirror_mode": {
    "name": "ipython",
    "version": 2
   },
   "file_extension": ".py",
   "mimetype": "text/x-python",
   "name": "python",
   "nbconvert_exporter": "python",
   "pygments_lexer": "ipython2",
   "version": "2.7.14"
  }
 },
 "nbformat": 4,
 "nbformat_minor": 1
}
