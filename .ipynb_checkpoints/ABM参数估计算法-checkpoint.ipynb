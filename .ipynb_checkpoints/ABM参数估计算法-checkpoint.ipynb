{
 "cells": [
  {
   "cell_type": "code",
   "execution_count": 1,
   "metadata": {
    "collapsed": false
   },
   "outputs": [
    {
     "name": "stderr",
     "output_type": "stream",
     "text": [
      "/Users/xiaoyu/Library/Enthought/Canopy_64bit/User/lib/python2.7/site-packages/matplotlib/font_manager.py:273: UserWarning: Matplotlib is building the font cache using fc-list. This may take a moment.\n",
      "  warnings.warn('Matplotlib is building the font cache using fc-list. This may take a moment.')\n"
     ]
    },
    {
     "name": "stdout",
     "output_type": "stream",
     "text": [
      "Populating the interactive namespace from numpy and matplotlib\n"
     ]
    }
   ],
   "source": [
    "%pylab inline\n",
    "from __future__ import division\n",
    "import pylab as pl\n",
    "from scipy.optimize import minimize\n",
    "from copy import deepcopy as dc\n",
    "import random\n",
    "import statsmodels.formula.api as smf\n",
    "import statsmodels.api as sm\n",
    "import networkx as nx"
   ]
  },
  {
   "cell_type": "markdown",
   "metadata": {},
   "source": [
    "### 类Diffuse，扩散类，定义网络G，节点决策方法decision，单次扩散方法single_diffuse，多次扩散方法repete_diffuse"
   ]
  },
  {
   "cell_type": "code",
   "execution_count": 10,
   "metadata": {
    "collapsed": true
   },
   "outputs": [],
   "source": [
    "class Diffuse: #默认网络结构为节点数量为10000，边为60000的单向随机网络\n",
    "    G = nx.gnm_random_graph(10000,30000).to_directed()\n",
    "    seeds = []\n",
    "    repetes = 10 #默认多次扩散重复次数\n",
    "\n",
    "    def __init__(self,p,q,num_runs):\n",
    "        self.p = p\n",
    "        self.q = q\n",
    "        self.num_runs = num_runs\n",
    "        \n",
    "    def decision(self,i): #个体状态决策规则\n",
    "        influ = len([k for k in self.DG[i].get('prede',[]) if self.DG[k]['state'] == 1])           \n",
    "        prob = self.p + self.q*influ\n",
    "        if random.random() <= prob:\n",
    "            return True\n",
    "        else:\n",
    "            return False\n",
    "        \n",
    "    def single_diffuse(self): #单次扩散\n",
    "        self.DG = dc(self.G) #取网络的深层copy，以使原网络不被“污染” \n",
    "        for i in self.DG.nodes():\n",
    "            self.DG[i]['prede'] = self.DG.predecessors(i)\n",
    "            if i in self.seeds:\n",
    "                self.DG[i]['state'] = 1\n",
    "            else:\n",
    "                self.DG[i]['state'] = 0\n",
    "\n",
    "        non_adopt_set = [i for i in self.DG.nodes() if self.DG[i]['state'] == 0]\n",
    "        num_of_adopt = [len(self.seeds)]\n",
    "\n",
    "        j = 1\n",
    "        while j <= self.num_runs:                                 \n",
    "            x = 0\n",
    "            random.shuffle(non_adopt_set)\n",
    "            for i in non_adopt_set:                   \n",
    "                if self.decision(i):\n",
    "                    self.DG[i]['state'] = 1\n",
    "                    non_adopt_set.remove(i)\n",
    "                    x = x+1\n",
    "            num_of_adopt.append(x)\n",
    "            j = j+1\n",
    "\n",
    "        return num_of_adopt\n",
    "    \n",
    "    def repete_diffuse(self): #多次扩散\n",
    "        adopt_cont = []\n",
    "        for i in range(self.repetes):\n",
    "            num_of_adopt = self.single_diffuse()\n",
    "            adopt_cont.append(num_of_adopt)\n",
    "        return adopt_cont"
   ]
  },
  {
   "cell_type": "markdown",
   "metadata": {},
   "source": [
    "### 类Random_Grid_Search，SABM参数估计类，定义参数估计方法optima_search"
   ]
  },
  {
   "cell_type": "code",
   "execution_count": 5,
   "metadata": {
    "collapsed": false
   },
   "outputs": [],
   "source": [
    "class Random_Grid_Search:\n",
    "    t_n = 500 #抽样量\n",
    "    c_n = 50 #保留参数量\n",
    "    threshold = 1e-6 #循环停止阈值\n",
    "    orig_points = [] #初始化边界点\n",
    "    def __init__(self,s): #初始化实例参数\n",
    "        self.s = np.array(s)  #待拟合曲线\n",
    "        self.s_len = len(s)\n",
    "        self.para_range = [[1e-6,0.1],[1e-3,1],[sum(s),4*sum(s)]]  #参数范围\n",
    "        self.p_range = [[1e-6,0.1],[1e-3,1],[sum(s),4*sum(s)]]  #用于产生边界节点的参数范围 \n",
    "    \n",
    "    def gener_orig(self): #递归产生边界点\n",
    "        if len(self.p_range) == 0:\n",
    "            return\n",
    "        else:  \n",
    "            pa = self.p_range[-1]\n",
    "            if self.orig_points == []:\n",
    "                self.orig_points = [[pa[0]],[pa[1]]]  #初始化,排除orig_points为空的情形\n",
    "            else:\n",
    "                self.orig_points = [[pa[0]]+x for x in self.orig_points]+[[pa[1]]+x for x in self.orig_points]  #二分裂\n",
    "            self.p_range.pop()\n",
    "            return self.genera_orig()\n",
    "    \n",
    "    def sample(self,c_range): #抽样参数点\n",
    "        p_list = []\n",
    "        for pa in c_range:\n",
    "            if isinstance(pa[0],float):\n",
    "                x = (pa[1]-pa[0])*np.random.random(self.t_n) + pa[0]\n",
    "            else:\n",
    "                x = np.random.randint(low=pa[0],high=pa[1]+1,size=self.t_n)\n",
    "            p_list.append(x)\n",
    "\n",
    "        p_list = np.array(p_list).T\n",
    "        return p_list.tolist()\n",
    "    \n",
    "    def f(self,params): #扩散函数\n",
    "        diffu_cont = np.zeros(self.s_len)\n",
    "        t_list = np.arange(1,self.s_len+1)\n",
    "        a = np.array([1 - np.exp(-(params[0]+params[1])*t) for t in t_list])\n",
    "        b = np.array([1 + params[1]/params[0]*np.exp(-(params[0]+params[1])*t) for t in t_list])\n",
    "        diffu_cont = params[2]*a/b\n",
    "\n",
    "        adopt_cont = np.zeros_like(diffu_cont)\n",
    "        adopt_cont[0] = diffu_cont[0]\n",
    "        for t in xrange(1,self.s_len):\n",
    "            adopt_cont[t] = diffu_cont[t] - diffu_cont[t-1]\n",
    "\n",
    "        return adopt_cont\n",
    "\n",
    "    def mse(self,params):  #定义适应度函数（mse）\n",
    "        a = self.f(params)\n",
    "        tse = np.square(self.s-a)\n",
    "        return np.mean(tse) #均方误\n",
    "    \n",
    "    def optima_search(self):\n",
    "        self.gener_orig()\n",
    "        c_range = dc(self.para_range)\n",
    "        samp = self.sample(c_range)\n",
    "        solution = sorted([self.mse(x)]+x for x in samp+self.orig_points)[:self.c_n]\n",
    "        while 1:\n",
    "            params_min = np.min(np.array(solution),0) #最小值\n",
    "            params_max = np.max(np.array(solution),0) #最大值\n",
    "            c_range = [[params_min[j+1],params_max[j+1]] for j in range(len(c_range))] #重新定界\n",
    "            samp = self.sample(c_range)\n",
    "            solution = sorted([[self.mse(x)]+x for x in samp]+solution)[:self.c_n]\n",
    "            r = sorted([x[0] for x in solution])\n",
    "            v = (r[-1]-r[0])/r[0]\n",
    "            if v < self.threshold:        \n",
    "                break\n",
    "\n",
    "        return solution[0]  #sse,p,q,m"
   ]
  },
  {
   "cell_type": "markdown",
   "metadata": {},
   "source": [
    "### 类ABM_Estimate，多智能体模型参数估计方法"
   ]
  },
  {
   "cell_type": "code",
   "execution_count": 6,
   "metadata": {
    "collapsed": true
   },
   "outputs": [],
   "source": [
    "class ABM_Estimate(Diffuse):\n",
    "    intv_p = 0.001\n",
    "    intv_q = 0.005\n",
    "    num_conds = 2 #构建网格的节点个数\n",
    "    k = 3\n",
    "    def __ini__(self,p,q,s):\n",
    "        Diffuse.__init__(self,p,q,len(s))\n",
    "        self.s = s\n",
    "        self.s_len = len(s)\n",
    "        \n",
    "    def Mse(self,M,x):  #目标函数,区别于Random_Grid_Search中的mse\n",
    "        tse = sum([(self.s[i]-x[i]*M)**2 for i in range(self.s_len)])\n",
    "        return tse/self.s_len\n",
    "    \n",
    "    def r2(self,f_act):\n",
    "        f_act = np.array(f_act)\n",
    "        tse = np.sum(np.square(self.s-f_act))\n",
    "        mean_y = np.mean(self.s)\n",
    "        ssl = np.sum(np.square(self.s-mean_y))\n",
    "        R_2 = (ssl-tse)/ssl\n",
    "        return R_2\n",
    "    \n",
    "    def get_M(self,p,q):  #获取对应扩散率曲线的最优潜在市场容量\n",
    "        m0 = 10000\n",
    "        self.p,self.q = p,q\n",
    "        s_estim = np.array(self.repete_diffuse())\n",
    "        x = np.mean(s_estim,axis=0)\n",
    "        a = np.sum(np.square(x))\n",
    "        b = -2*np.sum(x*self.s)\n",
    "        c = np.sum(np.square(self.s))\n",
    "        M_sse,s_M = (4*a*c-b**2)/4*a*len(s1),-b/2*a\n",
    "        return M_sse,p,q,s_M,x\n",
    "    \n",
    "    def gener_p0_q0(self): # 生成初始搜索点(p0,q0)\n",
    "        rgs = Random_Grid_Search(self.s)\n",
    "        P0,Q0 = rgs.optima_search()[1:3] #SABM最优点（P0,Q0）\n",
    "        p_range = np.linspace(0.4*P0,P0,num=3)\n",
    "        q_range = np.linspace(0.2*Q0/self.k,0.6*Q0/self.k,num=3)\n",
    "        to_fit = {}    \n",
    "        params_cont = []\n",
    "        for self.p in p_range:\n",
    "            for self.q in q_range:\n",
    "                s_estim = np.array(self.repete_diffuse())\n",
    "                s_estim_avr = np.mean(s_estim,axis=0)\n",
    "                rgs_1 = Random_Grid_Search(s_estim_avr)\n",
    "                P,Q = rgs_1.optima_search()[1:3]\n",
    "                params_cont.append([[self.p,self.q],[P,Q]])\n",
    "        \n",
    "        to_fit['p'] = [x[0][0] for x in params_cont]\n",
    "        to_fit['q'] = [x[0][1] for x in params_cont]\n",
    "        to_fit['P'] = [x[1][0] for x in params_cont]\n",
    "        to_fit['Q'] = [x[1][1] for x in params_cont]\n",
    "        to_fit = pd.DataFrame(to_fit)\n",
    "\n",
    "        result_p = smf.ols('p~P+Q-1',data=to_fit).fit()\n",
    "        result_q = smf.ols('q~P+Q-1',data=to_fit).fit()\n",
    "\n",
    "        self.p0 = result_p.params['P']*P0 + result_p.params['Q']*Q0\n",
    "        self.q0 = result_q.params['P']*P0 + result_q.params['Q']*Q0\n",
    "        return\n",
    "    \n",
    "    def solution_search(self): #寻找最优解--第一阶段（粗选）\n",
    "        self.gener_p0_q0() #生成初始节点\n",
    "        solution_cont = []\n",
    "        diff_cont = []\n",
    "        pq_cont = []\n",
    "        \n",
    "        for p in (self.p0-self.intv_p, self.p0, self.p0+self.intv_p):\n",
    "            for q in (self.q0-self.intv_q, self.q0, self.q0+self.intv_q):\n",
    "                pq_cont.append((p,q))\n",
    "                solution = self.get_M(p,q)\n",
    "                solution_cont.append(solution[:4])\n",
    "                diff_cont.append(solution[4])\n",
    "\n",
    "        best_solution = sorted(solution_cont)[:self.num_conds] \n",
    "        while 1:\n",
    "            pq_cont2 = []\n",
    "            solution_cont2 = []\n",
    "            diff_cont2 = []\n",
    "            \n",
    "            for z in best_solution:\n",
    "                temp = [(z[1]-intv_p,z[2]-intv_q),(z[1],z[2]-intv_q),(z[1]+intv_p,z[2]-intv_q),\n",
    "                        (z[1]-intv_p,z[2]),       (z[1],z[2]),       (z[1]+intv_p,z[2]),\n",
    "                        (z[1]-intv_p,z[2]+intv_q),(z[1],z[2]+intv_q),(z[1]+intv_p,z[2]+intv_q)]\n",
    "                pq_cont2.extend(temp)\n",
    "            pq_cont2 = list(set(pq_cont2+pq_cont))\n",
    "            \n",
    "            for y in pq_cont2:\n",
    "                if y in pq_cont:\n",
    "                    solution_cont2.append(solution_cont[pq_cont.index(y)])\n",
    "                    diff_cont2.append(diff_cont[pq_cont.index(y)])\n",
    "                else:\n",
    "                    time1 = time.clock()\n",
    "                    solution = self.get_M(y[1],y[2])\n",
    "                    solution_cont2.append(solution[:4])\n",
    "                    diff_cont2.append(solution[4])\n",
    "\n",
    "            best_solution = sorted(solution_cont2)[:num_conds]\n",
    "            opt_solution = best_solution[0]\n",
    "            opt_curve = diff_cont2[solution_cont2.index(opt_solution)]\n",
    "\n",
    "            if len(pq_cont2) == len(pq_cont):\n",
    "                break\n",
    "            else:\n",
    "                solution_cont = solution_cont2\n",
    "                diff_cont = diff_cont2\n",
    "                pq_cont = pq_cont2\n",
    "\n",
    "        f_act = opt_solution[-1]*opt_curve\n",
    "        R2 = r2(self,f_act)\n",
    "        search_times = len(pq_cont)\n",
    "        return opt_solution[1:],f_act,R2,search_times,pq_cont"
   ]
  },
  {
   "cell_type": "code",
   "execution_count": 20,
   "metadata": {
    "collapsed": true
   },
   "outputs": [],
   "source": [
    "diffuse = Diffuse(0.001,0.1,25)\n",
    "diffuse.G = nx.gnm_random_graph(5000,15000).to_directed()"
   ]
  },
  {
   "cell_type": "code",
   "execution_count": 21,
   "metadata": {
    "collapsed": false
   },
   "outputs": [
    {
     "name": "stdout",
     "output_type": "stream",
     "text": [
      "11.111024 s\n"
     ]
    }
   ],
   "source": [
    "import time\n",
    "t1 = time.clock()\n",
    "a = diffuse.repete_diffuse()\n",
    "print time.clock()-t1,'s'"
   ]
  },
  {
   "cell_type": "code",
   "execution_count": 22,
   "metadata": {
    "collapsed": false
   },
   "outputs": [
    {
     "data": {
      "text/plain": [
       "[<matplotlib.lines.Line2D at 0x113449490>]"
      ]
     },
     "execution_count": 22,
     "metadata": {},
     "output_type": "execute_result"
    },
    {
     "data": {
      "image/png": "[encoded data removed]",
      "text/plain": [
       "<matplotlib.figure.Figure at 0x116a4b310>"
      ]
     },
     "metadata": {},
     "output_type": "display_data"
    }
   ],
   "source": [
    "pl.plot(np.mean(a,axis=0),'ro-')"
   ]
  },
  {
   "cell_type": "code",
   "execution_count": null,
   "metadata": {
    "collapsed": true
   },
   "outputs": [],
   "source": [
    "if __name__ == 'main':\n",
    "    # 经典扩散数据集\n",
    "    data_set = {'room air conditioners':(np.arange(1949,1962),[96,195,238,380,1045,1230,1267,1828,1586,1673,1800,1580,1500]),\n",
    "                'color televisions':(np.arange(1963,1971),[747,1480,2646,5118,5777,5982,5962,4631]),\n",
    "                'clothers dryers':(np.arange(1949,1962),[106,319,492,635,737,890,1397,1523,1294,1240,1425,1260,1236]),\n",
    "                'ultrasound':(np.arange(1965,1979),[5,3,2,5,7,12,6,16,16,28,28,21,13,6]),\n",
    "                'mammography':(np.arange(1965,1979),[2,2,2,3,4,9,7,16,23,24,15,6,5,1]),\n",
    "                'foreign language':(np.arange(1952,1964),[1.25,0.77,0.86,0.48,1.34,3.56,3.36,6.24,5.95,6.24,4.89,0.25]),\n",
    "                'accelerated program':(np.arange(1952,1964),[0.67,0.48,2.11,0.29,2.59,2.21,16.80,11.04,14.40,6.43,6.15,1.15])}\n",
    "\n",
    "    china_set = {'color televisions':(np.arange(1997,2013),[2.6,1.2,2.11,3.79,3.6,7.33,7.18,5.29,8.42,5.68,6.57,5.49,6.48,5.42,10.72,5.15]),\n",
    "                 'mobile phones':(np.arange(1997,2013),[1.7,1.6,3.84,12.36,14.5,28.89,27.18,21.33,25.6,15.88,12.3,6.84,9.02,7.82,16.39,7.39]),\n",
    "                 'computers':(np.arange(1997,2013),[2.6,1.2,2.11,3.79,3.6,7.33,7.18,5.29,8.42,5.68,6.57,5.49,6.48,5.42,10.72,5.15]),\n",
    "                 'conditioners':(np.arange(1992,2013),[1.19,1.14,2.67,3.09,3.52,4.68,3.71,4.48,6.32,5.0,15.3,10.69,8.01,10.87,7.12,7.29,5.2,6.56,5.23,9.93,4.81]),\n",
    "                 'water heaters':(np.arange(1988,2013),[28.07,8.4,5.86,6.37,3.9,4.08,5.42,4.12,3.45,3.31,3.12,1.64,2.36,1.8,5.48,1.35,1.47,0.52,1.03,3.28,-1.4,1.72,1.26,0.62,1.25])\n",
    "                 }\n",
    "\n",
    "    # 统计推断（暴力仿真方法）\n",
    "    s_act = data_set['clothers dryers'][1]\n",
    "    n = 10000\n",
    "    k = 3\n",
    "    intv_p = 0.001\n",
    "    intv_q = 0.005\n",
    "    rpt_times = 8\n",
    "    nwk = nx.gnm_random_graph(n,n*k)\n",
    "    estimates_cont,curve_cont,R2_cont,search_times,pq_range,D_matrix = Refined_ABM_estimate(s_act,intv_p,intv_q,nwk,k,cf=2)"
   ]
  }
 ],
 "metadata": {
  "anaconda-cloud": {},
  "kernelspec": {
   "display_name": "Python 2",
   "language": "python",
   "name": "python2"
  },
  "language_info": {
   "codemirror_mode": {
    "name": "ipython",
    "version": 2
   },
   "file_extension": ".py",
   "mimetype": "text/x-python",
   "name": "python",
   "nbconvert_exporter": "python",
   "pygments_lexer": "ipython2",
   "version": "2.7.10"
  }
 },
 "nbformat": 4,
 "nbformat_minor": 0
}
