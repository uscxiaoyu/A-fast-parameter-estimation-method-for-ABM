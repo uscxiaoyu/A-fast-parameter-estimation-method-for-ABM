{
 "cells": [
  {
   "cell_type": "code",
   "execution_count": 1,
   "metadata": {
    "collapsed": true
   },
   "outputs": [],
   "source": [
    "import numpy as np\n",
    "import networkx as nx\n",
    "import time\n",
    "import random\n",
    "from copy import deepcopy as dc"
   ]
  },
  {
   "cell_type": "code",
   "execution_count": 2,
   "metadata": {
    "collapsed": true
   },
   "outputs": [],
   "source": [
    "class Diffuse: #默认网络结构为节点数量为10000，边为60000的单向随机网络\n",
    "    repetes = 10 #默认多次扩散重复次数\n",
    "    def __init__(self,p,q,num_runs,G=nx.gnm_random_graph(10000,30000)):\n",
    "        self.p = p\n",
    "        self.q = q\n",
    "        self.G = G.to_directed()\n",
    "        self.num_runs = num_runs\n",
    "        \n",
    "    def decision(self,i): #个体状态决策规则\n",
    "        influ = len([k for k in self.DG[i].get('prede',[]) if self.DG[k]['state'] == 1])           \n",
    "        prob = self.p + self.q*influ\n",
    "        if random.random() <= prob:\n",
    "            return True\n",
    "        else:\n",
    "            return False\n",
    "        \n",
    "    def single_diffuse(self): #单次扩散\n",
    "        self.DG = dc(self.G) #取网络的深层copy，以使原网络不被“污染” \n",
    "        for i in self.DG.nodes():\n",
    "            self.DG[i]['prede'] = self.DG.predecessors(i)\n",
    "            self.DG[i]['state'] = 0\n",
    "        non_adopt_set = [i for i in self.DG.nodes() if self.DG[i]['state'] == 0]\n",
    "        num_of_adopt = []\n",
    "        j = 1\n",
    "        while j <= self.num_runs:                                 \n",
    "            x = 0\n",
    "            random.shuffle(non_adopt_set)\n",
    "            for i in non_adopt_set:                   \n",
    "                if self.decision(i):\n",
    "                    self.DG[i]['state'] = 1\n",
    "                    non_adopt_set.remove(i)\n",
    "                    x = x+1\n",
    "            num_of_adopt.append(x)\n",
    "            j = j+1\n",
    "        return num_of_adopt\n",
    "    \n",
    "    def repete_diffuse(self): #多次扩散\n",
    "        adopt_cont = []\n",
    "        for i in range(self.repetes):\n",
    "            num_of_adopt = self.single_diffuse()\n",
    "            adopt_cont.append(num_of_adopt)\n",
    "        return adopt_cont"
   ]
  },
  {
   "cell_type": "code",
   "execution_count": 3,
   "metadata": {
    "collapsed": true
   },
   "outputs": [],
   "source": [
    "def generate_random_graph(degre_sequance):\n",
    "    G = nx.configuration_model(degre_sequance,create_using=None, seed=None)\n",
    "    G = nx.Graph(G)\n",
    "    G.remove_edges_from(G.selfloop_edges())\n",
    "\n",
    "    num_of_edges = nx.number_of_edges(G)\n",
    "    edges_list = G.edges()\n",
    "\n",
    "    if num_of_edges > 30000:\n",
    "        edges_to_drop = num_of_edges - 30000\n",
    "        x = np.random.choice(num_of_edges,edges_to_drop,replace=False)\n",
    "        for i in x:\n",
    "            a,b = edges_list[i]\n",
    "            G.remove_edge(a,b)\n",
    "    elif num_of_edges < 30000:\n",
    "        edges_to_add = 30000 - num_of_edges\n",
    "        x = np.random.choice(10000,edges_to_add*2,replace=False)\n",
    "        to_add_list = zip(x[:edges_to_add],x[edges_to_add:])\n",
    "        G.add_edges_from(to_add_list)\n",
    "    else:\n",
    "        pass\n",
    "    \n",
    "    return G"
   ]
  },
  {
   "cell_type": "code",
   "execution_count": 4,
   "metadata": {
    "collapsed": false
   },
   "outputs": [],
   "source": [
    "def get_M(x,s):  # 获取对应扩散率曲线的最优潜在市场容量\n",
    "    p,q = x[:2]\n",
    "    f = x[2:]\n",
    "    a = np.sum(np.square(x))/np.sum(s)  # 除以np.sum(self.s)是为减少a的大小\n",
    "    b = -2*np.sum(x*s)/np.sum(s)\n",
    "    c = np.sum(np.square(s))/np.sum(s)\n",
    "    mse,sigma = np.sqrt(sum(s)*(4*a*c - b**2)/(4*a*len(s))),-b/(2*a)\n",
    "    m = sigma*10000\n",
    "    return mse,p,q,m"
   ]
  },
  {
   "cell_type": "code",
   "execution_count": 5,
   "metadata": {
    "collapsed": false
   },
   "outputs": [],
   "source": [
    "lognorm_sequance = np.load('lognormal_sequance.npy')\n",
    "gaussian_sequance = np.load('gaussian_sequance.npy')\n",
    "exponential_sequance = np.load('exponential_sequance.npy')"
   ]
  },
  {
   "cell_type": "code",
   "execution_count": 7,
   "metadata": {
    "collapsed": true
   },
   "outputs": [],
   "source": [
    "text_set = ['lognorm','ba','exp','gau','er']"
   ]
  },
  {
   "cell_type": "code",
   "execution_count": 8,
   "metadata": {
    "collapsed": false
   },
   "outputs": [],
   "source": [
    "n = 10000\n",
    "k = 3\n",
    "nwk_cont = [generate_random_graph(lognorm_sequance),\n",
    "                    nx.barabasi_albert_graph(n,k),\n",
    "                    generate_random_graph(exponential_sequance),\n",
    "                    generate_random_graph(gaussian_sequance),\n",
    "                    nx.gnm_random_graph(n,k*n)]"
   ]
  },
  {
   "cell_type": "code",
   "execution_count": 9,
   "metadata": {
    "collapsed": true
   },
   "outputs": [],
   "source": [
    "pq_range = [(i,j) for i in np.arange(0.0005,0.0255,0.001) for j in np.arange(0.02,0.2,0.003)] #25*60=1500"
   ]
  },
  {
   "cell_type": "code",
   "execution_count": null,
   "metadata": {
    "collapsed": true
   },
   "outputs": [],
   "source": [
    "for u in range(5):\n",
    "    G = nwk_cont[u]\n",
    "    time1 = time.clock()\n",
    "    print '------------------%s------------------'%text_set[u]\n",
    "    diff_cont = []\n",
    "    k = 1\n",
    "    for p,q in pq_range:\n",
    "        diff = Diffuse(p,q,25,G)\n",
    "        temp = diff.repete_diffuse()\n",
    "        x = np.mean(temp,axis=0)\n",
    "        x = np.insert(x,0,[p,q])\n",
    "        diff_cont.append(x)\n",
    "        k = k+1\n",
    "        if k in [100,400,800,1200,1400]:\n",
    "            print '%s'%text_set[u],k,'runs:',time.clock()-time1,'s'\n",
    "            time1 = time.clock()\n",
    "\n",
    "    to_write = np.array(diff_cont)\n",
    "    np.save(\"diffusion data set for %s\"%text_set[u],to_write)"
   ]
  },
  {
   "cell_type": "code",
   "execution_count": null,
   "metadata": {
    "collapsed": true
   },
   "outputs": [],
   "source": [
    "text_set = ['lognorm','ba','exp','er','ws0','ws0.1','ws0.3','ws0.5','ws0.7','ws0.9']\n",
    "u = '/Users/xiaoyu/Documents/Dissertation/Fitting ABM/'\n",
    "db_lognorm = np.load(u+\"database for lognorm.npy\")\n",
    "db_er = np.load(u+\"database for er.npy\")\n",
    "db_ba = np.load(u+'database for ba.npy')\n",
    "db_exp = np.load(u+'database for exp.npy')"
   ]
  }
 ],
 "metadata": {
  "anaconda-cloud": {},
  "kernelspec": {
   "display_name": "Python 2",
   "language": "python",
   "name": "python2"
  },
  "language_info": {
   "codemirror_mode": {
    "name": "ipython",
    "version": 2
   },
   "file_extension": ".py",
   "mimetype": "text/x-python",
   "name": "python",
   "nbconvert_exporter": "python",
   "pygments_lexer": "ipython2",
   "version": "2.7.11"
  }
 },
 "nbformat": 4,
 "nbformat_minor": 0
}
