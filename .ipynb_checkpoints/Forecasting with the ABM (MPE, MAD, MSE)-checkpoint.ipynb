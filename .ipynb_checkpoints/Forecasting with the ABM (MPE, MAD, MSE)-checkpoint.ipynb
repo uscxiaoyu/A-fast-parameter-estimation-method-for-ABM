{
 "cells": [
  {
   "cell_type": "code",
   "execution_count": 1,
   "metadata": {
    "collapsed": true
   },
   "outputs": [],
   "source": [
    "from __future__ import division\n",
    "import numpy as np\n",
    "from copy import deepcopy as dc"
   ]
  },
  {
   "cell_type": "code",
   "execution_count": 43,
   "metadata": {
    "collapsed": true
   },
   "outputs": [],
   "source": [
    "class Random_Grid_Search:\n",
    "    t_n = 500 #抽样量\n",
    "    c_n = 50 #保留参数量\n",
    "    threshold = 1e-6 #循环停止阈值\n",
    "    orig_points = [] #初始化边界点\n",
    "    def __init__(self,s): #初始化实例参数\n",
    "        self.s = np.array(s)  #待拟合曲线\n",
    "        self.s_len = len(s)\n",
    "        self.para_range = [[1e-6,0.1],[1e-3,1],[sum(s),50*sum(s)]]  #参数范围\n",
    "        self.p_range = [[1e-6,0.1],[1e-3,1],[sum(s),50*sum(s)]]  #用于产生边界节点的参数范围 \n",
    "    \n",
    "    def gener_orig(self): #递归产生边界点\n",
    "        if len(self.p_range) == 0:\n",
    "            return\n",
    "        else:  \n",
    "            pa = self.p_range[-1]\n",
    "            if self.orig_points == []:\n",
    "                self.orig_points = [[pa[0]],[pa[1]]]  #初始化,排除orig_points为空的情形\n",
    "            else:\n",
    "                self.orig_points = [[pa[0]]+x for x in self.orig_points]+[[pa[1]]+x for x in self.orig_points]  #二分裂\n",
    "            self.p_range.pop()\n",
    "            return self.gener_orig()\n",
    "    \n",
    "    def sample(self,c_range): #抽样参数点\n",
    "        p_list = []\n",
    "        for pa in c_range:\n",
    "            if isinstance(pa[0],float):\n",
    "                x = (pa[1]-pa[0])*np.random.random(self.t_n) + pa[0]\n",
    "            else:\n",
    "                x = np.random.randint(low=pa[0],high=pa[1]+1,size=self.t_n)\n",
    "            p_list.append(x)\n",
    "\n",
    "        p_list = np.array(p_list).T\n",
    "        return p_list.tolist()\n",
    "    \n",
    "    def f(self,params): #扩散函数\n",
    "        diffu_cont = np.zeros(self.s_len)\n",
    "        t_list = np.arange(1,self.s_len+1)\n",
    "        a = np.array([1 - np.exp(-(params[0]+params[1])*t) for t in t_list])\n",
    "        b = np.array([1 + params[1]/params[0]*np.exp(-(params[0]+params[1])*t) for t in t_list])\n",
    "        diffu_cont = params[2]*a/b\n",
    "\n",
    "        adopt_cont = np.zeros_like(diffu_cont)\n",
    "        adopt_cont[0] = diffu_cont[0]\n",
    "        for t in xrange(1,self.s_len):\n",
    "            adopt_cont[t] = diffu_cont[t] - diffu_cont[t-1]\n",
    "\n",
    "        return adopt_cont\n",
    "    \n",
    "    def r2(self,params):\n",
    "        f_act = self.f(params)\n",
    "        tse = np.sum(np.square(self.s-f_act))\n",
    "        mean_y = np.mean(self.s)\n",
    "        ssl = np.sum(np.square(self.s-mean_y))\n",
    "        R_2 = (ssl-tse)/ssl\n",
    "        return R_2\n",
    "\n",
    "    def mse(self,params):  #定义适应度函数（mse）\n",
    "        a = self.f(params)\n",
    "        sse = np.sum(np.square(self.s-a))\n",
    "        return np.sqrt(sse)/self.s_len #均方误\n",
    "    \n",
    "    def optima_search(self):\n",
    "        self.gener_orig()\n",
    "        c_range = dc(self.para_range)\n",
    "        samp = self.sample(c_range)\n",
    "        solution = sorted([self.mse(x)]+x for x in samp+self.orig_points)[:self.c_n]\n",
    "        u = 1\n",
    "        while 1:\n",
    "            params_min = np.min(np.array(solution),0) #最小值\n",
    "            params_max = np.max(np.array(solution),0) #最大值\n",
    "            c_range = [[params_min[j+1],params_max[j+1]] for j in range(len(c_range))] #重新定界\n",
    "            samp = self.sample(c_range)\n",
    "            solution = sorted([[self.mse(x)]+x for x in samp]+solution)[:self.c_n]\n",
    "            r = sorted([x[0] for x in solution])\n",
    "            v = (r[-1]-r[0])/r[0]\n",
    "            if v < self.threshold:        \n",
    "                break\n",
    "            if u > 100:\n",
    "                print 'Searching ends in 100 runs'\n",
    "                break\n",
    "            u+=1\n",
    "        return solution[0]  #sse,p,q,m"
   ]
  },
  {
   "cell_type": "code",
   "execution_count": 3,
   "metadata": {
    "collapsed": true
   },
   "outputs": [],
   "source": [
    "def bass_diff(params,s_len): #扩散函数\n",
    "    diffu_cont = np.zeros(s_len)\n",
    "    t_list = np.arange(1,s_len+1)\n",
    "    a = np.array([1 - np.exp(-(params[0]+params[1])*t) for t in t_list])\n",
    "    b = np.array([1 + params[1]/params[0]*np.exp(-(params[0]+params[1])*t) for t in t_list])\n",
    "    diffu_cont = params[2]*a/b\n",
    "\n",
    "    adopt_cont = np.zeros_like(diffu_cont)\n",
    "    adopt_cont[0] = diffu_cont[0]\n",
    "    for t in xrange(1,s_len):\n",
    "        adopt_cont[t] = diffu_cont[t] - diffu_cont[t-1]\n",
    "\n",
    "    return adopt_cont"
   ]
  },
  {
   "cell_type": "code",
   "execution_count": 4,
   "metadata": {
    "collapsed": true
   },
   "outputs": [],
   "source": [
    "def get_M(x,s):  # 获取对应扩散率曲线的最优潜在市场容量\n",
    "    len_s = len(s)\n",
    "    p,q = x[:2]\n",
    "    f = x[2:len_s+2]\n",
    "    a = np.sum(np.square(f))/np.sum(s)  # 除以np.sum(self.s)是为减少a的大小\n",
    "    b = -2*np.sum(f*s)/np.sum(s)\n",
    "    c = np.sum(np.square(s))/np.sum(s)\n",
    "    mse,sigma = np.sqrt(sum(s)*(4*a*c - b**2)/(4*a*len_s)),-b/(2*a)\n",
    "    m = sigma*10000\n",
    "    return mse,m"
   ]
  },
  {
   "cell_type": "code",
   "execution_count": 5,
   "metadata": {
    "collapsed": true
   },
   "outputs": [],
   "source": [
    "def fit(db,s):\n",
    "    f_cont = [get_M(d,s) for d in db]\n",
    "    idx = np.argmin([x[0] for x in f_cont])\n",
    "    return {'m':f_cont[idx][1],'p':db[idx][0],'q':db[idx][1],'curve':db[idx][2:]*f_cont[idx][1]/10000}"
   ]
  },
  {
   "cell_type": "code",
   "execution_count": 6,
   "metadata": {
    "collapsed": true
   },
   "outputs": [],
   "source": [
    "def r2(s,f_act):\n",
    "    f_act = np.array(f_act[:len(s)])\n",
    "    tse = np.sum(np.square(s-f_act))\n",
    "    mean_y = np.mean(s)\n",
    "    ssl = np.sum(np.square(s-mean_y))\n",
    "    R_2 = (ssl-tse)/ssl\n",
    "    return R_2"
   ]
  },
  {
   "cell_type": "code",
   "execution_count": 7,
   "metadata": {
    "collapsed": true
   },
   "outputs": [],
   "source": [
    "def ahead_predict(db,s):\n",
    "    len_s = len(s)\n",
    "    one_step = []\n",
    "    two_step = []\n",
    "    three_step = []\n",
    "    four_step = []\n",
    "    for i in range(4,len_s-1):\n",
    "        res = fit(db,s[:i])\n",
    "        c = res['curve']\n",
    "        one = abs(c[i]-s[i])/s[i]\n",
    "        one_step.append(one)\n",
    "        \n",
    "        if i+1 <= len_s-1:\n",
    "            two = abs(c[i+1]-s[i+1])/s[i+1]\n",
    "            two_step.append(np.mean([one,two]))\n",
    "        \n",
    "        if i+2 <= len_s-1:\n",
    "            three = abs(c[i+2]-s[i+2])/s[i+2]\n",
    "            three_step.append(np.mean([one,two,three]))\n",
    "        \n",
    "        if i+3 <= len_s-1:\n",
    "            four = abs(c[i+3]-s[i+3])/s[i+3]\n",
    "            four_step.append(np.mean([one,two,three,four]))\n",
    "        \n",
    "    return [np.mean(one_step),np.mean(two_step),np.mean(three_step),np.mean(four_step)]"
   ]
  },
  {
   "cell_type": "code",
   "execution_count": 15,
   "metadata": {
    "collapsed": true
   },
   "outputs": [],
   "source": [
    "def combine_predict(db_cont,s):\n",
    "    len_s = len(s)\n",
    "    one_step = []\n",
    "    w_list = [1/len(db_cont) for l in range(len(db_cont))] #初始权重\n",
    "    for i in range(4,len_s-1):\n",
    "        one_list = []\n",
    "        s_list = []\n",
    "        for db in db_cont:\n",
    "            res = fit(db,s[:i])\n",
    "            one = abs(res['curve'][i]-s[i])/s[i]\n",
    "            s_list.append(res['curve'][i])\n",
    "            one_list.append(one)\n",
    "        \n",
    "        com_pred = np.sum(np.multiply(s_list,w_list))\n",
    "        one_list.append(abs(com_pred-s[i])/s[i])\n",
    "        one_step.append(one_list)\n",
    "        \n",
    "        trans_list = [ (max(one_list)-x)/(max(one_list)-min(one_list)) for x in one_list[:len(db_cont)]]\n",
    "        w_update = [a+3*b for a,b in zip(w_list,trans_list)] #先验和后验1:3\n",
    "        w_list = [x/sum(w_update) for x in  w_update]   #学习，更新权重\n",
    "        \n",
    "    return one_step"
   ]
  },
  {
   "cell_type": "code",
   "execution_count": 9,
   "metadata": {
    "collapsed": true
   },
   "outputs": [],
   "source": [
    "def bass_predict(s):\n",
    "    len_s = len(s)\n",
    "    one_step = []\n",
    "    two_step = []\n",
    "    three_step = []\n",
    "    four_step = []\n",
    "    for i in range(4,len_s-1):\n",
    "        rgs = Random_Grid_Search(s[:i])\n",
    "        res = rgs.optima_search()\n",
    "        c = bass_diff(res[1:],25)\n",
    "        one = abs(c[i]-s[i])/s[i]\n",
    "        one_step.append(one)\n",
    "        \n",
    "        if i+1 <= len_s-1:\n",
    "            two = abs(c[i+1]-s[i+1])/s[i+1]\n",
    "            two_step.append(np.mean([one,two]))\n",
    "        \n",
    "        if i+2 <= len_s-1:\n",
    "            three = abs(c[i+2]-s[i+2])/s[i+2]\n",
    "            three_step.append(np.mean([one,two,three]))\n",
    "        \n",
    "        if i+3 <= len_s-1:\n",
    "            four = abs(c[i+3]-s[i+3])/s[i+3]\n",
    "            four_step.append(np.mean([one,two,three,four]))\n",
    "        \n",
    "    return [np.mean(one_step),np.mean(two_step),np.mean(three_step),np.mean(four_step)]"
   ]
  },
  {
   "cell_type": "code",
   "execution_count": 28,
   "metadata": {
    "collapsed": true
   },
   "outputs": [],
   "source": [
    "text_set = ['lognorm','ba','exp','gau','er','ws0','ws0.1','ws0.3','ws0.5','ws0.7','ws0.9']\n",
    "db_lognorm = np.load(\"diffusion data set for lognorm.npy\")\n",
    "db_ba = np.load(\"diffusion data set for ba.npy\")\n",
    "db_gau = np.load('diffusion data set for gau.npy')\n",
    "db_exp = np.load('diffusion data set for exp.npy')\n",
    "db_er = np.load('diffusion data set for er.npy')\n",
    "\n",
    "db_ws0 = np.load('diffusion data set for ws0.npy')\n",
    "db_ws1 = np.load('diffusion data set for ws0.1.npy')\n",
    "db_ws3 = np.load('diffusion data set for ws0.3.npy')\n",
    "db_ws5 = np.load('diffusion data set for ws0.5.npy')\n",
    "db_ws7 = np.load('diffusion data set for ws0.7.npy')\n",
    "db_ws9 = np.load('diffusion data set for ws0.9.npy')"
   ]
  },
  {
   "cell_type": "code",
   "execution_count": 29,
   "metadata": {
    "collapsed": true
   },
   "outputs": [],
   "source": [
    "db_cont = [ np.load('diffusion data set for %s.npy'%tx) for tx in text_set]"
   ]
  },
  {
   "cell_type": "code",
   "execution_count": 12,
   "metadata": {
    "collapsed": true
   },
   "outputs": [],
   "source": [
    "data_set = {'room air conditioners':(np.arange(1949,1962),[96,195,238,380,1045,1230,1267,1828,1586,1673,1800,1580,1500]),\n",
    "                        'color televisions':(np.arange(1963,1971),[747,1480,2646,5118,5777,5982,5962,4631]),\n",
    "                        'clothers dryers':(np.arange(1949,1962),[106,319,492,635,737,890,1397,1523,1294,1240,1425,1260,1236])}"
   ]
  },
  {
   "cell_type": "markdown",
   "metadata": {},
   "source": [
    "### combined prediction"
   ]
  },
  {
   "cell_type": "code",
   "execution_count": 30,
   "metadata": {
    "collapsed": true
   },
   "outputs": [],
   "source": [
    "s = np.array(data_set['room air conditioners'][1])"
   ]
  },
  {
   "cell_type": "code",
   "execution_count": 35,
   "metadata": {
    "collapsed": false
   },
   "outputs": [],
   "source": [
    "res = combine_predict(db_cont,s)"
   ]
  },
  {
   "cell_type": "code",
   "execution_count": 37,
   "metadata": {
    "collapsed": false
   },
   "outputs": [
    {
     "data": {
      "text/plain": [
       "array([ 0.20447131,  0.26128784,  0.27724472,  0.25828417,  0.26930306,\n",
       "        0.23256352,  0.25408599,  0.28625236,  0.27680817,  0.29590387,\n",
       "        0.28951102,  0.27691696])"
      ]
     },
     "execution_count": 37,
     "metadata": {},
     "output_type": "execute_result"
    }
   ],
   "source": [
    "np.mean(res,axis=0)"
   ]
  },
  {
   "cell_type": "markdown",
   "metadata": {},
   "source": [
    "### 1,2,3,4步预测"
   ]
  },
  {
   "cell_type": "code",
   "execution_count": 46,
   "metadata": {
    "collapsed": false
   },
   "outputs": [
    {
     "name": "stdout",
     "output_type": "stream",
     "text": [
      "Searching ends in 100 runs\n",
      "model         one         two         three     four      \n",
      "bass           0.303     0.421     0.559     0.793    \n",
      "lognorm     0.204     0.274     0.338     0.455    \n",
      "ba               0.261     0.319     0.394     0.55      \n",
      "exp             0.277     0.396     0.503     0.683    \n",
      "gau             0.258     0.351     0.451     0.609    \n",
      "er               0.269     0.394     0.521     0.707    \n",
      "ws0             0.233     0.243     0.249     0.259    \n",
      "ws0.1         0.254     0.31       0.416     0.592    \n",
      "ws0.3         0.286     0.352     0.486     0.676    \n",
      "ws0.5         0.277     0.392     0.508     0.661    \n",
      "ws0.7         0.296     0.429     0.553     0.71      \n",
      "ws0.9         0.29       0.4         0.522     0.7        \n"
     ]
    }
   ],
   "source": [
    "to_print = []\n",
    "to_print.append(['model', 'one', 'two', 'three', 'four'])\n",
    "res = bass_predict(s)\n",
    "to_print.append(['bass',str(round(res[0],3)),str(round(res[1],3)),str(round(res[2],3)),str(round(res[3],3))])\n",
    "for tx in text_set:\n",
    "    db = np.load('diffusion data set for %s.npy'%tx)\n",
    "    res = ahead_predict(db,s)\n",
    "    to_print.append([tx,str(round(res[0],3)),str(round(res[1],3)),str(round(res[2],3)),str(round(res[3],3))])\n",
    "    \n",
    "l_list = []\n",
    "for x in to_print:\n",
    "    l_list.append([len(l) for l in x])\n",
    "l_list = np.array(l_list)\n",
    "l_max = np.max(l_list,axis=0)\n",
    "\n",
    "for i in range(len(to_print)):\n",
    "    for j in range(5):\n",
    "        print to_print[i][j]+'  '*(l_max[j]+2-len(to_print[i][j])),\n",
    "    print"
   ]
  },
  {
   "cell_type": "code",
   "execution_count": null,
   "metadata": {
    "collapsed": true
   },
   "outputs": [],
   "source": [
    "import csv"
   ]
  },
  {
   "cell_type": "code",
   "execution_count": 39,
   "metadata": {
    "collapsed": true
   },
   "outputs": [],
   "source": [
    "k = 'room air conditioners'\n",
    "s = data_set[k][1]"
   ]
  },
  {
   "cell_type": "code",
   "execution_count": 40,
   "metadata": {
    "collapsed": false
   },
   "outputs": [
    {
     "name": "stdout",
     "output_type": "stream",
     "text": [
      "Searching ends in 100 runs\n"
     ]
    }
   ],
   "source": [
    "with open('%s.csv'%k, 'wb') as f:\n",
    "    writer = csv.writer(f)\n",
    "    writer.writerow([\"Model\", \"one step\", \"two steps\", \"three steps\",'four steps'])\n",
    "    res = bass_predict(s)\n",
    "    p =  ['bass']+[round(a,3) for a in res]\n",
    "    writer.writerow(p)\n",
    "    for tx in text_set:\n",
    "        db = np.load('diffusion data set for %s.npy'%tx)\n",
    "        res = ahead_predict(db,s)\n",
    "        p = ['%s'%tx]+[round(a,3) for a in res]\n",
    "        print p\n",
    "        writer.writerow(p)"
   ]
  },
  {
   "cell_type": "code",
   "execution_count": 18,
   "metadata": {
    "collapsed": false
   },
   "outputs": [],
   "source": [
    "%matplotlib inline\n",
    "import pylab as pl"
   ]
  },
  {
   "cell_type": "code",
   "execution_count": 45,
   "metadata": {
    "collapsed": true
   },
   "outputs": [],
   "source": [
    "s = data_set['room air conditioners'][1]"
   ]
  },
  {
   "cell_type": "code",
   "execution_count": 46,
   "metadata": {
    "collapsed": true
   },
   "outputs": [],
   "source": [
    "f =fit(db_ba,s[:11])\n",
    "rgs = Random_Grid_Search(s[:11])\n",
    "res = rgs.optima_search()\n",
    "c = bass_diff(res[1:],25)"
   ]
  },
  {
   "cell_type": "code",
   "execution_count": 47,
   "metadata": {
    "collapsed": false
   },
   "outputs": [
    {
     "data": {
      "text/plain": [
       "[<matplotlib.lines.Line2D at 0x72fa5f0>]"
      ]
     },
     "execution_count": 47,
     "metadata": {},
     "output_type": "execute_result"
    },
    {
     "data": {
      "image/png": "[encoded data removed]",
      "text/plain": [
       "<matplotlib.figure.Figure at 0x79ec250>"
      ]
     },
     "metadata": {},
     "output_type": "display_data"
    }
   ],
   "source": [
    "pl.plot(f['curve'],'k-')\n",
    "pl.plot(s,'bo')\n",
    "pl.plot(c,'m-')"
   ]
  },
  {
   "cell_type": "code",
   "execution_count": 34,
   "metadata": {
    "collapsed": true
   },
   "outputs": [],
   "source": [
    "text_set = ['lognorm','ba','exp','gau','er','ws0','ws0.1','ws0.3','ws0.5','ws0.7']"
   ]
  },
  {
   "cell_type": "code",
   "execution_count": 43,
   "metadata": {
    "collapsed": true
   },
   "outputs": [],
   "source": [
    "s = np.array(data_set['color televisions'][1])"
   ]
  },
  {
   "cell_type": "code",
   "execution_count": 44,
   "metadata": {
    "collapsed": false
   },
   "outputs": [
    {
     "name": "stdout",
     "output_type": "stream",
     "text": [
      "model\t p\t q\t m\t R2\n",
      "lognorm\t 0.0095\t 0.0530\t 76789\t 0.9867\n",
      "ba\t 0.0065\t 0.0950\t 50615\t 0.9861\n",
      "exp\t 0.0125\t 0.0830\t 56173\t 0.9810\n",
      "gau\t 0.0125\t 0.1160\t 46230\t 0.9803\n",
      "er\t 0.0115\t 0.1370\t 42572\t 0.9847\n",
      "ws0\t 0.0095\t 0.1790\t 61267\t 0.9339\n",
      "ws0.1\t 0.0095\t 0.1970\t 44288\t 0.9764\n",
      "ws0.3\t 0.0115\t 0.1670\t 40841\t 0.9809\n",
      "ws0.5\t 0.0125\t 0.1490\t 41677\t 0.9800\n",
      "ws0.7\t 0.0125\t 0.1430\t 42099\t 0.9801\n"
     ]
    }
   ],
   "source": [
    "print 'model\\t p\\t q\\t m\\t R2'\n",
    "for tx in text_set:\n",
    "    db = np.load('diffusion data set for %s.npy'%tx)\n",
    "    res = fit(db,s)\n",
    "    fitness = r2(s,res['curve'])\n",
    "    print '%s\\t %.4f\\t %.4f\\t %d\\t %.4f'%(tx,res['p'],res['q'],res['m'],fitness)"
   ]
  },
  {
   "cell_type": "code",
   "execution_count": 40,
   "metadata": {
    "collapsed": false
   },
   "outputs": [
    {
     "data": {
      "text/plain": [
       "array([  250.52747434,   296.80718019,   427.31595069,   578.18779176,\n",
       "         811.74604062,  1058.26260712,  1278.55400697,  1362.47454025,\n",
       "        1419.8613755 ,  1376.97551475,  1346.73944026,  1258.1909364 ,\n",
       "        1151.43908157,  1100.22287376,   976.50179345,   917.26376996,\n",
       "         855.24896412,   799.40478573,   743.25207596,   698.82355835,\n",
       "         645.13909956,   594.84848587,   545.48346629,   540.85549571,\n",
       "         508.15117024])"
      ]
     },
     "execution_count": 40,
     "metadata": {},
     "output_type": "execute_result"
    }
   ],
   "source": [
    "res['curve']"
   ]
  },
  {
   "cell_type": "code",
   "execution_count": null,
   "metadata": {
    "collapsed": true
   },
   "outputs": [],
   "source": []
  }
 ],
 "metadata": {
  "kernelspec": {
   "display_name": "Python 2",
   "language": "python",
   "name": "python2"
  },
  "language_info": {
   "codemirror_mode": {
    "name": "ipython",
    "version": 2
   },
   "file_extension": ".py",
   "mimetype": "text/x-python",
   "name": "python",
   "nbconvert_exporter": "python",
   "pygments_lexer": "ipython2",
   "version": "2.7.10"
  }
 },
 "nbformat": 4,
 "nbformat_minor": 0
}
